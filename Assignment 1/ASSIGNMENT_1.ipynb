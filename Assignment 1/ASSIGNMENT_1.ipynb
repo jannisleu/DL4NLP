{
  "cells": [
    {
      "cell_type": "markdown",
      "metadata": {
        "id": "ighIhhiLaBtR"
      },
      "source": [
        "## Practical Exercise 1: An Introduction to Word Embeddings and Word2Vec"
      ]
    },
    {
      "cell_type": "markdown",
      "metadata": {
        "id": "QRKl0OAYcvl2"
      },
      "source": [
        "Before we start, we would like to highlight that each of the three notebooks will contribute equally to your final grade."
      ]
    },
    {
      "cell_type": "markdown",
      "metadata": {
        "id": "qCmr1p64aBtW"
      },
      "source": [
        "This practical Exercise is presented as an IPython Notebook, with the code written for recent versions of **Python 3**.\n",
        "\n",
        "Before working with this notebook, you need to execute some of the pre-coded cells (to load libraries/functions/modules etc.). To execute one notebook cell, press `shift-enter`. The return value of the last command will be displayed, if it is not `None`.\n",
        "\n",
        "Below is a list with potentially useful library documentation, references, and resources:\n",
        "\n",
        "* IPython notebooks: <https://ipython.org/ipython-doc/3/notebook/notebook.html#introduction>\n",
        "* Numpy numerical array library: <https://docs.scipy.org/doc/>\n",
        "* Gensim's word2vec: <https://radimrehurek.com/gensim/models/word2vec.html>\n",
        "* Bokeh interactive plots: <http://bokeh.pydata.org/en/latest/> (we provide plotting code here, but click the thumbnails for more examples to copy-paste)\n",
        "* scikit-learn ML library (aka `sklearn`): <http://scikit-learn.org/stable/documentation.html>\n",
        "* nltk NLP toolkit: <http://www.nltk.org/>\n",
        "* tutorial for processing xml in python using `lxml`: <http://lxml.de/tutorial.html> (we did this for you below, but in case you need it in the future)"
      ]
    },
    {
      "cell_type": "markdown",
      "metadata": {
        "id": "3-9ymQ4XRUtG"
      },
      "source": [
        "#### Introduction & imports"
      ]
    },
    {
      "cell_type": "markdown",
      "metadata": {
        "id": "5fOOU1S7cvl8"
      },
      "source": [
        "In this notebook you will familiarize yourselves with constructing and using word-embeddings. As you recall from the lecture, word-embeddings are a type of word representation that allow words with similar meaning to have similar representations. This can be achieved by representing words as real-valued vectors in a predefined vector space. However, before delving into the embedding process, you will need to learn how to use some basic NLP tools like tokenization and regular expressions!\n",
        "Good Luck and happy coding!"
      ]
    },
    {
      "cell_type": "code",
      "execution_count": 1,
      "metadata": {
        "id": "569W6MImaBtX"
      },
      "outputs": [
        {
          "data": {
            "text/html": [
              "<style>\n",
              "        .bk-notebook-logo {\n",
              "            display: block;\n",
              "            width: 20px;\n",
              "            height: 20px;\n",
              "            background-image: url(data:image/png;base64,iVBORw0KGgoAAAANSUhEUgAAABQAAAAUCAYAAACNiR0NAAAABHNCSVQICAgIfAhkiAAAAAlwSFlzAAALEgAACxIB0t1+/AAAABx0RVh0U29mdHdhcmUAQWRvYmUgRmlyZXdvcmtzIENTNui8sowAAAOkSURBVDiNjZRtaJVlGMd/1/08zzln5zjP1LWcU9N0NkN8m2CYjpgQYQXqSs0I84OLIC0hkEKoPtiH3gmKoiJDU7QpLgoLjLIQCpEsNJ1vqUOdO7ppbuec5+V+rj4ctwzd8IIbbi6u+8f1539dt3A78eXC7QizUF7gyV1fD1Yqg4JWz84yffhm0qkFqBogB9rM8tZdtwVsPUhWhGcFJngGeWrPzHm5oaMmkfEg1usvLFyc8jLRqDOMru7AyC8saQr7GG7f5fvDeH7Ej8CM66nIF+8yngt6HWaKh7k49Soy9nXurCi1o3qUbS3zWfrYeQDTB/Qj6kX6Ybhw4B+bOYoLKCC9H3Nu/leUTZ1JdRWkkn2ldcCamzrcf47KKXdAJllSlxAOkRgyHsGC/zRday5Qld9DyoM4/q/rUoy/CXh3jzOu3bHUVZeU+DEn8FInkPBFlu3+nW3Nw0mk6vCDiWg8CeJaxEwuHS3+z5RgY+YBR6V1Z1nxSOfoaPa4LASWxxdNp+VWTk7+4vzaou8v8PN+xo+KY2xsw6une2frhw05CTYOmQvsEhjhWjn0bmXPjpE1+kplmmkP3suftwTubK9Vq22qKmrBhpY4jvd5afdRA3wGjFAgcnTK2s4hY0/GPNIb0nErGMCRxWOOX64Z8RAC4oCXdklmEvcL8o0BfkNK4lUg9HTl+oPlQxdNo3Mg4Nv175e/1LDGzZen30MEjRUtmXSfiTVu1kK8W4txyV6BMKlbgk3lMwYCiusNy9fVfvvwMxv8Ynl6vxoByANLTWplvuj/nF9m2+PDtt1eiHPBr1oIfhCChQMBw6Aw0UulqTKZdfVvfG7VcfIqLG9bcldL/+pdWTLxLUy8Qq38heUIjh4XlzZxzQm19lLFlr8vdQ97rjZVOLf8nclzckbcD4wxXMidpX30sFd37Fv/GtwwhzhxGVAprjbg0gCAEeIgwCZyTV2Z1REEW8O4py0wsjeloKoMr6iCY6dP92H6Vw/oTyICIthibxjm/DfN9lVz8IqtqKYLUXfoKVMVQVVJOElGjrnnUt9T9wbgp8AyYKaGlqingHZU/uG2NTZSVqwHQTWkx9hxjkpWDaCg6Ckj5qebgBVbT3V3NNXMSiWSDdGV3hrtzla7J+duwPOToIg42ChPQOQjspnSlp1V+Gjdged7+8UN5CRAV7a5EdFNwCjEaBR27b3W890TE7g24NAP/mMDXRWrGoFPQI9ls/MWO2dWFAar/xcOIImbbpA3zgAAAABJRU5ErkJggg==);\n",
              "        }\n",
              "    </style>\n",
              "    <div>\n",
              "        <a href=\"https://bokeh.org\" target=\"_blank\" class=\"bk-notebook-logo\"></a>\n",
              "        <span id=\"b4b6027e-1a66-4cec-8e2c-470836147172\">Loading BokehJS ...</span>\n",
              "    </div>\n"
            ]
          },
          "metadata": {},
          "output_type": "display_data"
        },
        {
          "data": {
            "application/javascript": "(function(root) {\n  function now() {\n    return new Date();\n  }\n\n  const force = true;\n\n  if (typeof root._bokeh_onload_callbacks === \"undefined\" || force === true) {\n    root._bokeh_onload_callbacks = [];\n    root._bokeh_is_loading = undefined;\n  }\n\nconst JS_MIME_TYPE = 'application/javascript';\n  const HTML_MIME_TYPE = 'text/html';\n  const EXEC_MIME_TYPE = 'application/vnd.bokehjs_exec.v0+json';\n  const CLASS_NAME = 'output_bokeh rendered_html';\n\n  /**\n   * Render data to the DOM node\n   */\n  function render(props, node) {\n    const script = document.createElement(\"script\");\n    node.appendChild(script);\n  }\n\n  /**\n   * Handle when an output is cleared or removed\n   */\n  function handleClearOutput(event, handle) {\n    const cell = handle.cell;\n\n    const id = cell.output_area._bokeh_element_id;\n    const server_id = cell.output_area._bokeh_server_id;\n    // Clean up Bokeh references\n    if (id != null && id in Bokeh.index) {\n      Bokeh.index[id].model.document.clear();\n      delete Bokeh.index[id];\n    }\n\n    if (server_id !== undefined) {\n      // Clean up Bokeh references\n      const cmd_clean = \"from bokeh.io.state import curstate; print(curstate().uuid_to_server['\" + server_id + \"'].get_sessions()[0].document.roots[0]._id)\";\n      cell.notebook.kernel.execute(cmd_clean, {\n        iopub: {\n          output: function(msg) {\n            const id = msg.content.text.trim();\n            if (id in Bokeh.index) {\n              Bokeh.index[id].model.document.clear();\n              delete Bokeh.index[id];\n            }\n          }\n        }\n      });\n      // Destroy server and session\n      const cmd_destroy = \"import bokeh.io.notebook as ion; ion.destroy_server('\" + server_id + \"')\";\n      cell.notebook.kernel.execute(cmd_destroy);\n    }\n  }\n\n  /**\n   * Handle when a new output is added\n   */\n  function handleAddOutput(event, handle) {\n    const output_area = handle.output_area;\n    const output = handle.output;\n\n    // limit handleAddOutput to display_data with EXEC_MIME_TYPE content only\n    if ((output.output_type != \"display_data\") || (!Object.prototype.hasOwnProperty.call(output.data, EXEC_MIME_TYPE))) {\n      return\n    }\n\n    const toinsert = output_area.element.find(\".\" + CLASS_NAME.split(' ')[0]);\n\n    if (output.metadata[EXEC_MIME_TYPE][\"id\"] !== undefined) {\n      toinsert[toinsert.length - 1].firstChild.textContent = output.data[JS_MIME_TYPE];\n      // store reference to embed id on output_area\n      output_area._bokeh_element_id = output.metadata[EXEC_MIME_TYPE][\"id\"];\n    }\n    if (output.metadata[EXEC_MIME_TYPE][\"server_id\"] !== undefined) {\n      const bk_div = document.createElement(\"div\");\n      bk_div.innerHTML = output.data[HTML_MIME_TYPE];\n      const script_attrs = bk_div.children[0].attributes;\n      for (let i = 0; i < script_attrs.length; i++) {\n        toinsert[toinsert.length - 1].firstChild.setAttribute(script_attrs[i].name, script_attrs[i].value);\n        toinsert[toinsert.length - 1].firstChild.textContent = bk_div.children[0].textContent\n      }\n      // store reference to server id on output_area\n      output_area._bokeh_server_id = output.metadata[EXEC_MIME_TYPE][\"server_id\"];\n    }\n  }\n\n  function register_renderer(events, OutputArea) {\n\n    function append_mime(data, metadata, element) {\n      // create a DOM node to render to\n      const toinsert = this.create_output_subarea(\n        metadata,\n        CLASS_NAME,\n        EXEC_MIME_TYPE\n      );\n      this.keyboard_manager.register_events(toinsert);\n      // Render to node\n      const props = {data: data, metadata: metadata[EXEC_MIME_TYPE]};\n      render(props, toinsert[toinsert.length - 1]);\n      element.append(toinsert);\n      return toinsert\n    }\n\n    /* Handle when an output is cleared or removed */\n    events.on('clear_output.CodeCell', handleClearOutput);\n    events.on('delete.Cell', handleClearOutput);\n\n    /* Handle when a new output is added */\n    events.on('output_added.OutputArea', handleAddOutput);\n\n    /**\n     * Register the mime type and append_mime function with output_area\n     */\n    OutputArea.prototype.register_mime_type(EXEC_MIME_TYPE, append_mime, {\n      /* Is output safe? */\n      safe: true,\n      /* Index of renderer in `output_area.display_order` */\n      index: 0\n    });\n  }\n\n  // register the mime type if in Jupyter Notebook environment and previously unregistered\n  if (root.Jupyter !== undefined) {\n    const events = require('base/js/events');\n    const OutputArea = require('notebook/js/outputarea').OutputArea;\n\n    if (OutputArea.prototype.mime_types().indexOf(EXEC_MIME_TYPE) == -1) {\n      register_renderer(events, OutputArea);\n    }\n  }\n  if (typeof (root._bokeh_timeout) === \"undefined\" || force === true) {\n    root._bokeh_timeout = Date.now() + 5000;\n    root._bokeh_failed_load = false;\n  }\n\n  const NB_LOAD_WARNING = {'data': {'text/html':\n     \"<div style='background-color: #fdd'>\\n\"+\n     \"<p>\\n\"+\n     \"BokehJS does not appear to have successfully loaded. If loading BokehJS from CDN, this \\n\"+\n     \"may be due to a slow or bad network connection. Possible fixes:\\n\"+\n     \"</p>\\n\"+\n     \"<ul>\\n\"+\n     \"<li>re-rerun `output_notebook()` to attempt to load from CDN again, or</li>\\n\"+\n     \"<li>use INLINE resources instead, as so:</li>\\n\"+\n     \"</ul>\\n\"+\n     \"<code>\\n\"+\n     \"from bokeh.resources import INLINE\\n\"+\n     \"output_notebook(resources=INLINE)\\n\"+\n     \"</code>\\n\"+\n     \"</div>\"}};\n\n  function display_loaded() {\n    const el = document.getElementById(\"b4b6027e-1a66-4cec-8e2c-470836147172\");\n    if (el != null) {\n      el.textContent = \"BokehJS is loading...\";\n    }\n    if (root.Bokeh !== undefined) {\n      if (el != null) {\n        el.textContent = \"BokehJS \" + root.Bokeh.version + \" successfully loaded.\";\n      }\n    } else if (Date.now() < root._bokeh_timeout) {\n      setTimeout(display_loaded, 100)\n    }\n  }\n\n  function run_callbacks() {\n    try {\n      root._bokeh_onload_callbacks.forEach(function(callback) {\n        if (callback != null)\n          callback();\n      });\n    } finally {\n      delete root._bokeh_onload_callbacks\n    }\n    console.debug(\"Bokeh: all callbacks have finished\");\n  }\n\n  function load_libs(css_urls, js_urls, callback) {\n    if (css_urls == null) css_urls = [];\n    if (js_urls == null) js_urls = [];\n\n    root._bokeh_onload_callbacks.push(callback);\n    if (root._bokeh_is_loading > 0) {\n      console.debug(\"Bokeh: BokehJS is being loaded, scheduling callback at\", now());\n      return null;\n    }\n    if (js_urls == null || js_urls.length === 0) {\n      run_callbacks();\n      return null;\n    }\n    console.debug(\"Bokeh: BokehJS not loaded, scheduling load and callback at\", now());\n    root._bokeh_is_loading = css_urls.length + js_urls.length;\n\n    function on_load() {\n      root._bokeh_is_loading--;\n      if (root._bokeh_is_loading === 0) {\n        console.debug(\"Bokeh: all BokehJS libraries/stylesheets loaded\");\n        run_callbacks()\n      }\n    }\n\n    function on_error(url) {\n      console.error(\"failed to load \" + url);\n    }\n\n    for (let i = 0; i < css_urls.length; i++) {\n      const url = css_urls[i];\n      const element = document.createElement(\"link\");\n      element.onload = on_load;\n      element.onerror = on_error.bind(null, url);\n      element.rel = \"stylesheet\";\n      element.type = \"text/css\";\n      element.href = url;\n      console.debug(\"Bokeh: injecting link tag for BokehJS stylesheet: \", url);\n      document.body.appendChild(element);\n    }\n\n    for (let i = 0; i < js_urls.length; i++) {\n      const url = js_urls[i];\n      const element = document.createElement('script');\n      element.onload = on_load;\n      element.onerror = on_error.bind(null, url);\n      element.async = false;\n      element.src = url;\n      console.debug(\"Bokeh: injecting script tag for BokehJS library: \", url);\n      document.head.appendChild(element);\n    }\n  };\n\n  function inject_raw_css(css) {\n    const element = document.createElement(\"style\");\n    element.appendChild(document.createTextNode(css));\n    document.body.appendChild(element);\n  }\n\n  const js_urls = [\"https://cdn.bokeh.org/bokeh/release/bokeh-3.2.1.min.js\", \"https://cdn.bokeh.org/bokeh/release/bokeh-gl-3.2.1.min.js\", \"https://cdn.bokeh.org/bokeh/release/bokeh-widgets-3.2.1.min.js\", \"https://cdn.bokeh.org/bokeh/release/bokeh-tables-3.2.1.min.js\", \"https://cdn.bokeh.org/bokeh/release/bokeh-mathjax-3.2.1.min.js\"];\n  const css_urls = [];\n\n  const inline_js = [    function(Bokeh) {\n      Bokeh.set_log_level(\"info\");\n    },\nfunction(Bokeh) {\n    }\n  ];\n\n  function run_inline_js() {\n    if (root.Bokeh !== undefined || force === true) {\n          for (let i = 0; i < inline_js.length; i++) {\n      inline_js[i].call(root, root.Bokeh);\n    }\nif (force === true) {\n        display_loaded();\n      }} else if (Date.now() < root._bokeh_timeout) {\n      setTimeout(run_inline_js, 100);\n    } else if (!root._bokeh_failed_load) {\n      console.log(\"Bokeh: BokehJS failed to load within specified timeout.\");\n      root._bokeh_failed_load = true;\n    } else if (force !== true) {\n      const cell = $(document.getElementById(\"b4b6027e-1a66-4cec-8e2c-470836147172\")).parents('.cell').data().cell;\n      cell.output_area.append_execute_result(NB_LOAD_WARNING)\n    }\n  }\n\n  if (root._bokeh_is_loading === 0) {\n    console.debug(\"Bokeh: BokehJS loaded, going straight to plotting\");\n    run_inline_js();\n  } else {\n    load_libs(css_urls, js_urls, function() {\n      console.debug(\"Bokeh: BokehJS plotting callback run at\", now());\n      run_inline_js();\n    });\n  }\n}(window));",
            "application/vnd.bokehjs_load.v0+json": ""
          },
          "metadata": {},
          "output_type": "display_data"
        }
      ],
      "source": [
        "# Importing necessary libraries/modules; requires to be executed once for every session\n",
        "import numpy as np\n",
        "import matplotlib.pyplot as plt\n",
        "import os\n",
        "from random import shuffle\n",
        "import re\n",
        "import nltk\n",
        "\n",
        "from bokeh.models import ColumnDataSource, LabelSet\n",
        "from bokeh.plotting import figure, show, output_file\n",
        "from bokeh.io import output_notebook\n",
        "output_notebook()\n",
        "#nltk.download('punkt')\n",
        "\n",
        "from wordcloud import WordCloud"
      ]
    },
    {
      "cell_type": "code",
      "execution_count": null,
      "metadata": {
        "id": "ofHeuGejaZHs"
      },
      "outputs": [],
      "source": [
        "# Here we install nltk. You only have to execute this cell once!\n",
        "try:\n",
        "    import nltk\n",
        "except:\n",
        "    import sys\n",
        "    !{sys.executable} -m pip install nltk\n",
        "    import nltk\n",
        "    nltk.download()"
      ]
    },
    {
      "cell_type": "markdown",
      "metadata": {
        "id": "Haav4K7YaBti"
      },
      "source": [
        "### Part 0: Download the TED dataset"
      ]
    },
    {
      "cell_type": "markdown",
      "metadata": {
        "id": "TXCrpUdjcvmM"
      },
      "source": [
        "For this practical exercise, we need a large amount of text data. We will use the TED database, which are the transcripts of Ted Talks. The next cells will download everything you need, this might take a while as the dataset is 75MB large."
      ]
    },
    {
      "cell_type": "code",
      "execution_count": 2,
      "metadata": {
        "id": "stf464BBaBtj"
      },
      "outputs": [],
      "source": [
        "import zipfile\n",
        "import lxml.etree"
      ]
    },
    {
      "cell_type": "code",
      "execution_count": 3,
      "metadata": {
        "id": "91T_rkPbaBtn"
      },
      "outputs": [],
      "source": [
        "# Upload the dataset if it's not already there: this may take a minute..\n",
        "if not os.path.isfile('ted_en-20160408.zip'):\n",
        "  from google.colab import files\n",
        "  # select the file \"ted_en-20160408.zip\" from your local drive here\n",
        "  uploaded = files.upload()"
      ]
    },
    {
      "cell_type": "code",
      "execution_count": 2,
      "metadata": {
        "id": "0oWf1JkvaBtr"
      },
      "outputs": [
        {
          "ename": "NameError",
          "evalue": "name 'zipfile' is not defined",
          "output_type": "error",
          "traceback": [
            "\u001b[1;31m---------------------------------------------------------------------------\u001b[0m",
            "\u001b[1;31mNameError\u001b[0m                                 Traceback (most recent call last)",
            "\u001b[1;32mc:\\Users\\janni\\Desktop\\Cognitive Science\\Semester 7\\Deep Learning for NLP\\Assignments\\DL4NLP\\Assignment 1\\ASSIGNMENT_1.ipynb Cell 12\u001b[0m line \u001b[0;36m2\n\u001b[0;32m      <a href='vscode-notebook-cell:/c%3A/Users/janni/Desktop/Cognitive%20Science/Semester%207/Deep%20Learning%20for%20NLP/Assignments/DL4NLP/Assignment%201/ASSIGNMENT_1.ipynb#X14sZmlsZQ%3D%3D?line=0'>1</a>\u001b[0m \u001b[39m# For now, we're only interested in the subtitle text, so let's extract that from the XML:\u001b[39;00m\n\u001b[1;32m----> <a href='vscode-notebook-cell:/c%3A/Users/janni/Desktop/Cognitive%20Science/Semester%207/Deep%20Learning%20for%20NLP/Assignments/DL4NLP/Assignment%201/ASSIGNMENT_1.ipynb#X14sZmlsZQ%3D%3D?line=1'>2</a>\u001b[0m \u001b[39mwith\u001b[39;00m zipfile\u001b[39m.\u001b[39mZipFile(\u001b[39m'\u001b[39m\u001b[39mted_en-20160408.zip\u001b[39m\u001b[39m'\u001b[39m, \u001b[39m'\u001b[39m\u001b[39mr\u001b[39m\u001b[39m'\u001b[39m) \u001b[39mas\u001b[39;00m z:\n\u001b[0;32m      <a href='vscode-notebook-cell:/c%3A/Users/janni/Desktop/Cognitive%20Science/Semester%207/Deep%20Learning%20for%20NLP/Assignments/DL4NLP/Assignment%201/ASSIGNMENT_1.ipynb#X14sZmlsZQ%3D%3D?line=2'>3</a>\u001b[0m     doc \u001b[39m=\u001b[39m lxml\u001b[39m.\u001b[39metree\u001b[39m.\u001b[39mparse(z\u001b[39m.\u001b[39mopen(\u001b[39m'\u001b[39m\u001b[39mted_en-20160408.xml\u001b[39m\u001b[39m'\u001b[39m, \u001b[39m'\u001b[39m\u001b[39mr\u001b[39m\u001b[39m'\u001b[39m))\n\u001b[0;32m      <a href='vscode-notebook-cell:/c%3A/Users/janni/Desktop/Cognitive%20Science/Semester%207/Deep%20Learning%20for%20NLP/Assignments/DL4NLP/Assignment%201/ASSIGNMENT_1.ipynb#X14sZmlsZQ%3D%3D?line=3'>4</a>\u001b[0m input_text \u001b[39m=\u001b[39m \u001b[39m'\u001b[39m\u001b[39m\\n\u001b[39;00m\u001b[39m'\u001b[39m\u001b[39m.\u001b[39mjoin(doc\u001b[39m.\u001b[39mxpath(\u001b[39m'\u001b[39m\u001b[39m//content/text()\u001b[39m\u001b[39m'\u001b[39m))\n",
            "\u001b[1;31mNameError\u001b[0m: name 'zipfile' is not defined"
          ]
        }
      ],
      "source": [
        "# For now, we're only interested in the subtitle text, so let's extract that from the XML:\n",
        "with zipfile.ZipFile('ted_en-20160408.zip', 'r') as z:\n",
        "    doc = lxml.etree.parse(z.open('ted_en-20160408.xml', 'r'))\n",
        "input_text = '\\n'.join(doc.xpath('//content/text()'))\n",
        "\n",
        "print(type(input_text))"
      ]
    },
    {
      "cell_type": "markdown",
      "metadata": {
        "id": "LNL6FNYQA9QO"
      },
      "source": [
        "To give you a little bit of an idea about the structure of the dataset, you can open the `xml` file inside the zip folder and have a look at it. The dataset consists of metadata or properties of TedTalks, such as speaker information, language, transcripts, tags, date, and much more.\n",
        "\n",
        "As you can see, the `xml` file has lots of different tags to mark the beginning and end of the particular datapoint. The code cell bellow shows the tags that are inside the `xml` file. As you can already imagine, the tags are used to mark different properties of the data. For this assignment, we are interested in the content/text only, which is the reason for extracting the text from the content tag and from it, create the text data."
      ]
    },
    {
      "cell_type": "code",
      "execution_count": 4,
      "metadata": {
        "id": "AcrOfaQfhDVY"
      },
      "outputs": [
        {
          "name": "stdout",
          "output_type": "stream",
          "text": [
            "videourl\n",
            "date\n",
            "transcriber\n",
            "dtime\n",
            "title\n",
            "description\n",
            "content\n",
            "url\n",
            "head\n",
            "encoding\n",
            "xml\n",
            "translators\n",
            "videopath\n",
            "content-type\n",
            "transcription\n",
            "seekvideo\n",
            "translator\n",
            "transcribers\n",
            "pagesize\n",
            "charnum\n",
            "speaker\n",
            "reviewer\n",
            "talkid\n",
            "wordnum\n",
            "keywords\n",
            "reviewers\n",
            "file\n"
          ]
        }
      ],
      "source": [
        "# Extract all the tags in the XML\n",
        "tags = [element.tag for element in doc.iter()]\n",
        "\n",
        "# Get unique tags using a set\n",
        "unique_tags = set(tags)\n",
        "\n",
        "# Print the unique tags\n",
        "for tag in unique_tags:\n",
        "    print(tag)\n",
        "\n",
        "# Delete the variable doc to save space as we have alreay extracted the necessary data we need.\n",
        "del doc"
      ]
    },
    {
      "cell_type": "markdown",
      "metadata": {
        "id": "G9UVfpExaBtu"
      },
      "source": [
        "### Part 1: Preprocessing\n",
        "\n",
        "Although language oftentimes follows strict rules and structures, text datasets in practice are often noisy. Before we can use our text data, we therefore need to clean it. This process is called *preprocessing*. If we don't do this, the data may be inconsistent and therefore more difficult to analyze and work with. You may ask yourself, what exactly do we need to clean, where exactly would we expect inconsistencies? Take a moment and think about it potential hickups in the raw data. What we need to do, is to preprocess the text and bring it into a clean and consistent format, allowing further analyzing steps."
      ]
    },
    {
      "cell_type": "markdown",
      "metadata": {
        "id": "eKWHxHG7bkWa"
      },
      "source": [
        "<h4>Exercise 1.1 (3 Points)</h4>\n",
        "\n"
      ]
    },
    {
      "cell_type": "markdown",
      "metadata": {
        "id": "Lf3LEeuDVcs4"
      },
      "source": [
        "The following part of the code shows a chunk of text from our ted text dataset. Have a look and try to identify **three** issues you can think of that can create a problem for text analysis, next to the one which is already provided. When giving your answer, we ask you to also mention **why** the issues could be problematic (similar to the example given). Each correct answer (naming + explaining the problem) will give 1 point."
      ]
    },
    {
      "cell_type": "code",
      "execution_count": 5,
      "metadata": {
        "id": "yGpx6RFzaBtv",
        "scrolled": false
      },
      "outputs": [
        {
          "name": "stdout",
          "output_type": "stream",
          "text": [
            "Hyowon Gweon: See this? (Ball squeaks) Did you see that? (Ball squeaks) Cool. See this one? (Ball squeaks) Wow.\n",
            "Laura Schulz: Told you. (Laughs)\n",
            "(Video) HG: See this one? (Ball squeaks) Hey Clara, this one's for you. You can go ahead and play. (Laughter)\n",
            "LS: I don't even have to talk, right? All rig\n",
            "\n",
            "You will earn 10% of any gold you distributes\n"
          ]
        }
      ],
      "source": [
        "# Have a look at the output of this code, to see some text examples.\n",
        "i = input_text.find(\"Hyowon Gweon: See this?\")\n",
        "print(input_text[i:i+300])\n",
        "print()\n",
        "\n",
        "i = input_text.find(\"You will earn\")\n",
        "print(input_text[i:i+45])"
      ]
    },
    {
      "cell_type": "markdown",
      "metadata": {
        "id": "33t3GOGqcvmZ"
      },
      "source": [
        "<b>Your Solution goes here:</b>\n",
        "<br>- Speakers' names: embeddings for names will dominate the embedding space unnecessarily.\n",
        "<br>- Annotations in brackets dominate the embedding space without adding any context.\n",
        "<br>- remove commas to reduce embedding space\n",
        "<br>- changing all letters to lowercase, to reduce the embedding space without losing much context"
      ]
    },
    {
      "cell_type": "markdown",
      "metadata": {
        "id": "3F5MFEDWt-WN"
      },
      "source": [
        "<h4>Exercise 1.2 (9 Points)</h4>\n",
        "\n",
        "Next we want to create a preprocessing pipeline to later clean the entire dataset in one go. The pipeline takes `input_text` as input and should provide a cleaned and ready-to-use text data called `cleaned_text`.\n",
        "\n",
        "Your task is to implement this pipeline with **three** functions that each take care of **one** of the **three** issues you listed in exercise 1.1.\n",
        "\n",
        "Some hints about the pipeline are given as well as the code for the example from 1.1."
      ]
    },
    {
      "cell_type": "code",
      "execution_count": 4,
      "metadata": {
        "id": "Ow4UqreOvXH_"
      },
      "outputs": [],
      "source": [
        "import string\n",
        "mytext = \"\"\"Hyowon Gweon: See this? (Ball squeaks) Did you see that? (Ball squeaks) Cool. See this one? (Ball squeaks) Wow.\n",
        "Laura Schulz: Told you. (Laughs)\n",
        "(Video) HG: See this one? (Ball squeaks) Hey Clara, this one's for you. You can go ahead and play. (Laughter)\n",
        "LS: I don't even have to talk, right? All rig\n",
        "\n",
        "You will earn 10% of any gold you distributes\"\"\"\n",
        "\n",
        "def remove_speaker(text):\n",
        "  ''' takes the text as an input and removes the name of the speaker as output '''\n",
        "\n",
        "  input_text = text\n",
        "\n",
        "  X = []\n",
        "  for line in input_text.split('\\n'):\n",
        "      #print(line)\n",
        "      m = re.match(r'^(?:(?P<precolon>[^:]{,20}):)?(?P<postcolon>.*)$', line)\n",
        "      X.extend(m.groupdict()['postcolon'])\n",
        "  without_speaker=\"\".join(X)\n",
        "  return without_speaker\n",
        "\n",
        "\n",
        "## To Do ##\n",
        "# implement your 3 functions.\n",
        "# Make the name of the functions sensible.\n",
        "\n",
        "def remove_annotations(text):\n",
        "   \n",
        "  input_text = text\n",
        "  without_annotations = re.sub(r'\\(.*?\\)\\ *', '', input_text)\n",
        "\n",
        "  return without_annotations\n",
        "\n",
        "\n",
        "def remove_capital_letters(text):\n",
        "  \n",
        "  return text.lower()\n",
        "\n",
        "  \n",
        "def remove_commas(text):\n",
        "\n",
        "  input_text = text\n",
        "  without_punctuation = input_text.replace(\",\", \"\")\n",
        "  return without_punctuation\n",
        "\n",
        "\n",
        "\n",
        "def text_cleaned(input_text):\n",
        "\n",
        "  ''' takes the raw text as input. Runs the text through cleaning functions.\n",
        "       outputs a clean an preprocessed text for further analysis. '''\n",
        "\n",
        "  ## To Do ##\n",
        "  # include your functions here - you can order the pipeline however you want.\n",
        "  clean_text = remove_speaker(input_text)\n",
        "  clean_text = remove_annotations(clean_text)\n",
        "  clean_text = remove_capital_letters(clean_text)\n",
        "  clean_text = remove_commas(clean_text)\n",
        "\n",
        "  return clean_text\n",
        "\n",
        "input_text_clean = text_cleaned(mytext)"
      ]
    },
    {
      "cell_type": "code",
      "execution_count": 5,
      "metadata": {},
      "outputs": [
        {
          "name": "stdout",
          "output_type": "stream",
          "text": [
            " see this? did you see that? cool. see this one? wow. told you. see this one? hey clara this one's for you. you can go ahead and play. i don't even have to talk right? all rigyou will earn 10% of any gold you distributes\n"
          ]
        }
      ],
      "source": [
        "print(input_text_clean[:300])"
      ]
    },
    {
      "cell_type": "markdown",
      "metadata": {
        "id": "sX5lFA4XijPm"
      },
      "source": [
        "<h4>Exercise 1.3 (6 Points)</h4>\n",
        "\n",
        "To continue with building our embedding, we need to tokenize every single word (so that the model has individual tokens to process). Therefore we first need to split the text into sentences and after that into words.\n",
        "Try it yourselves or use the NLTK-Tools build for this (https://www.kite.com/python/docs/nltk.word_tokenize + https://www.kite.com/python/docs/nltk.sent_tokenize).\n",
        "To make it easier, we should also delete every character that is not a letter. Additionally, we could decrease the size of our vocabulary. A way to do this is by converting capital characters to lower case characters (but it also has some drawbacks - more on this in exercise 1.4).<br>\n",
        "\n",
        "Split your text into sentences and save them in the array `sentences_strings_ted`.\n",
        "Save one variabale `tokens` with all the tokens in the text and one array named `sentences_ted` that contains an array for every sentence, with all the tokenized words of that sentence.<br><br>\n",
        "Example:<br>\n",
        "If the text looks like this: \"I love cake. You have to be honest, you love it too!\", the variables should look like:<br>\n",
        "sentences_strings_ted=['I love cake.', 'You have to be honest, you love it too!']<br>\n",
        "sentences_ted=[['i', 'love', 'cake'], ['you', 'have', 'to', 'be', 'honest', 'you', 'love', 'it', 'too']]<br>\n",
        "tokens=['i', 'love', 'cake', 'you', 'have', 'to', 'be', 'honest', 'you', 'love', 'it', 'too']<br><br>\n",
        "\n",
        "IMPORTANT: Apply this to `input_text_clean`.<br><br>\n",
        "\n",
        "\n",
        " **[Hint:]** use pickle file (.pkl) to dump and load the variables like `sentences_strings_ted`, `tokens`, `sentences_ted` to continue where you left, when you comeback next time. It will save a lot of time/effort."
      ]
    },
    {
      "cell_type": "code",
      "execution_count": 19,
      "metadata": {
        "id": "_zAfwo7Dcvml"
      },
      "outputs": [
        {
          "data": {
            "text/plain": [
              "[['see', 'this', '?'],\n",
              " ['did', 'you', 'see', 'that', '?'],\n",
              " ['cool', '.'],\n",
              " ['see', 'this', 'one', '?'],\n",
              " ['wow', '.'],\n",
              " ['told', 'you', '.'],\n",
              " ['see', 'this', 'one', '?'],\n",
              " ['hey', 'clara', ',', 'this', 'one', \"'s\", 'for', 'you', '.'],\n",
              " ['you', 'can', 'go', 'ahead', 'and', 'play', '.'],\n",
              " ['i', 'do', \"n't\", 'even', 'have', 'to', 'talk', ',', 'right', '?'],\n",
              " ['all',\n",
              "  'rigyou',\n",
              "  'will',\n",
              "  'earn',\n",
              "  '10',\n",
              "  '%',\n",
              "  'of',\n",
              "  'any',\n",
              "  'gold',\n",
              "  'you',\n",
              "  'distributes']]"
            ]
          },
          "execution_count": 19,
          "metadata": {},
          "output_type": "execute_result"
        }
      ],
      "source": [
        "import pickle\n",
        "tmp = nltk.sent_tokenize(input_text_clean)\n",
        "word_list = []\n",
        "for i in tmp:\n",
        "    word_list.append(nltk.word_tokenize(i))\n",
        "\n",
        "word_list"
      ]
    },
    {
      "cell_type": "markdown",
      "metadata": {
        "id": "sUiFC0I5j31i"
      },
      "source": [
        "<h4>Exercise 1.4 (1 Point)</h4>"
      ]
    },
    {
      "cell_type": "markdown",
      "metadata": {
        "id": "7OICTv5Ybj9Q"
      },
      "source": [
        "The good side of converting all capital letters is, that we reduce the volume of the vocabulary. Thereby we dont differentiate between the the words \"today\" and \"Today\". But there is a caveat. Can you think of any downside to this process?"
      ]
    },
    {
      "cell_type": "markdown",
      "metadata": {
        "id": "Gk6zmQjNcvmo"
      },
      "source": [
        "**Your answer goes here:**"
      ]
    },
    {
      "cell_type": "markdown",
      "metadata": {
        "id": "e_8Pg_RQYglD"
      },
      "source": [
        "Let's quickly see how large our vocabulary turned out to be!"
      ]
    },
    {
      "cell_type": "code",
      "execution_count": null,
      "metadata": {
        "id": "ooe1gfSZaBuG"
      },
      "outputs": [],
      "source": [
        "len(sentences_ted)"
      ]
    },
    {
      "cell_type": "markdown",
      "metadata": {
        "id": "SCjkAGHjaBuN"
      },
      "source": [
        "### Part 2: Word Frequencies"
      ]
    },
    {
      "cell_type": "markdown",
      "metadata": {
        "id": "hvLMH0iXaBuO"
      },
      "source": [
        "<h4>Exercise 2.1 (2 Points)</h4>"
      ]
    },
    {
      "cell_type": "markdown",
      "metadata": {
        "id": "Pm9092DdYskT"
      },
      "source": [
        "Your next task will be to store the counts of the top 1,000 most frequent words in a list called `counts_ted_top1000` ! There are multiple ways to do this. You can have a look at the Counter-Function (https://docs.python.org/2/library/collections.html) or the FreqDist-Function (https://www.kite.com/python/docs/nltk.FreqDist). If you don't trust any of these, you can of course build your own function. In the end we want an array with tuples of the structure:\n",
        "\n",
        "counts_ted_top1000 =  [(WordA,FrequencyA),(WordB,FrequencyB)]"
      ]
    },
    {
      "cell_type": "code",
      "execution_count": null,
      "metadata": {
        "id": "LcQzY8iWaBuP"
      },
      "outputs": [],
      "source": [
        "# Your code goes here"
      ]
    },
    {
      "cell_type": "markdown",
      "metadata": {
        "id": "hti5NFdGaBuX"
      },
      "source": [
        "The following code is going to plot a histogram with the counts of the  top-30 words as bars."
      ]
    },
    {
      "cell_type": "code",
      "execution_count": null,
      "metadata": {
        "id": "M5BMmYmhcvmt"
      },
      "outputs": [],
      "source": [
        "mostfreqn=30 # Here we define how many of them we want to see in the diagramm\n",
        "frequency=[y for (x,y) in counts_ted_top1000][:mostfreqn]\n",
        "word=[x for (x,y) in counts_ted_top1000][:mostfreqn]\n",
        "indices = np.arange(len(counts_ted_top1000[:mostfreqn]))\n",
        "plt.bar(indices, frequency, color='r')\n",
        "plt.xticks(indices, word, rotation='vertical')\n",
        "plt.tight_layout()\n",
        "plt.show()"
      ]
    },
    {
      "cell_type": "markdown",
      "metadata": {
        "id": "WssgORGecvmu"
      },
      "source": [
        "Exercise: You can clearly see, that many of the most common words are redundant and not very meaningful. These types of words are called **stopwords**. What problems can stop words create in the NLP and why it is important to remove them?"
      ]
    },
    {
      "cell_type": "markdown",
      "metadata": {
        "id": "mQ3Fvsteb-Hi"
      },
      "source": [
        "**Your answer goes here:**"
      ]
    },
    {
      "cell_type": "markdown",
      "metadata": {
        "id": "8r19KPrAH4iM"
      },
      "source": [
        "<h4>Exercise 2.2 (2 Points)</h4>"
      ]
    },
    {
      "cell_type": "markdown",
      "metadata": {
        "id": "imgTrP0jcCXz"
      },
      "source": [
        "Now, write a function that removes the stopwords from the variable `counts_ted_top1000` and save it as `counts_ted_top1000_no_stopword`. Use the code for visualization and spot the differences.\n",
        "\n",
        "The structure in the end should look like this: counts_ted_top1000_no_stopword = [(WordA,FrequencyA),(WordB,FrequencyB)]"
      ]
    },
    {
      "cell_type": "code",
      "execution_count": null,
      "metadata": {
        "id": "x7dpvwqyPuzS"
      },
      "outputs": [],
      "source": [
        "# Your code goes here"
      ]
    },
    {
      "cell_type": "code",
      "execution_count": null,
      "metadata": {
        "id": "tSo2313hK8n2"
      },
      "outputs": [],
      "source": [
        "mostfreqn=30 # Here we define how many of them we want to see in the diagramm\n",
        "frequency=[y for (x,y) in counts_ted_top1000_no_stopword][:mostfreqn]\n",
        "word=[x for (x,y) in counts_ted_top1000_no_stopword][:mostfreqn]\n",
        "indices = np.arange(len(counts_ted_top1000_no_stopword[:mostfreqn]))\n",
        "plt.bar(indices, frequency, color='r')\n",
        "plt.xticks(indices, word, rotation='vertical')\n",
        "plt.tight_layout()\n",
        "plt.show()"
      ]
    },
    {
      "cell_type": "markdown",
      "metadata": {
        "id": "ntM-fNW1cVPj"
      },
      "source": [
        "#### Wordcloud Visualization"
      ]
    },
    {
      "cell_type": "markdown",
      "metadata": {
        "id": "zp5LcPxWvIRG"
      },
      "source": [
        "The below so-called **wordcloud** shows the most frequent words in a larger font and the less frequent ones in a smaller font size. It's a quick and cool way of visualizing the most frequent words!"
      ]
    },
    {
      "cell_type": "code",
      "execution_count": null,
      "metadata": {
        "id": "W1AucK5tMc0l"
      },
      "outputs": [],
      "source": [
        "# Create a dictionary that maps words to their frequencies\n",
        "counts_ted_top1000_no_stopword = {word: count for word, count in counts_ted_top1000_no_stopword}\n",
        "\n",
        "# Create a WordCloud object\n",
        "wordcloud = WordCloud(width=800, height=400, background_color='white')\n",
        "\n",
        "# Generate the word cloud\n",
        "wordcloud.generate_from_frequencies(counts_ted_top1000_no_stopword)\n",
        "\n",
        "# Display the word cloud using matplotlib\n",
        "plt.figure(figsize=(10, 5))\n",
        "plt.imshow(wordcloud, interpolation='bilinear')\n",
        "plt.axis(\"off\")\n",
        "plt.show()"
      ]
    },
    {
      "cell_type": "markdown",
      "metadata": {
        "id": "2oRdD3e4aBud"
      },
      "source": [
        "### Part 3: Generating the Word Embeddings with Word2Vec"
      ]
    },
    {
      "cell_type": "markdown",
      "metadata": {
        "id": "kp0JGmKWhrNd"
      },
      "source": [
        "Now it is time to run the embedding model. Gensim has an already implemented model that you can use. Using the provided model is enough for the purposes of our notebook. If you want to dive deeper into the topic - this youtube video https://www.youtube.com/watch?v=kKDYtZfriI8 could be a great guidance for you to get started."
      ]
    },
    {
      "cell_type": "code",
      "execution_count": null,
      "metadata": {
        "id": "A_t4-aiTaBue"
      },
      "outputs": [],
      "source": [
        "# This takes a moment.. dont worry :D\n",
        "from gensim.models import Word2Vec\n",
        "\n",
        "model_ted = Word2Vec(sentences_ted)"
      ]
    },
    {
      "cell_type": "markdown",
      "metadata": {
        "id": "KKYd7ZemaBuj"
      },
      "source": [
        "### Part 4: Inspection of our learned representations/embeddings (3 Points)\n"
      ]
    },
    {
      "cell_type": "markdown",
      "metadata": {
        "id": "P7VvU82AaBuj"
      },
      "source": [
        "Now that we have a model that captures the word embeddings, we can use it to explore properties of the words in the text."
      ]
    },
    {
      "cell_type": "markdown",
      "metadata": {
        "id": "QFV06B1xcvm2"
      },
      "source": [
        "First, code a line that looks at the embedding of one individual word/token.  What does the representation of \"house\" look like in the embedding model? You may refer to the following gensim docs for functions, that might help you https://radimrehurek.com/gensim/models/keyedvectors.html). This will give you 1 point."
      ]
    },
    {
      "cell_type": "code",
      "execution_count": null,
      "metadata": {
        "id": "Tec0Q5WBcvm3"
      },
      "outputs": [],
      "source": [
        "# Your solution goes here."
      ]
    },
    {
      "cell_type": "markdown",
      "metadata": {
        "id": "-8yGLeYpcvm6"
      },
      "source": [
        "The next task for you is to output the most similar word to \"town\"? This will also give you 1 point."
      ]
    },
    {
      "cell_type": "code",
      "execution_count": null,
      "metadata": {
        "id": "Bs4MIsdpcvm7"
      },
      "outputs": [],
      "source": [
        "# Your solution goes here."
      ]
    },
    {
      "cell_type": "markdown",
      "metadata": {
        "id": "fCdHf0Sdcvm8"
      },
      "source": [
        "Finally, we want to find out how similar the words \"town\" and \"house\" are. Again: 1 point for this!"
      ]
    },
    {
      "cell_type": "code",
      "execution_count": null,
      "metadata": {
        "id": "3E9opXOTcvm8"
      },
      "outputs": [],
      "source": [
        "# Your solution goes here."
      ]
    },
    {
      "cell_type": "markdown",
      "metadata": {
        "id": "p7I5G-KpqbfH"
      },
      "source": [
        "<h4>Exercise 4.1 (3 Points)</h4>\n"
      ]
    },
    {
      "cell_type": "markdown",
      "metadata": {
        "id": "dgCMx111ej8l"
      },
      "source": [
        "Now that we have generated our embeddings, let's test some classical ideas:\n",
        "implement the following formula. Print out the 10 words, that are most similar to this formula: <br>\n",
        "$King-Man+Woman=???$\n",
        "There are two ways of computing similarity in word embeddings:\n",
        " - https://tedboy.github.io/nlps/generated/generated/gensim.models.Word2Vec.most_similar.html\n",
        " - https://tedboy.github.io/nlps/generated/generated/gensim.models.Word2Vec.most_similar_cosmul.html\n",
        "You should try out both! In this case one of them is better, but both of them are valid methods for computing similarity in the word-space."
      ]
    },
    {
      "cell_type": "code",
      "execution_count": null,
      "metadata": {
        "id": "S0y_5MLlqiMx"
      },
      "outputs": [],
      "source": [
        "# Your implementation goes here."
      ]
    },
    {
      "cell_type": "markdown",
      "metadata": {
        "id": "7XcdY5s-cvnA"
      },
      "source": [
        "Exercise 4.2 (2 Points)"
      ]
    },
    {
      "cell_type": "markdown",
      "metadata": {
        "id": "kejO0Tmze1tq"
      },
      "source": [
        "The expected outcome (Queen) should be one of the top ten most similar words. But there are also a lot of words, that you would not expect. Think about where how these words might be connected to the formula. Take your time and understand why some of the words (luther, mary, dr, president) might be in this list."
      ]
    },
    {
      "cell_type": "markdown",
      "metadata": {
        "id": "RapTRcHce7Ua"
      },
      "source": [
        "**Your answer goes here:**"
      ]
    },
    {
      "cell_type": "markdown",
      "metadata": {
        "id": "TMtpPOVtaBup"
      },
      "source": [
        "#### t-SNE visualization\n",
        "\n",
        "We will use the t-SNE algorithm, given below, for visualization. The so-called t-Distributed Stochastic Neighbor Embedding (t-SNE) is an unsupervised and non-linear machine learning technique. It is commonly used for visualizing high dimensional data (just like our high dimensional vectors). You do not have to understand the code, its purpose is simply to give you an idea of how the data is arranged in high dimensional space."
      ]
    },
    {
      "cell_type": "markdown",
      "metadata": {
        "id": "DLyQ3qoAcvnB"
      },
      "source": [
        "<h4>Exercise 4.3 (2 Points)</h4>"
      ]
    },
    {
      "cell_type": "markdown",
      "metadata": {
        "id": "JpHG2ON9fH2j"
      },
      "source": [
        "To use the t-SNE code below, first put a list of the top 50 words (as **strings**, without **stopwords**) into a variable `words_top_ted`."
      ]
    },
    {
      "cell_type": "code",
      "execution_count": null,
      "metadata": {
        "id": "xXstzIntcvnC"
      },
      "outputs": [],
      "source": [
        "# Your implementation goes here."
      ]
    },
    {
      "cell_type": "markdown",
      "metadata": {
        "id": "RSJ1AAzEcvnC"
      },
      "source": [
        "The following code gets the corresponding vectors from the model, assuming it's called `model_ted`:"
      ]
    },
    {
      "cell_type": "code",
      "execution_count": null,
      "metadata": {
        "id": "0-lLF1lZaBus"
      },
      "outputs": [],
      "source": [
        "# This assumes words_top_ted is a list of strings, the top 250 words\n",
        "words_top_vec_ted = model_ted.wv[words_top_ted]"
      ]
    },
    {
      "cell_type": "markdown",
      "metadata": {
        "id": "7-NxjQVMcvnE"
      },
      "source": [
        "The next few lines are for the t-SNE visualization."
      ]
    },
    {
      "cell_type": "code",
      "execution_count": null,
      "metadata": {
        "id": "HeJF5ut9aBux"
      },
      "outputs": [],
      "source": [
        "from sklearn.manifold import TSNE\n",
        "tsne = TSNE(n_components=2, random_state=0)\n",
        "words_top_ted_tsne = tsne.fit_transform(words_top_vec_ted)"
      ]
    },
    {
      "cell_type": "code",
      "execution_count": null,
      "metadata": {
        "id": "J2VgYLIZaBu2"
      },
      "outputs": [],
      "source": [
        "p = figure(tools=\"pan,wheel_zoom,reset,save\",\n",
        "           toolbar_location=\"above\",\n",
        "           title=\"word2vec T-SNE for most common words\")\n",
        "\n",
        "source = ColumnDataSource(data=dict(x1=words_top_ted_tsne[:,0],\n",
        "                                    x2=words_top_ted_tsne[:,1],\n",
        "                                    names=words_top_ted))\n",
        "\n",
        "p.scatter(x=\"x1\", y=\"x2\", size=8, source=source)\n",
        "\n",
        "labels = LabelSet(x=\"x1\", y=\"x2\", text=\"names\", y_offset=6,\n",
        "                  text_font_size=\"8pt\", text_color=\"#555555\",\n",
        "                  source=source, text_align='center')\n",
        "p.add_layout(labels)\n",
        "\n",
        "show(p)"
      ]
    },
    {
      "cell_type": "markdown",
      "metadata": {
        "id": "qn3osAABfZjQ"
      },
      "source": [
        "That's it. We hope you had fun and learned something in the process :-)"
      ]
    }
  ],
  "metadata": {
    "accelerator": "GPU",
    "anaconda-cloud": {},
    "colab": {
      "gpuType": "T4",
      "provenance": []
    },
    "kernelspec": {
      "display_name": "Python 3",
      "name": "python3"
    },
    "language_info": {
      "codemirror_mode": {
        "name": "ipython",
        "version": 3
      },
      "file_extension": ".py",
      "mimetype": "text/x-python",
      "name": "python",
      "nbconvert_exporter": "python",
      "pygments_lexer": "ipython3",
      "version": "3.11.5"
    }
  },
  "nbformat": 4,
  "nbformat_minor": 0
}
