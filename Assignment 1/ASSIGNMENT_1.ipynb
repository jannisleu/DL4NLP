{
  "nbformat": 4,
  "nbformat_minor": 0,
  "metadata": {
    "anaconda-cloud": {},
    "colab": {
      "provenance": [],
      "gpuType": "T4"
    },
    "kernelspec": {
      "display_name": "Python 3",
      "name": "python3"
    },
    "language_info": {
      "codemirror_mode": {
        "name": "ipython",
        "version": 3
      },
      "file_extension": ".py",
      "mimetype": "text/x-python",
      "name": "python",
      "nbconvert_exporter": "python",
      "pygments_lexer": "ipython3",
      "version": "3.7.7"
    },
    "accelerator": "GPU"
  },
  "cells": [
    {
      "cell_type": "markdown",
      "metadata": {
        "id": "ighIhhiLaBtR"
      },
      "source": [
        "## Practical Exercise 1: An Introduction to Word Embeddings and Word2Vec"
      ]
    },
    {
      "cell_type": "markdown",
      "metadata": {
        "id": "QRKl0OAYcvl2"
      },
      "source": [
        "Before we start, we would like to highlight that each of the three notebooks will contribute equally to your final grade."
      ]
    },
    {
      "cell_type": "markdown",
      "metadata": {
        "id": "qCmr1p64aBtW"
      },
      "source": [
        "This practical Exercise is presented as an IPython Notebook, with the code written for recent versions of **Python 3**.\n",
        "\n",
        "Before working with this notebook, you need to execute some of the pre-coded cells (to load libraries/functions/modules etc.). To execute one notebook cell, press `shift-enter`. The return value of the last command will be displayed, if it is not `None`.\n",
        "\n",
        "Below is a list with potentially useful library documentation, references, and resources:\n",
        "\n",
        "* IPython notebooks: <https://ipython.org/ipython-doc/3/notebook/notebook.html#introduction>\n",
        "* Numpy numerical array library: <https://docs.scipy.org/doc/>\n",
        "* Gensim's word2vec: <https://radimrehurek.com/gensim/models/word2vec.html>\n",
        "* Bokeh interactive plots: <http://bokeh.pydata.org/en/latest/> (we provide plotting code here, but click the thumbnails for more examples to copy-paste)\n",
        "* scikit-learn ML library (aka `sklearn`): <http://scikit-learn.org/stable/documentation.html>\n",
        "* nltk NLP toolkit: <http://www.nltk.org/>\n",
        "* tutorial for processing xml in python using `lxml`: <http://lxml.de/tutorial.html> (we did this for you below, but in case you need it in the future)"
      ]
    },
    {
      "cell_type": "markdown",
      "source": [
        "#### Introduction & imports"
      ],
      "metadata": {
        "id": "3-9ymQ4XRUtG"
      }
    },
    {
      "cell_type": "markdown",
      "metadata": {
        "id": "5fOOU1S7cvl8"
      },
      "source": [
        "In this notebook you will familiarize yourselves with constructing and using word-embeddings. As you recall from the lecture, word-embeddings are a type of word representation that allow words with similar meaning to have similar representations. This can be achieved by representing words as real-valued vectors in a predefined vector space. However, before delving into the embedding process, you will need to learn how to use some basic NLP tools like tokenization and regular expressions!\n",
        "Good Luck and happy coding!"
      ]
    },
    {
      "cell_type": "code",
      "metadata": {
        "id": "569W6MImaBtX"
      },
      "source": [
        "# Importing necessary libraries/modules; requires to be executed once for every session\n",
        "import numpy as np\n",
        "import matplotlib.pyplot as plt\n",
        "import os\n",
        "from random import shuffle\n",
        "import re\n",
        "import nltk\n",
        "\n",
        "from bokeh.models import ColumnDataSource, LabelSet\n",
        "from bokeh.plotting import figure, show, output_file\n",
        "from bokeh.io import output_notebook\n",
        "output_notebook()\n",
        "nltk.download('punkt')\n",
        "\n",
        "!pip install wordcloud\n",
        "from wordcloud import WordCloud"
      ],
      "execution_count": null,
      "outputs": []
    },
    {
      "cell_type": "code",
      "metadata": {
        "id": "ofHeuGejaZHs"
      },
      "source": [
        "# Here we install nltk. You only have to execute this cell once!\n",
        "try:\n",
        "    import nltk\n",
        "except:\n",
        "    import sys\n",
        "    !{sys.executable} -m pip install nltk\n",
        "    import nltk\n",
        "    nltk.download()"
      ],
      "execution_count": null,
      "outputs": []
    },
    {
      "cell_type": "markdown",
      "metadata": {
        "id": "Haav4K7YaBti"
      },
      "source": [
        "### Part 0: Download the TED dataset"
      ]
    },
    {
      "cell_type": "markdown",
      "metadata": {
        "id": "TXCrpUdjcvmM"
      },
      "source": [
        "For this practical exercise, we need a large amount of text data. We will use the TED database, which are the transcripts of Ted Talks. The next cells will download everything you need, this might take a while as the dataset is 75MB large."
      ]
    },
    {
      "cell_type": "code",
      "metadata": {
        "id": "stf464BBaBtj"
      },
      "source": [
        "import zipfile\n",
        "import lxml.etree"
      ],
      "execution_count": null,
      "outputs": []
    },
    {
      "cell_type": "code",
      "metadata": {
        "id": "91T_rkPbaBtn"
      },
      "source": [
        "# Upload the dataset if it's not already there: this may take a minute..\n",
        "if not os.path.isfile('ted_en-20160408.zip'):\n",
        "  from google.colab import files\n",
        "  # select the file \"ted_en-20160408.zip\" from your local drive here\n",
        "  uploaded = files.upload()"
      ],
      "execution_count": null,
      "outputs": []
    },
    {
      "cell_type": "code",
      "metadata": {
        "id": "0oWf1JkvaBtr"
      },
      "source": [
        "# For now, we're only interested in the subtitle text, so let's extract that from the XML:\n",
        "with zipfile.ZipFile('ted_en-20160408.zip', 'r') as z:\n",
        "    doc = lxml.etree.parse(z.open('ted_en-20160408.xml', 'r'))\n",
        "input_text = '\\n'.join(doc.xpath('//content/text()'))\n",
        "\n",
        "print(type(input_text))"
      ],
      "execution_count": null,
      "outputs": []
    },
    {
      "cell_type": "markdown",
      "source": [
        "To give you a little bit of an idea about the structure of the dataset, you can open the `xml` file inside the zip folder and have a look at it. The dataset consists of metadata or properties of TedTalks, such as speaker information, language, transcripts, tags, date, and much more.\n",
        "\n",
        "As you can see, the `xml` file has lots of different tags to mark the beginning and end of the particular datapoint. The code cell bellow shows the tags that are inside the `xml` file. As you can already imagine, the tags are used to mark different properties of the data. For this assignment, we are interested in the content/text only, which is the reason for extracting the text from the content tag and from it, create the text data."
      ],
      "metadata": {
        "id": "LNL6FNYQA9QO"
      }
    },
    {
      "cell_type": "code",
      "source": [
        "# Extract all the tags in the XML\n",
        "tags = [element.tag for element in doc.iter()]\n",
        "\n",
        "# Get unique tags using a set\n",
        "unique_tags = set(tags)\n",
        "\n",
        "# Print the unique tags\n",
        "for tag in unique_tags:\n",
        "    print(tag)\n",
        "\n",
        "# Delete the variable doc to save space as we have alreay extracted the necessary data we need.\n",
        "del doc"
      ],
      "metadata": {
        "id": "AcrOfaQfhDVY"
      },
      "execution_count": null,
      "outputs": []
    },
    {
      "cell_type": "markdown",
      "metadata": {
        "id": "G9UVfpExaBtu"
      },
      "source": [
        "### Part 1: Preprocessing\n",
        "\n",
        "Although language oftentimes follows strict rules and structures, text datasets in practice are often noisy. Before we can use our text data, we therefore need to clean it. This process is called *preprocessing*. If we don't do this, the data may be inconsistent and therefore more difficult to analyze and work with. You may ask yourself, what exactly do we need to clean, where exactly would we expect inconsistencies? Take a moment and think about it potential hickups in the raw data. What we need to do, is to preprocess the text and bring it into a clean and consistent format, allowing further analyzing steps."
      ]
    },
    {
      "cell_type": "markdown",
      "metadata": {
        "id": "eKWHxHG7bkWa"
      },
      "source": [
        "<h4>Exercise 1.1 (3 Points)</h4>\n",
        "\n"
      ]
    },
    {
      "cell_type": "markdown",
      "source": [
        "The following part of the code shows a chunk of text from our ted text dataset. Have a look and try to identify **three** issues you can think of that can create a problem for text analysis, next to the one which is already provided. When giving your answer, we ask you to also mention **why** the issues could be problematic (similar to the example given). Each correct answer (naming + explaining the problem) will give 1 point."
      ],
      "metadata": {
        "id": "Lf3LEeuDVcs4"
      }
    },
    {
      "cell_type": "code",
      "metadata": {
        "id": "yGpx6RFzaBtv",
        "scrolled": false
      },
      "source": [
        "# Have a look at the output of this code, to see some text examples.\n",
        "i = input_text.find(\"Hyowon Gweon: See this?\")\n",
        "print(input_text[i:i+300])\n",
        "print()\n",
        "\n",
        "i = input_text.find(\"You will earn\")\n",
        "print(input_text[i:i+45])"
      ],
      "execution_count": null,
      "outputs": []
    },
    {
      "cell_type": "markdown",
      "metadata": {
        "id": "33t3GOGqcvmZ"
      },
      "source": [
        "<b>Your Solution goes here:</b>\n",
        "<br>- Speakers' names: embeddings for names will dominate the embedding space unnecessarily.\n",
        "<br>-\n",
        "<br>-\n",
        "<br>-"
      ]
    },
    {
      "cell_type": "markdown",
      "source": [
        "<h4>Exercise 1.2 (9 Points)</h4>\n",
        "\n",
        "Next we want to create a preprocessing pipeline to later clean the entire dataset in one go. The pipeline takes `input_text` as input and should provide a cleaned and ready-to-use text data called `cleaned_text`.\n",
        "\n",
        "Your task is to implement this pipeline with **three** functions that each take care of **one** of the **three** issues you listed in exercise 1.1.\n",
        "\n",
        "Some hints about the pipeline are given as well as the code for the example from 1.1."
      ],
      "metadata": {
        "id": "3F5MFEDWt-WN"
      }
    },
    {
      "cell_type": "code",
      "source": [
        "def remove_speaker(text):\n",
        "  ''' takes the text as an input and removes the name of the speaker as output '''\n",
        "\n",
        "  input_text = text\n",
        "\n",
        "  X = []\n",
        "  for line in input_text.split('\\n'):\n",
        "      #print(line)\n",
        "      m = re.match(r'^(?:(?P<precolon>[^:]{,20}):)?(?P<postcolon>.*)$', line)\n",
        "      X.extend(m.groupdict()['postcolon'])\n",
        "  without_speaker=\"\".join(X)\n",
        "  return without_speaker\n",
        "\n",
        "## To Do ##\n",
        "# implement your 3 functions.\n",
        "# Make the name of the functions sensible.\n",
        "\n",
        "# def ...\n",
        "\n",
        "# def ...\n",
        "\n",
        "# def ...\n",
        "\n",
        "\n",
        "\n",
        "def text_cleaned(input_text):\n",
        "\n",
        "  ''' takes the raw text as input. Runs the text through cleaning functions.\n",
        "       outputs a clean an preprocessed text for further analysis. '''\n",
        "\n",
        "  ## To Do ##\n",
        "  # include your functions here - you can order the pipeline however you want.\n",
        "  text_no_speaker = remove_speaker(input_text)\n",
        "\n",
        "  return cleaned_text\n",
        "\n",
        "input_text_clean = text_cleaned(text)"
      ],
      "metadata": {
        "id": "Ow4UqreOvXH_"
      },
      "execution_count": null,
      "outputs": []
    },
    {
      "cell_type": "markdown",
      "metadata": {
        "id": "sX5lFA4XijPm"
      },
      "source": [
        "<h4>Exercise 1.3 (6 Points)</h4>\n",
        "\n",
        "To continue with building our embedding, we need to tokenize every single word (so that the model has individual tokens to process). Therefore we first need to split the text into sentences and after that into words.\n",
        "Try it yourselves or use the NLTK-Tools build for this (https://www.kite.com/python/docs/nltk.word_tokenize + https://www.kite.com/python/docs/nltk.sent_tokenize).\n",
        "To make it easier, we should also delete every character that is not a letter. Additionally, we could decrease the size of our vocabulary. A way to do this is by converting capital characters to lower case characters (but it also has some drawbacks - more on this in exercise 1.4).<br>\n",
        "\n",
        "Split your text into sentences and save them in the array `sentences_strings_ted`.\n",
        "Save one variabale `tokens` with all the tokens in the text and one array named `sentences_ted` that contains an array for every sentence, with all the tokenized words of that sentence.<br><br>\n",
        "Example:<br>\n",
        "If the text looks like this: \"I love cake. You have to be honest, you love it too!\", the variables should look like:<br>\n",
        "sentences_strings_ted=['I love cake.', 'You have to be honest, you love it too!']<br>\n",
        "sentences_ted=[['i', 'love', 'cake'], ['you', 'have', 'to', 'be', 'honest', 'you', 'love', 'it', 'too']]<br>\n",
        "tokens=['i', 'love', 'cake', 'you', 'have', 'to', 'be', 'honest', 'you', 'love', 'it', 'too']<br><br>\n",
        "\n",
        "IMPORTANT: Apply this to `input_text_clean`.<br><br>\n",
        "\n",
        "\n",
        " **[Hint:]** use pickle file (.pkl) to dump and load the variables like `sentences_strings_ted`, `tokens`, `sentences_ted` to continue where you left, when you comeback next time. It will save a lot of time/effort."
      ]
    },
    {
      "cell_type": "code",
      "metadata": {
        "id": "_zAfwo7Dcvml"
      },
      "source": [
        "# Your implementation goes here"
      ],
      "execution_count": null,
      "outputs": []
    },
    {
      "cell_type": "markdown",
      "metadata": {
        "id": "sUiFC0I5j31i"
      },
      "source": [
        "<h4>Exercise 1.4 (1 Point)</h4>"
      ]
    },
    {
      "cell_type": "markdown",
      "source": [
        "The good side of converting all capital letters is, that we reduce the volume of the vocabulary. Thereby we dont differentiate between the the words \"today\" and \"Today\". But there is a caveat. Can you think of any downside to this process?"
      ],
      "metadata": {
        "id": "7OICTv5Ybj9Q"
      }
    },
    {
      "cell_type": "markdown",
      "metadata": {
        "id": "Gk6zmQjNcvmo"
      },
      "source": [
        "**Your answer goes here:**"
      ]
    },
    {
      "cell_type": "markdown",
      "source": [
        "Let's quickly see how large our vocabulary turned out to be!"
      ],
      "metadata": {
        "id": "e_8Pg_RQYglD"
      }
    },
    {
      "cell_type": "code",
      "metadata": {
        "id": "ooe1gfSZaBuG"
      },
      "source": [
        "len(sentences_ted)"
      ],
      "execution_count": null,
      "outputs": []
    },
    {
      "cell_type": "markdown",
      "metadata": {
        "id": "SCjkAGHjaBuN"
      },
      "source": [
        "### Part 2: Word Frequencies"
      ]
    },
    {
      "cell_type": "markdown",
      "metadata": {
        "id": "hvLMH0iXaBuO"
      },
      "source": [
        "<h4>Exercise 2.1 (2 Points)</h4>"
      ]
    },
    {
      "cell_type": "markdown",
      "source": [
        "Your next task will be to store the counts of the top 1,000 most frequent words in a list called `counts_ted_top1000` ! There are multiple ways to do this. You can have a look at the Counter-Function (https://docs.python.org/2/library/collections.html) or the FreqDist-Function (https://www.kite.com/python/docs/nltk.FreqDist). If you don't trust any of these, you can of course build your own function. In the end we want an array with tuples of the structure:\n",
        "\n",
        "counts_ted_top1000 =  [(WordA,FrequencyA),(WordB,FrequencyB)]"
      ],
      "metadata": {
        "id": "Pm9092DdYskT"
      }
    },
    {
      "cell_type": "code",
      "metadata": {
        "id": "LcQzY8iWaBuP"
      },
      "source": [
        "# Your code goes here"
      ],
      "execution_count": null,
      "outputs": []
    },
    {
      "cell_type": "markdown",
      "metadata": {
        "id": "hti5NFdGaBuX"
      },
      "source": [
        "The following code is going to plot a histogram with the counts of the  top-30 words as bars."
      ]
    },
    {
      "cell_type": "code",
      "metadata": {
        "id": "M5BMmYmhcvmt"
      },
      "source": [
        "mostfreqn=30 # Here we define how many of them we want to see in the diagramm\n",
        "frequency=[y for (x,y) in counts_ted_top1000][:mostfreqn]\n",
        "word=[x for (x,y) in counts_ted_top1000][:mostfreqn]\n",
        "indices = np.arange(len(counts_ted_top1000[:mostfreqn]))\n",
        "plt.bar(indices, frequency, color='r')\n",
        "plt.xticks(indices, word, rotation='vertical')\n",
        "plt.tight_layout()\n",
        "plt.show()"
      ],
      "execution_count": null,
      "outputs": []
    },
    {
      "cell_type": "markdown",
      "metadata": {
        "id": "WssgORGecvmu"
      },
      "source": [
        "Exercise: You can clearly see, that many of the most common words are redundant and not very meaningful. These types of words are called **stopwords**. What problems can stop words create in the NLP and why it is important to remove them?"
      ]
    },
    {
      "cell_type": "markdown",
      "metadata": {
        "id": "mQ3Fvsteb-Hi"
      },
      "source": [
        "**Your answer goes here:**"
      ]
    },
    {
      "cell_type": "markdown",
      "source": [
        "<h4>Exercise 2.2 (2 Points)</h4>"
      ],
      "metadata": {
        "id": "8r19KPrAH4iM"
      }
    },
    {
      "cell_type": "markdown",
      "source": [
        "Now, write a function that removes the stopwords from the variable `counts_ted_top1000` and save it as `counts_ted_top1000_no_stopword`. Use the code for visualization and spot the differences.\n",
        "\n",
        "The structure in the end should look like this: counts_ted_top1000_no_stopword = [(WordA,FrequencyA),(WordB,FrequencyB)]"
      ],
      "metadata": {
        "id": "imgTrP0jcCXz"
      }
    },
    {
      "cell_type": "code",
      "source": [
        "# Your code goes here"
      ],
      "metadata": {
        "id": "x7dpvwqyPuzS"
      },
      "execution_count": null,
      "outputs": []
    },
    {
      "cell_type": "code",
      "source": [
        "mostfreqn=30 # Here we define how many of them we want to see in the diagramm\n",
        "frequency=[y for (x,y) in counts_ted_top1000_no_stopword][:mostfreqn]\n",
        "word=[x for (x,y) in counts_ted_top1000_no_stopword][:mostfreqn]\n",
        "indices = np.arange(len(counts_ted_top1000_no_stopword[:mostfreqn]))\n",
        "plt.bar(indices, frequency, color='r')\n",
        "plt.xticks(indices, word, rotation='vertical')\n",
        "plt.tight_layout()\n",
        "plt.show()"
      ],
      "metadata": {
        "id": "tSo2313hK8n2"
      },
      "execution_count": null,
      "outputs": []
    },
    {
      "cell_type": "markdown",
      "source": [
        "#### Wordcloud Visualization"
      ],
      "metadata": {
        "id": "ntM-fNW1cVPj"
      }
    },
    {
      "cell_type": "markdown",
      "source": [
        "The below so-called **wordcloud** shows the most frequent words in a larger font and the less frequent ones in a smaller font size. It's a quick and cool way of visualizing the most frequent words!"
      ],
      "metadata": {
        "id": "zp5LcPxWvIRG"
      }
    },
    {
      "cell_type": "code",
      "source": [
        "# Create a dictionary that maps words to their frequencies\n",
        "counts_ted_top1000_no_stopword = {word: count for word, count in counts_ted_top1000_no_stopword}\n",
        "\n",
        "# Create a WordCloud object\n",
        "wordcloud = WordCloud(width=800, height=400, background_color='white')\n",
        "\n",
        "# Generate the word cloud\n",
        "wordcloud.generate_from_frequencies(counts_ted_top1000_no_stopword)\n",
        "\n",
        "# Display the word cloud using matplotlib\n",
        "plt.figure(figsize=(10, 5))\n",
        "plt.imshow(wordcloud, interpolation='bilinear')\n",
        "plt.axis(\"off\")\n",
        "plt.show()"
      ],
      "metadata": {
        "id": "W1AucK5tMc0l"
      },
      "execution_count": null,
      "outputs": []
    },
    {
      "cell_type": "markdown",
      "metadata": {
        "id": "2oRdD3e4aBud"
      },
      "source": [
        "### Part 3: Generating the Word Embeddings with Word2Vec"
      ]
    },
    {
      "cell_type": "markdown",
      "metadata": {
        "id": "kp0JGmKWhrNd"
      },
      "source": [
        "Now it is time to run the embedding model. Gensim has an already implemented model that you can use. Using the provided model is enough for the purposes of our notebook. If you want to dive deeper into the topic - this youtube video https://www.youtube.com/watch?v=kKDYtZfriI8 could be a great guidance for you to get started."
      ]
    },
    {
      "cell_type": "code",
      "metadata": {
        "id": "A_t4-aiTaBue"
      },
      "source": [
        "# This takes a moment.. dont worry :D\n",
        "from gensim.models import Word2Vec\n",
        "\n",
        "model_ted = Word2Vec(sentences_ted)"
      ],
      "execution_count": null,
      "outputs": []
    },
    {
      "cell_type": "markdown",
      "metadata": {
        "id": "KKYd7ZemaBuj"
      },
      "source": [
        "### Part 4: Inspection of our learned representations/embeddings (3 Points)\n"
      ]
    },
    {
      "cell_type": "markdown",
      "metadata": {
        "id": "P7VvU82AaBuj"
      },
      "source": [
        "Now that we have a model that captures the word embeddings, we can use it to explore properties of the words in the text."
      ]
    },
    {
      "cell_type": "markdown",
      "metadata": {
        "id": "QFV06B1xcvm2"
      },
      "source": [
        "First, code a line that looks at the embedding of one individual word/token.  What does the representation of \"house\" look like in the embedding model? You may refer to the following gensim docs for functions, that might help you https://radimrehurek.com/gensim/models/keyedvectors.html). This will give you 1 point."
      ]
    },
    {
      "cell_type": "code",
      "metadata": {
        "id": "Tec0Q5WBcvm3"
      },
      "source": [
        "# Your solution goes here."
      ],
      "execution_count": null,
      "outputs": []
    },
    {
      "cell_type": "markdown",
      "metadata": {
        "id": "-8yGLeYpcvm6"
      },
      "source": [
        "The next task for you is to output the most similar word to \"town\"? This will also give you 1 point."
      ]
    },
    {
      "cell_type": "code",
      "metadata": {
        "id": "Bs4MIsdpcvm7"
      },
      "source": [
        "# Your solution goes here."
      ],
      "execution_count": null,
      "outputs": []
    },
    {
      "cell_type": "markdown",
      "metadata": {
        "id": "fCdHf0Sdcvm8"
      },
      "source": [
        "Finally, we want to find out how similar the words \"town\" and \"house\" are. Again: 1 point for this!"
      ]
    },
    {
      "cell_type": "code",
      "metadata": {
        "id": "3E9opXOTcvm8"
      },
      "source": [
        "# Your solution goes here."
      ],
      "execution_count": null,
      "outputs": []
    },
    {
      "cell_type": "markdown",
      "metadata": {
        "id": "p7I5G-KpqbfH"
      },
      "source": [
        "<h4>Exercise 4.1 (3 Points)</h4>\n"
      ]
    },
    {
      "cell_type": "markdown",
      "source": [
        "Now that we have generated our embeddings, let's test some classical ideas:\n",
        "implement the following formula. Print out the 10 words, that are most similar to this formula: <br>\n",
        "$King-Man+Woman=???$\n",
        "There are two ways of computing similarity in word embeddings:\n",
        " - https://tedboy.github.io/nlps/generated/generated/gensim.models.Word2Vec.most_similar.html\n",
        " - https://tedboy.github.io/nlps/generated/generated/gensim.models.Word2Vec.most_similar_cosmul.html\n",
        "You should try out both! In this case one of them is better, but both of them are valid methods for computing similarity in the word-space."
      ],
      "metadata": {
        "id": "dgCMx111ej8l"
      }
    },
    {
      "cell_type": "code",
      "metadata": {
        "id": "S0y_5MLlqiMx"
      },
      "source": [
        "# Your implementation goes here."
      ],
      "execution_count": null,
      "outputs": []
    },
    {
      "cell_type": "markdown",
      "metadata": {
        "id": "7XcdY5s-cvnA"
      },
      "source": [
        "Exercise 4.2 (2 Points)"
      ]
    },
    {
      "cell_type": "markdown",
      "source": [
        "The expected outcome (Queen) should be one of the top ten most similar words. But there are also a lot of words, that you would not expect. Think about where how these words might be connected to the formula. Take your time and understand why some of the words (luther, mary, dr, president) might be in this list."
      ],
      "metadata": {
        "id": "kejO0Tmze1tq"
      }
    },
    {
      "cell_type": "markdown",
      "metadata": {
        "id": "RapTRcHce7Ua"
      },
      "source": [
        "**Your answer goes here:**"
      ]
    },
    {
      "cell_type": "markdown",
      "metadata": {
        "id": "TMtpPOVtaBup"
      },
      "source": [
        "#### t-SNE visualization\n",
        "\n",
        "We will use the t-SNE algorithm, given below, for visualization. The so-called t-Distributed Stochastic Neighbor Embedding (t-SNE) is an unsupervised and non-linear machine learning technique. It is commonly used for visualizing high dimensional data (just like our high dimensional vectors). You do not have to understand the code, its purpose is simply to give you an idea of how the data is arranged in high dimensional space."
      ]
    },
    {
      "cell_type": "markdown",
      "metadata": {
        "id": "DLyQ3qoAcvnB"
      },
      "source": [
        "<h4>Exercise 4.3 (2 Points)</h4>"
      ]
    },
    {
      "cell_type": "markdown",
      "source": [
        "To use the t-SNE code below, first put a list of the top 50 words (as **strings**, without **stopwords**) into a variable `words_top_ted`."
      ],
      "metadata": {
        "id": "JpHG2ON9fH2j"
      }
    },
    {
      "cell_type": "code",
      "metadata": {
        "id": "xXstzIntcvnC"
      },
      "source": [
        "# Your implementation goes here."
      ],
      "execution_count": null,
      "outputs": []
    },
    {
      "cell_type": "markdown",
      "metadata": {
        "id": "RSJ1AAzEcvnC"
      },
      "source": [
        "The following code gets the corresponding vectors from the model, assuming it's called `model_ted`:"
      ]
    },
    {
      "cell_type": "code",
      "metadata": {
        "id": "0-lLF1lZaBus"
      },
      "source": [
        "# This assumes words_top_ted is a list of strings, the top 250 words\n",
        "words_top_vec_ted = model_ted.wv[words_top_ted]"
      ],
      "execution_count": null,
      "outputs": []
    },
    {
      "cell_type": "markdown",
      "metadata": {
        "id": "7-NxjQVMcvnE"
      },
      "source": [
        "The next few lines are for the t-SNE visualization."
      ]
    },
    {
      "cell_type": "code",
      "metadata": {
        "id": "HeJF5ut9aBux"
      },
      "source": [
        "from sklearn.manifold import TSNE\n",
        "tsne = TSNE(n_components=2, random_state=0)\n",
        "words_top_ted_tsne = tsne.fit_transform(words_top_vec_ted)"
      ],
      "execution_count": null,
      "outputs": []
    },
    {
      "cell_type": "code",
      "metadata": {
        "id": "J2VgYLIZaBu2"
      },
      "source": [
        "p = figure(tools=\"pan,wheel_zoom,reset,save\",\n",
        "           toolbar_location=\"above\",\n",
        "           title=\"word2vec T-SNE for most common words\")\n",
        "\n",
        "source = ColumnDataSource(data=dict(x1=words_top_ted_tsne[:,0],\n",
        "                                    x2=words_top_ted_tsne[:,1],\n",
        "                                    names=words_top_ted))\n",
        "\n",
        "p.scatter(x=\"x1\", y=\"x2\", size=8, source=source)\n",
        "\n",
        "labels = LabelSet(x=\"x1\", y=\"x2\", text=\"names\", y_offset=6,\n",
        "                  text_font_size=\"8pt\", text_color=\"#555555\",\n",
        "                  source=source, text_align='center')\n",
        "p.add_layout(labels)\n",
        "\n",
        "show(p)"
      ],
      "execution_count": null,
      "outputs": []
    },
    {
      "cell_type": "markdown",
      "source": [
        "That's it. We hope you had fun and learned something in the process :-)"
      ],
      "metadata": {
        "id": "qn3osAABfZjQ"
      }
    }
  ]
}