{
  "cells": [
    {
      "cell_type": "markdown",
      "metadata": {
        "id": "ighIhhiLaBtR"
      },
      "source": [
        "## Practical Exercise 1: An Introduction to Word Embeddings and Word2Vec"
      ]
    },
    {
      "cell_type": "markdown",
      "metadata": {
        "id": "QRKl0OAYcvl2"
      },
      "source": [
        "Before we start, we would like to highlight that each of the three notebooks will contribute equally to your final grade."
      ]
    },
    {
      "cell_type": "markdown",
      "metadata": {
        "id": "qCmr1p64aBtW"
      },
      "source": [
        "This practical Exercise is presented as an IPython Notebook, with the code written for recent versions of **Python 3**.\n",
        "\n",
        "Before working with this notebook, you need to execute some of the pre-coded cells (to load libraries/functions/modules etc.). To execute one notebook cell, press `shift-enter`. The return value of the last command will be displayed, if it is not `None`.\n",
        "\n",
        "Below is a list with potentially useful library documentation, references, and resources:\n",
        "\n",
        "* IPython notebooks: <https://ipython.org/ipython-doc/3/notebook/notebook.html#introduction>\n",
        "* Numpy numerical array library: <https://docs.scipy.org/doc/>\n",
        "* Gensim's word2vec: <https://radimrehurek.com/gensim/models/word2vec.html>\n",
        "* Bokeh interactive plots: <http://bokeh.pydata.org/en/latest/> (we provide plotting code here, but click the thumbnails for more examples to copy-paste)\n",
        "* scikit-learn ML library (aka `sklearn`): <http://scikit-learn.org/stable/documentation.html>\n",
        "* nltk NLP toolkit: <http://www.nltk.org/>\n",
        "* tutorial for processing xml in python using `lxml`: <http://lxml.de/tutorial.html> (we did this for you below, but in case you need it in the future)"
      ]
    },
    {
      "cell_type": "markdown",
      "metadata": {
        "id": "3-9ymQ4XRUtG"
      },
      "source": [
        "#### Introduction & imports"
      ]
    },
    {
      "cell_type": "markdown",
      "metadata": {
        "id": "5fOOU1S7cvl8"
      },
      "source": [
        "In this notebook you will familiarize yourselves with constructing and using word-embeddings. As you recall from the lecture, word-embeddings are a type of word representation that allow words with similar meaning to have similar representations. This can be achieved by representing words as real-valued vectors in a predefined vector space. However, before delving into the embedding process, you will need to learn how to use some basic NLP tools like tokenization and regular expressions!\n",
        "Good Luck and happy coding!"
      ]
    },
    {
      "cell_type": "code",
      "execution_count": 1,
      "metadata": {
        "id": "569W6MImaBtX"
      },
      "outputs": [
        {
          "data": {
            "text/html": [
              "<style>\n",
              "        .bk-notebook-logo {\n",
              "            display: block;\n",
              "            width: 20px;\n",
              "            height: 20px;\n",
              "            background-image: url(data:image/png;base64,iVBORw0KGgoAAAANSUhEUgAAABQAAAAUCAYAAACNiR0NAAAABHNCSVQICAgIfAhkiAAAAAlwSFlzAAALEgAACxIB0t1+/AAAABx0RVh0U29mdHdhcmUAQWRvYmUgRmlyZXdvcmtzIENTNui8sowAAAOkSURBVDiNjZRtaJVlGMd/1/08zzln5zjP1LWcU9N0NkN8m2CYjpgQYQXqSs0I84OLIC0hkEKoPtiH3gmKoiJDU7QpLgoLjLIQCpEsNJ1vqUOdO7ppbuec5+V+rj4ctwzd8IIbbi6u+8f1539dt3A78eXC7QizUF7gyV1fD1Yqg4JWz84yffhm0qkFqBogB9rM8tZdtwVsPUhWhGcFJngGeWrPzHm5oaMmkfEg1usvLFyc8jLRqDOMru7AyC8saQr7GG7f5fvDeH7Ej8CM66nIF+8yngt6HWaKh7k49Soy9nXurCi1o3qUbS3zWfrYeQDTB/Qj6kX6Ybhw4B+bOYoLKCC9H3Nu/leUTZ1JdRWkkn2ldcCamzrcf47KKXdAJllSlxAOkRgyHsGC/zRday5Qld9DyoM4/q/rUoy/CXh3jzOu3bHUVZeU+DEn8FInkPBFlu3+nW3Nw0mk6vCDiWg8CeJaxEwuHS3+z5RgY+YBR6V1Z1nxSOfoaPa4LASWxxdNp+VWTk7+4vzaou8v8PN+xo+KY2xsw6une2frhw05CTYOmQvsEhjhWjn0bmXPjpE1+kplmmkP3suftwTubK9Vq22qKmrBhpY4jvd5afdRA3wGjFAgcnTK2s4hY0/GPNIb0nErGMCRxWOOX64Z8RAC4oCXdklmEvcL8o0BfkNK4lUg9HTl+oPlQxdNo3Mg4Nv175e/1LDGzZen30MEjRUtmXSfiTVu1kK8W4txyV6BMKlbgk3lMwYCiusNy9fVfvvwMxv8Ynl6vxoByANLTWplvuj/nF9m2+PDtt1eiHPBr1oIfhCChQMBw6Aw0UulqTKZdfVvfG7VcfIqLG9bcldL/+pdWTLxLUy8Qq38heUIjh4XlzZxzQm19lLFlr8vdQ97rjZVOLf8nclzckbcD4wxXMidpX30sFd37Fv/GtwwhzhxGVAprjbg0gCAEeIgwCZyTV2Z1REEW8O4py0wsjeloKoMr6iCY6dP92H6Vw/oTyICIthibxjm/DfN9lVz8IqtqKYLUXfoKVMVQVVJOElGjrnnUt9T9wbgp8AyYKaGlqingHZU/uG2NTZSVqwHQTWkx9hxjkpWDaCg6Ckj5qebgBVbT3V3NNXMSiWSDdGV3hrtzla7J+duwPOToIg42ChPQOQjspnSlp1V+Gjdged7+8UN5CRAV7a5EdFNwCjEaBR27b3W890TE7g24NAP/mMDXRWrGoFPQI9ls/MWO2dWFAar/xcOIImbbpA3zgAAAABJRU5ErkJggg==);\n",
              "        }\n",
              "    </style>\n",
              "    <div>\n",
              "        <a href=\"https://bokeh.org\" target=\"_blank\" class=\"bk-notebook-logo\"></a>\n",
              "        <span id=\"b4b6027e-1a66-4cec-8e2c-470836147172\">Loading BokehJS ...</span>\n",
              "    </div>\n"
            ]
          },
          "metadata": {},
          "output_type": "display_data"
        },
        {
          "data": {
            "application/javascript": "(function(root) {\n  function now() {\n    return new Date();\n  }\n\n  const force = true;\n\n  if (typeof root._bokeh_onload_callbacks === \"undefined\" || force === true) {\n    root._bokeh_onload_callbacks = [];\n    root._bokeh_is_loading = undefined;\n  }\n\nconst JS_MIME_TYPE = 'application/javascript';\n  const HTML_MIME_TYPE = 'text/html';\n  const EXEC_MIME_TYPE = 'application/vnd.bokehjs_exec.v0+json';\n  const CLASS_NAME = 'output_bokeh rendered_html';\n\n  /**\n   * Render data to the DOM node\n   */\n  function render(props, node) {\n    const script = document.createElement(\"script\");\n    node.appendChild(script);\n  }\n\n  /**\n   * Handle when an output is cleared or removed\n   */\n  function handleClearOutput(event, handle) {\n    const cell = handle.cell;\n\n    const id = cell.output_area._bokeh_element_id;\n    const server_id = cell.output_area._bokeh_server_id;\n    // Clean up Bokeh references\n    if (id != null && id in Bokeh.index) {\n      Bokeh.index[id].model.document.clear();\n      delete Bokeh.index[id];\n    }\n\n    if (server_id !== undefined) {\n      // Clean up Bokeh references\n      const cmd_clean = \"from bokeh.io.state import curstate; print(curstate().uuid_to_server['\" + server_id + \"'].get_sessions()[0].document.roots[0]._id)\";\n      cell.notebook.kernel.execute(cmd_clean, {\n        iopub: {\n          output: function(msg) {\n            const id = msg.content.text.trim();\n            if (id in Bokeh.index) {\n              Bokeh.index[id].model.document.clear();\n              delete Bokeh.index[id];\n            }\n          }\n        }\n      });\n      // Destroy server and session\n      const cmd_destroy = \"import bokeh.io.notebook as ion; ion.destroy_server('\" + server_id + \"')\";\n      cell.notebook.kernel.execute(cmd_destroy);\n    }\n  }\n\n  /**\n   * Handle when a new output is added\n   */\n  function handleAddOutput(event, handle) {\n    const output_area = handle.output_area;\n    const output = handle.output;\n\n    // limit handleAddOutput to display_data with EXEC_MIME_TYPE content only\n    if ((output.output_type != \"display_data\") || (!Object.prototype.hasOwnProperty.call(output.data, EXEC_MIME_TYPE))) {\n      return\n    }\n\n    const toinsert = output_area.element.find(\".\" + CLASS_NAME.split(' ')[0]);\n\n    if (output.metadata[EXEC_MIME_TYPE][\"id\"] !== undefined) {\n      toinsert[toinsert.length - 1].firstChild.textContent = output.data[JS_MIME_TYPE];\n      // store reference to embed id on output_area\n      output_area._bokeh_element_id = output.metadata[EXEC_MIME_TYPE][\"id\"];\n    }\n    if (output.metadata[EXEC_MIME_TYPE][\"server_id\"] !== undefined) {\n      const bk_div = document.createElement(\"div\");\n      bk_div.innerHTML = output.data[HTML_MIME_TYPE];\n      const script_attrs = bk_div.children[0].attributes;\n      for (let i = 0; i < script_attrs.length; i++) {\n        toinsert[toinsert.length - 1].firstChild.setAttribute(script_attrs[i].name, script_attrs[i].value);\n        toinsert[toinsert.length - 1].firstChild.textContent = bk_div.children[0].textContent\n      }\n      // store reference to server id on output_area\n      output_area._bokeh_server_id = output.metadata[EXEC_MIME_TYPE][\"server_id\"];\n    }\n  }\n\n  function register_renderer(events, OutputArea) {\n\n    function append_mime(data, metadata, element) {\n      // create a DOM node to render to\n      const toinsert = this.create_output_subarea(\n        metadata,\n        CLASS_NAME,\n        EXEC_MIME_TYPE\n      );\n      this.keyboard_manager.register_events(toinsert);\n      // Render to node\n      const props = {data: data, metadata: metadata[EXEC_MIME_TYPE]};\n      render(props, toinsert[toinsert.length - 1]);\n      element.append(toinsert);\n      return toinsert\n    }\n\n    /* Handle when an output is cleared or removed */\n    events.on('clear_output.CodeCell', handleClearOutput);\n    events.on('delete.Cell', handleClearOutput);\n\n    /* Handle when a new output is added */\n    events.on('output_added.OutputArea', handleAddOutput);\n\n    /**\n     * Register the mime type and append_mime function with output_area\n     */\n    OutputArea.prototype.register_mime_type(EXEC_MIME_TYPE, append_mime, {\n      /* Is output safe? */\n      safe: true,\n      /* Index of renderer in `output_area.display_order` */\n      index: 0\n    });\n  }\n\n  // register the mime type if in Jupyter Notebook environment and previously unregistered\n  if (root.Jupyter !== undefined) {\n    const events = require('base/js/events');\n    const OutputArea = require('notebook/js/outputarea').OutputArea;\n\n    if (OutputArea.prototype.mime_types().indexOf(EXEC_MIME_TYPE) == -1) {\n      register_renderer(events, OutputArea);\n    }\n  }\n  if (typeof (root._bokeh_timeout) === \"undefined\" || force === true) {\n    root._bokeh_timeout = Date.now() + 5000;\n    root._bokeh_failed_load = false;\n  }\n\n  const NB_LOAD_WARNING = {'data': {'text/html':\n     \"<div style='background-color: #fdd'>\\n\"+\n     \"<p>\\n\"+\n     \"BokehJS does not appear to have successfully loaded. If loading BokehJS from CDN, this \\n\"+\n     \"may be due to a slow or bad network connection. Possible fixes:\\n\"+\n     \"</p>\\n\"+\n     \"<ul>\\n\"+\n     \"<li>re-rerun `output_notebook()` to attempt to load from CDN again, or</li>\\n\"+\n     \"<li>use INLINE resources instead, as so:</li>\\n\"+\n     \"</ul>\\n\"+\n     \"<code>\\n\"+\n     \"from bokeh.resources import INLINE\\n\"+\n     \"output_notebook(resources=INLINE)\\n\"+\n     \"</code>\\n\"+\n     \"</div>\"}};\n\n  function display_loaded() {\n    const el = document.getElementById(\"b4b6027e-1a66-4cec-8e2c-470836147172\");\n    if (el != null) {\n      el.textContent = \"BokehJS is loading...\";\n    }\n    if (root.Bokeh !== undefined) {\n      if (el != null) {\n        el.textContent = \"BokehJS \" + root.Bokeh.version + \" successfully loaded.\";\n      }\n    } else if (Date.now() < root._bokeh_timeout) {\n      setTimeout(display_loaded, 100)\n    }\n  }\n\n  function run_callbacks() {\n    try {\n      root._bokeh_onload_callbacks.forEach(function(callback) {\n        if (callback != null)\n          callback();\n      });\n    } finally {\n      delete root._bokeh_onload_callbacks\n    }\n    console.debug(\"Bokeh: all callbacks have finished\");\n  }\n\n  function load_libs(css_urls, js_urls, callback) {\n    if (css_urls == null) css_urls = [];\n    if (js_urls == null) js_urls = [];\n\n    root._bokeh_onload_callbacks.push(callback);\n    if (root._bokeh_is_loading > 0) {\n      console.debug(\"Bokeh: BokehJS is being loaded, scheduling callback at\", now());\n      return null;\n    }\n    if (js_urls == null || js_urls.length === 0) {\n      run_callbacks();\n      return null;\n    }\n    console.debug(\"Bokeh: BokehJS not loaded, scheduling load and callback at\", now());\n    root._bokeh_is_loading = css_urls.length + js_urls.length;\n\n    function on_load() {\n      root._bokeh_is_loading--;\n      if (root._bokeh_is_loading === 0) {\n        console.debug(\"Bokeh: all BokehJS libraries/stylesheets loaded\");\n        run_callbacks()\n      }\n    }\n\n    function on_error(url) {\n      console.error(\"failed to load \" + url);\n    }\n\n    for (let i = 0; i < css_urls.length; i++) {\n      const url = css_urls[i];\n      const element = document.createElement(\"link\");\n      element.onload = on_load;\n      element.onerror = on_error.bind(null, url);\n      element.rel = \"stylesheet\";\n      element.type = \"text/css\";\n      element.href = url;\n      console.debug(\"Bokeh: injecting link tag for BokehJS stylesheet: \", url);\n      document.body.appendChild(element);\n    }\n\n    for (let i = 0; i < js_urls.length; i++) {\n      const url = js_urls[i];\n      const element = document.createElement('script');\n      element.onload = on_load;\n      element.onerror = on_error.bind(null, url);\n      element.async = false;\n      element.src = url;\n      console.debug(\"Bokeh: injecting script tag for BokehJS library: \", url);\n      document.head.appendChild(element);\n    }\n  };\n\n  function inject_raw_css(css) {\n    const element = document.createElement(\"style\");\n    element.appendChild(document.createTextNode(css));\n    document.body.appendChild(element);\n  }\n\n  const js_urls = [\"https://cdn.bokeh.org/bokeh/release/bokeh-3.2.1.min.js\", \"https://cdn.bokeh.org/bokeh/release/bokeh-gl-3.2.1.min.js\", \"https://cdn.bokeh.org/bokeh/release/bokeh-widgets-3.2.1.min.js\", \"https://cdn.bokeh.org/bokeh/release/bokeh-tables-3.2.1.min.js\", \"https://cdn.bokeh.org/bokeh/release/bokeh-mathjax-3.2.1.min.js\"];\n  const css_urls = [];\n\n  const inline_js = [    function(Bokeh) {\n      Bokeh.set_log_level(\"info\");\n    },\nfunction(Bokeh) {\n    }\n  ];\n\n  function run_inline_js() {\n    if (root.Bokeh !== undefined || force === true) {\n          for (let i = 0; i < inline_js.length; i++) {\n      inline_js[i].call(root, root.Bokeh);\n    }\nif (force === true) {\n        display_loaded();\n      }} else if (Date.now() < root._bokeh_timeout) {\n      setTimeout(run_inline_js, 100);\n    } else if (!root._bokeh_failed_load) {\n      console.log(\"Bokeh: BokehJS failed to load within specified timeout.\");\n      root._bokeh_failed_load = true;\n    } else if (force !== true) {\n      const cell = $(document.getElementById(\"b4b6027e-1a66-4cec-8e2c-470836147172\")).parents('.cell').data().cell;\n      cell.output_area.append_execute_result(NB_LOAD_WARNING)\n    }\n  }\n\n  if (root._bokeh_is_loading === 0) {\n    console.debug(\"Bokeh: BokehJS loaded, going straight to plotting\");\n    run_inline_js();\n  } else {\n    load_libs(css_urls, js_urls, function() {\n      console.debug(\"Bokeh: BokehJS plotting callback run at\", now());\n      run_inline_js();\n    });\n  }\n}(window));",
            "application/vnd.bokehjs_load.v0+json": ""
          },
          "metadata": {},
          "output_type": "display_data"
        }
      ],
      "source": [
        "# Importing necessary libraries/modules; requires to be executed once for every session\n",
        "import numpy as np\n",
        "import matplotlib.pyplot as plt\n",
        "import os\n",
        "from random import shuffle\n",
        "import re\n",
        "import nltk\n",
        "\n",
        "from bokeh.models import ColumnDataSource, LabelSet\n",
        "from bokeh.plotting import figure, show, output_file\n",
        "from bokeh.io import output_notebook\n",
        "output_notebook()\n",
        "#nltk.download('punkt')\n",
        "\n",
        "from wordcloud import WordCloud"
      ]
    },
    {
      "cell_type": "code",
      "execution_count": null,
      "metadata": {
        "id": "ofHeuGejaZHs"
      },
      "outputs": [],
      "source": [
        "# Here we install nltk. You only have to execute this cell once!\n",
        "try:\n",
        "    import nltk\n",
        "except:\n",
        "    import sys\n",
        "    !{sys.executable} -m pip install nltk\n",
        "    import nltk\n",
        "    nltk.download()"
      ]
    },
    {
      "cell_type": "code",
      "execution_count": 11,
      "metadata": {},
      "outputs": [
        {
          "name": "stderr",
          "output_type": "stream",
          "text": [
            "[nltk_data] Downloading package stopwords to\n",
            "[nltk_data]     C:\\Users\\janni\\AppData\\Roaming\\nltk_data...\n",
            "[nltk_data]   Unzipping corpora\\stopwords.zip.\n"
          ]
        },
        {
          "data": {
            "text/plain": [
              "True"
            ]
          },
          "execution_count": 11,
          "metadata": {},
          "output_type": "execute_result"
        }
      ],
      "source": [
        "nltk.download('stopwords')"
      ]
    },
    {
      "cell_type": "markdown",
      "metadata": {
        "id": "Haav4K7YaBti"
      },
      "source": [
        "### Part 0: Download the TED dataset"
      ]
    },
    {
      "cell_type": "markdown",
      "metadata": {
        "id": "TXCrpUdjcvmM"
      },
      "source": [
        "For this practical exercise, we need a large amount of text data. We will use the TED database, which are the transcripts of Ted Talks. The next cells will download everything you need, this might take a while as the dataset is 75MB large."
      ]
    },
    {
      "cell_type": "code",
      "execution_count": 32,
      "metadata": {
        "id": "stf464BBaBtj"
      },
      "outputs": [],
      "source": [
        "import zipfile\n",
        "import lxml.etree"
      ]
    },
    {
      "cell_type": "code",
      "execution_count": 3,
      "metadata": {
        "id": "91T_rkPbaBtn"
      },
      "outputs": [],
      "source": [
        "# Upload the dataset if it's not already there: this may take a minute..\n",
        "if not os.path.isfile('ted_en-20160408.zip'):\n",
        "  from google.colab import files\n",
        "  # select the file \"ted_en-20160408.zip\" from your local drive here\n",
        "  uploaded = files.upload()"
      ]
    },
    {
      "cell_type": "code",
      "execution_count": 33,
      "metadata": {
        "id": "0oWf1JkvaBtr"
      },
      "outputs": [
        {
          "name": "stdout",
          "output_type": "stream",
          "text": [
            "<class 'str'>\n"
          ]
        }
      ],
      "source": [
        "# For now, we're only interested in the subtitle text, so let's extract that from the XML:\n",
        "with zipfile.ZipFile('ted_en-20160408.zip', 'r') as z:\n",
        "    doc = lxml.etree.parse(z.open('ted_en-20160408.xml', 'r'))\n",
        "input_text = '\\n'.join(doc.xpath('//content/text()'))\n",
        "\n",
        "print(type(input_text))"
      ]
    },
    {
      "cell_type": "markdown",
      "metadata": {
        "id": "LNL6FNYQA9QO"
      },
      "source": [
        "To give you a little bit of an idea about the structure of the dataset, you can open the `xml` file inside the zip folder and have a look at it. The dataset consists of metadata or properties of TedTalks, such as speaker information, language, transcripts, tags, date, and much more.\n",
        "\n",
        "As you can see, the `xml` file has lots of different tags to mark the beginning and end of the particular datapoint. The code cell bellow shows the tags that are inside the `xml` file. As you can already imagine, the tags are used to mark different properties of the data. For this assignment, we are interested in the content/text only, which is the reason for extracting the text from the content tag and from it, create the text data."
      ]
    },
    {
      "cell_type": "code",
      "execution_count": 4,
      "metadata": {
        "id": "AcrOfaQfhDVY"
      },
      "outputs": [
        {
          "name": "stdout",
          "output_type": "stream",
          "text": [
            "videourl\n",
            "date\n",
            "transcriber\n",
            "dtime\n",
            "title\n",
            "description\n",
            "content\n",
            "url\n",
            "head\n",
            "encoding\n",
            "xml\n",
            "translators\n",
            "videopath\n",
            "content-type\n",
            "transcription\n",
            "seekvideo\n",
            "translator\n",
            "transcribers\n",
            "pagesize\n",
            "charnum\n",
            "speaker\n",
            "reviewer\n",
            "talkid\n",
            "wordnum\n",
            "keywords\n",
            "reviewers\n",
            "file\n"
          ]
        }
      ],
      "source": [
        "# Extract all the tags in the XML\n",
        "tags = [element.tag for element in doc.iter()]\n",
        "\n",
        "# Get unique tags using a set\n",
        "unique_tags = set(tags)\n",
        "\n",
        "# Print the unique tags\n",
        "for tag in unique_tags:\n",
        "    print(tag)\n",
        "\n",
        "# Delete the variable doc to save space as we have alreay extracted the necessary data we need.\n",
        "del doc"
      ]
    },
    {
      "cell_type": "markdown",
      "metadata": {
        "id": "G9UVfpExaBtu"
      },
      "source": [
        "### Part 1: Preprocessing\n",
        "\n",
        "Although language oftentimes follows strict rules and structures, text datasets in practice are often noisy. Before we can use our text data, we therefore need to clean it. This process is called *preprocessing*. If we don't do this, the data may be inconsistent and therefore more difficult to analyze and work with. You may ask yourself, what exactly do we need to clean, where exactly would we expect inconsistencies? Take a moment and think about it potential hickups in the raw data. What we need to do, is to preprocess the text and bring it into a clean and consistent format, allowing further analyzing steps."
      ]
    },
    {
      "cell_type": "markdown",
      "metadata": {
        "id": "eKWHxHG7bkWa"
      },
      "source": [
        "<h4>Exercise 1.1 (3 Points)</h4>\n",
        "\n"
      ]
    },
    {
      "cell_type": "markdown",
      "metadata": {
        "id": "Lf3LEeuDVcs4"
      },
      "source": [
        "The following part of the code shows a chunk of text from our ted text dataset. Have a look and try to identify **three** issues you can think of that can create a problem for text analysis, next to the one which is already provided. When giving your answer, we ask you to also mention **why** the issues could be problematic (similar to the example given). Each correct answer (naming + explaining the problem) will give 1 point."
      ]
    },
    {
      "cell_type": "code",
      "execution_count": 5,
      "metadata": {
        "id": "yGpx6RFzaBtv",
        "scrolled": false
      },
      "outputs": [
        {
          "name": "stdout",
          "output_type": "stream",
          "text": [
            "Hyowon Gweon: See this? (Ball squeaks) Did you see that? (Ball squeaks) Cool. See this one? (Ball squeaks) Wow.\n",
            "Laura Schulz: Told you. (Laughs)\n",
            "(Video) HG: See this one? (Ball squeaks) Hey Clara, this one's for you. You can go ahead and play. (Laughter)\n",
            "LS: I don't even have to talk, right? All rig\n",
            "\n",
            "You will earn 10% of any gold you distributes\n"
          ]
        }
      ],
      "source": [
        "# Have a look at the output of this code, to see some text examples.\n",
        "i = input_text.find(\"Hyowon Gweon: See this?\")\n",
        "print(input_text[i:i+300])\n",
        "print()\n",
        "\n",
        "i = input_text.find(\"You will earn\")\n",
        "print(input_text[i:i+45])"
      ]
    },
    {
      "cell_type": "markdown",
      "metadata": {
        "id": "33t3GOGqcvmZ"
      },
      "source": [
        "<b>Your Solution goes here:</b>\n",
        "<br>- Speakers' names: embeddings for names will dominate the embedding space unnecessarily.\n",
        "<br>- Annotations in brackets dominate the embedding space without adding any context.\n",
        "<br>- remove commas to reduce embedding space\n",
        "<br>- changing all letters to lowercase, to reduce the embedding space without losing much context"
      ]
    },
    {
      "cell_type": "markdown",
      "metadata": {
        "id": "3F5MFEDWt-WN"
      },
      "source": [
        "<h4>Exercise 1.2 (9 Points)</h4>\n",
        "\n",
        "Next we want to create a preprocessing pipeline to later clean the entire dataset in one go. The pipeline takes `input_text` as input and should provide a cleaned and ready-to-use text data called `cleaned_text`.\n",
        "\n",
        "Your task is to implement this pipeline with **three** functions that each take care of **one** of the **three** issues you listed in exercise 1.1.\n",
        "\n",
        "Some hints about the pipeline are given as well as the code for the example from 1.1.\n",
        "\n",
        "#### Do not execute the Preprocessing pipeline, just scroll down and load data from pickled files "
      ]
    },
    {
      "cell_type": "code",
      "execution_count": 34,
      "metadata": {
        "id": "Ow4UqreOvXH_"
      },
      "outputs": [],
      "source": [
        "import string\n",
        "mytext = \"\"\"Hyowon Gweon: See this? (Ball squeaks) Did you see that? (Ball squeaks) Cool. See this one? (Ball squeaks) Wow.\n",
        "Laura Schulz: Told you. (Laughs)\n",
        "(Video) HG: See this one? (Ball squeaks) Hey Clara, this one's for you. You can go ahead and play. (Laughter)\n",
        "LS: I don't even have to talk, right? All rig\n",
        "\n",
        "You will earn 10% of any gold you distributes\"\"\"\n",
        "\n",
        "def remove_speaker(text):\n",
        "  ''' takes the text as an input and removes the name of the speaker as output '''\n",
        "\n",
        "  input_text = text\n",
        "\n",
        "  X = []\n",
        "  for line in input_text.split('\\n'):\n",
        "      #print(line)\n",
        "      m = re.match(r'^(?:(?P<precolon>[^:]{,20}):)?(?P<postcolon>.*)$', line)\n",
        "      X.extend(m.groupdict()['postcolon'])\n",
        "  without_speaker=\"\".join(X)\n",
        "  return without_speaker\n",
        "\n",
        "\n",
        "## To Do ##\n",
        "# implement your 3 functions.\n",
        "# Make the name of the functions sensible.\n",
        "\n",
        "def remove_annotations(text):\n",
        "   \n",
        "  input_text = text\n",
        "  without_annotations = re.sub(r'\\(.*?\\)\\ *', '', input_text)\n",
        "\n",
        "  return without_annotations\n",
        "\n",
        "\n",
        "def remove_capital_letters(text):\n",
        "  \n",
        "  return text.lower()\n",
        "\n",
        "  \n",
        "def remove_commas(text):\n",
        "\n",
        "  input_text = text\n",
        "  without_commas = input_text.replace(\",\", \"\")\n",
        "  return without_commas\n",
        "\n",
        "\n",
        "\n",
        "def text_cleaned(input_text):\n",
        "\n",
        "  ''' takes the raw text as input. Runs the text through cleaning functions.\n",
        "       outputs a clean an preprocessed text for further analysis. '''\n",
        "\n",
        "  ## To Do ##\n",
        "  # include your functions here - you can order the pipeline however you want.\n",
        "  clean_text = remove_speaker(input_text)\n",
        "  clean_text = remove_annotations(clean_text)\n",
        "  clean_text = remove_capital_letters(clean_text)\n",
        "  clean_text = remove_commas(clean_text)\n",
        "\n",
        "  return clean_text\n",
        "\n",
        "input_text_clean = text_cleaned(input_text)"
      ]
    },
    {
      "cell_type": "code",
      "execution_count": 35,
      "metadata": {},
      "outputs": [
        {
          "data": {
            "text/plain": [
              "23660193"
            ]
          },
          "execution_count": 35,
          "metadata": {},
          "output_type": "execute_result"
        }
      ],
      "source": [
        "len(input_text_clean)"
      ]
    },
    {
      "cell_type": "markdown",
      "metadata": {
        "id": "sX5lFA4XijPm"
      },
      "source": [
        "<h4>Exercise 1.3 (6 Points)</h4>\n",
        "\n",
        "To continue with building our embedding, we need to tokenize every single word (so that the model has individual tokens to process). Therefore we first need to split the text into sentences and after that into words.\n",
        "Try it yourselves or use the NLTK-Tools build for this (https://www.kite.com/python/docs/nltk.word_tokenize + https://www.kite.com/python/docs/nltk.sent_tokenize).\n",
        "To make it easier, we should also delete every character that is not a letter. Additionally, we could decrease the size of our vocabulary. A way to do this is by converting capital characters to lower case characters (but it also has some drawbacks - more on this in exercise 1.4).<br>\n",
        "\n",
        "Split your text into sentences and save them in the array `sentences_strings_ted`.\n",
        "Save one variabale `tokens` with all the tokens in the text and one array named `sentences_ted` that contains an array for every sentence, with all the tokenized words of that sentence.<br><br>\n",
        "Example:<br>\n",
        "If the text looks like this: \"I love cake. You have to be honest, you love it too!\", the variables should look like:<br>\n",
        "sentences_strings_ted=['I love cake.', 'You have to be honest, you love it too!']<br>\n",
        "sentences_ted=[['i', 'love', 'cake'], ['you', 'have', 'to', 'be', 'honest', 'you', 'love', 'it', 'too']]<br>\n",
        "tokens=['i', 'love', 'cake', 'you', 'have', 'to', 'be', 'honest', 'you', 'love', 'it', 'too']<br><br>\n",
        "\n",
        "IMPORTANT: Apply this to `input_text_clean`.<br><br>\n",
        "\n",
        "\n",
        " **[Hint:]** use pickle file (.pkl) to dump and load the variables like `sentences_strings_ted`, `tokens`, `sentences_ted` to continue where you left, when you comeback next time. It will save a lot of time/effort."
      ]
    },
    {
      "cell_type": "code",
      "execution_count": 36,
      "metadata": {
        "id": "_zAfwo7Dcvml"
      },
      "outputs": [],
      "source": [
        "import pickle\n",
        "translator = str.maketrans('', '', string.punctuation)\n",
        "stopwords = nltk.corpus.stopwords.words('english')\n",
        "sentences_strings_ted = nltk.sent_tokenize(input_text_clean)\n",
        "tokens = nltk.word_tokenize(input_text_clean.translate(translator))\n",
        "sentences_ted = []\n",
        "for i in sentences_strings_ted:\n",
        "    sentences_ted.append(nltk.word_tokenize(i.translate(translator)))\n",
        "    \n",
        "preprocessed = [sentences_strings_ted, sentences_ted, tokens]\n",
        "with open('sentences_strings_ted.pickle', 'wb') as f:\n",
        "   pickle.dump(sentences_strings_ted, f)\n",
        "\n",
        "with open('sentences_ted.pickle', 'wb') as f:\n",
        "   pickle.dump(sentences_ted, f)\n",
        "\n",
        "with open('tokens.pickle', 'wb') as f:\n",
        "   pickle.dump(tokens, f)"
      ]
    },
    {
      "cell_type": "code",
      "execution_count": 37,
      "metadata": {},
      "outputs": [],
      "source": [
        "#load serialized preprocessed data\n",
        "with open('sentences_strings_ted.pickle', 'rb') as f:\n",
        "  sentences_strings_ted = pickle.load(f)\n",
        "\n",
        "with open('sentences_ted.pickle', 'rb') as f:\n",
        "  sentences_ted = pickle.load(f)\n",
        "\n",
        "with open('tokens.pickle', 'rb') as f:\n",
        "  tokens = pickle.load(f)"
      ]
    },
    {
      "cell_type": "code",
      "execution_count": 43,
      "metadata": {},
      "outputs": [
        {
          "data": {
            "text/plain": [
              "[\"here are two reasons companies fail: they only do more of the same or they only do what's new.to me the real real solution to quality growth is figuring out the balance between two activities: exploration and exploitation.\",\n",
              " 'both are necessary but it can be too much of a good thing.consider facit.',\n",
              " \"i'm actually old enough to remember them.\",\n",
              " 'facit was a fantastic company.',\n",
              " 'they were born deep in the swedish forest and they made the best mechanical calculators in the world.',\n",
              " 'everybody used them.',\n",
              " 'and what did facit do when the electronic calculator came along?',\n",
              " 'they continued doing exactly the same.',\n",
              " 'in six months they went from maximum revenue ... and they were gone.',\n",
              " 'gone.to me the irony about the facit story is hearing about the facit engineers who had bought cheap small electronic calculators in japan that they used to double-check their calculators.facit did too much exploitation.',\n",
              " 'but exploration can go wild too.a few years back i worked closely alongside a european biotech company.',\n",
              " \"let's call them oncosearch.\",\n",
              " 'the company was brilliant.',\n",
              " 'they had applications that promised to diagnose even cure certain forms of blood cancer.',\n",
              " 'every day was about creating something new.',\n",
              " 'they were extremely innovative and the mantra was \"when we only get it right\" or even \"we want it perfect.\"',\n",
              " 'the sad thing is before they became perfect -- even good enough -- they became obsolete.',\n",
              " 'oncosearch did too much exploration.i first heard about exploration and exploitation about 15 years ago when i worked as a visiting scholar at stanford university.',\n",
              " 'the founder of the idea is jim march.',\n",
              " 'and to me the power of the idea is its practicality.exploration.',\n",
              " \"exploration is about coming up with what's new.\",\n",
              " \"it's about search it's about discovery it's about new products it's about new innovations.\",\n",
              " \"it's about changing our frontiers.\",\n",
              " 'our heroes are people who have done exploration: madame curie picasso neil armstrong sir edmund hillary etc.',\n",
              " 'i come from norway; all our heroes are explorers and they deserve to be.',\n",
              " 'we all know that exploration is risky.',\n",
              " \"we don't know the answers we don't know if we're going to find them and we know that the risks are high.exploitation is the opposite.\",\n",
              " 'exploitation is taking the knowledge we have and making good better.',\n",
              " 'exploitation is about making our trains run on time.',\n",
              " \"it's about making good products faster and cheaper.\",\n",
              " 'exploitation is not risky -- in the short term.',\n",
              " \"but if we only exploit it's very risky in the long term.\",\n",
              " 'and i think we all have memories of the famous pop groups who keep singing the same songs again and again until they become obsolete or even pathetic.',\n",
              " \"that's the risk of exploitation.so if we take a long-term perspective we explore.\",\n",
              " 'if we take a short-term perspective we exploit.',\n",
              " 'small children they explore all day.',\n",
              " \"all day it's about exploration.\",\n",
              " 'as we grow older we explore less because we have more knowledge to exploit on.',\n",
              " 'the same goes for companies.',\n",
              " 'companies become by nature less innovative as they become more competent.and this is of course a big worry to ceos.',\n",
              " 'and i hear very often questions phrased in different ways.',\n",
              " 'for example \"how can i both effectively run and reinvent my company?\"',\n",
              " 'or \"how can i make sure that our company changes before we become obsolete or are hit by a crisis?\"',\n",
              " 'so doing one well is difficult.',\n",
              " \"doing both well as the same time is art -- pushing both exploration and exploitation.so one thing we've found is only about two percent of companies are able to effectively explore and exploit at the same time in parallel.\",\n",
              " 'but when they do the payoffs are huge.',\n",
              " 'so we have lots of great examples.',\n",
              " 'we have nestlé creating nespresso we have lego going into animated films toyota creating the hybrids unilever pushing into sustainability -- there are lots of examples and the benefits are huge.why is balancing so difficult?',\n",
              " \"i think it's difficult because there are so many traps that keep us where we are.\",\n",
              " \"so i'll talk about two but there are many.so let's talk about the perpetual search trap.\",\n",
              " \"we discover something but we don't have the patience or the persistence to get at it and make it work.\",\n",
              " 'so instead of staying with it we create something new.',\n",
              " \"but the same goes for that then we're in the vicious circle of actually coming up with ideas but being frustrated.\",\n",
              " 'oncosearch was a good example.',\n",
              " 'a famous example is of course xerox.',\n",
              " \"but we don't only see this in companies.\",\n",
              " 'we see this in the public sector as well.',\n",
              " 'we all know that any kind of effective reform of education research health care even defense takes 10 15 maybe 20 years to work.',\n",
              " 'but still we change much more often.',\n",
              " \"we really don't give them the chance.another trap is the success trap.\",\n",
              " 'facit fell into the success trap.',\n",
              " \"they literally held the future in their hands but they couldn't see it.\",\n",
              " \"they were simply so good at making what they loved doing that they wouldn't change.\",\n",
              " 'we are like that too.',\n",
              " \"when we know something well it's difficult to change.\",\n",
              " 'bill gates has said: \"success is a lousy teacher.',\n",
              " 'it seduces us into thinking we cannot fail.\"',\n",
              " \"that's the challenge with success.so i think there are some lessons and i think they apply to us.\",\n",
              " 'and they apply to our companies.',\n",
              " 'the first lesson is: get ahead of the crisis.',\n",
              " \"and any company that's able to innovate is actually able to also buy an insurance in the future.\",\n",
              " 'netflix -- they could so easily have been content with earlier generations of distribution but they always -- and i think they will always -- keep pushing for the next battle.',\n",
              " 'i see other companies that say \"i\\'ll win the next innovation cycle whatever it takes.\"',\n",
              " 'think in multiple time scales.',\n",
              " \"i'll share a chart with you and i think it's a wonderful one.\",\n",
              " 'any company we look at taking a one-year perspective and looking at the valuation of the company innovation typically accounts for only about 30 percent.',\n",
              " \"so when we think one year innovation isn't really that important.\",\n",
              " 'move ahead take a 10-year perspective on the same company -- suddenly innovation and ability to renew account for 70 percent.',\n",
              " \"but companies can't choose.\",\n",
              " 'they need to fund the journey and lead the long term.',\n",
              " 'invite talent.',\n",
              " \"i don't think it's possible for any of us to be able to balance exploration and exploitation by ourselves.\",\n",
              " \"i think it's a team sport.\",\n",
              " 'i think we need to allow challenging.',\n",
              " 'i think the mark of a great company is being open to be challenged and the mark of a good corporate board is to constructively challenge.',\n",
              " \"i think that's also what good parenting is about.\",\n",
              " 'be skeptical of success.',\n",
              " \"maybe it's useful to think back at the old triumph marches in rome when the generals after a big victory were given their celebration.\",\n",
              " 'riding into rome on the carriage they always had a companion whispering in their ear \"remember you\\'re only human.',\n",
              " '\"so i hope i made the point: balancing exploration and exploitation has a huge payoff.',\n",
              " \"but it's difficult and we need to be conscious.i want to just point out two questions that i think are useful.\",\n",
              " 'first question is looking at your own company: in which areas do you see that the company is at the risk of falling into success traps of just going on autopilot?',\n",
              " 'and what can you do to challenge?',\n",
              " 'when did i explore something new last and what kind of effect did it have on me?',\n",
              " 'is that something i should do more of?',\n",
              " 'in my case yes.so let me leave you with this.',\n",
              " \"whether you're an explorer by nature or whether you tend to exploit what you already know don't forget: the beauty is in the balance.thank you.so there are lands few and far between on earth itself that are hospitable to humans by any measure but survive we have.\",\n",
              " 'our primitive ancestors when they found their homes and livelihood endangered they dared to make their way into unfamiliar territories in search of better opportunities.',\n",
              " 'and as the descendants of these explorers we have their nomadic blood coursing through our own veins.',\n",
              " 'but at the same time distracted by our bread and circuses and embroiled in the wars that we have waged on each other it seems that we have forgotten this desire to explore.',\n",
              " \"we as a species we're evolved uniquely for earth on earth and by earth and so content are we with our living conditions that we have grown complacent and just too busy to notice that its resources are finite and that our sun's life is also finite.\",\n",
              " \"while mars and all the movies made in its name have reinvigorated the ethos for space travel few of us seem to truly realize that our species' fragile constitution is woefully unprepared for long duration journeys into space.let us take a trek to your local national forest for a quick reality check.\",\n",
              " 'so just a quick show of hands here: how many of you think you would be able to survive in this lush wilderness for a few days?',\n",
              " \"well that's a lot of you.\",\n",
              " 'how about a few weeks?',\n",
              " \"that's a decent amount.\",\n",
              " 'how about a few months?',\n",
              " \"that's pretty good too.\",\n",
              " 'now let us imagine that this local national forest experiences an eternal winter.',\n",
              " 'same questions: how many of you think you would be able to survive for a few days?',\n",
              " \"that's quite a lot.\",\n",
              " 'how about a few weeks?',\n",
              " 'so for a fun twist let us imagine that the only source of water available is trapped as frozen blocks miles below the surface.',\n",
              " 'soil nutrients are so minimal that no vegetation can be found and of course hardly any atmosphere exists to speak of.such examples are only a few of the many challenges we would face on a planet like mars.',\n",
              " 'so how do we steel ourselves for voyages whose destinations are so far removed from a tropical vacation?',\n",
              " 'will we continuously ship supplies from planet earth?',\n",
              " 'build space elevators or impossible miles of transport belts that tether your planet of choice to our home planet?',\n",
              " \"and how do we grow things like food that grew up on earth like us?but i'm getting ahead of myself.\",\n",
              " \"in our species' journey to find a new home under a new sun we are more likely than not going to be spending much time in the journey itself in space on a ship a hermetic flying can possibly for many generations.the longest continuous amount of time that any human has spent in space is in the vicinity of 12 to 14 months.\",\n",
              " \"from astronauts' experiences in space we know that spending time in a microgravity environment means bone loss muscle atrophy cardiovascular problems among many other complications that range for the physiological to the psychological.\",\n",
              " 'and what about macrogravity or any other variation in gravitational pull of the planet that we find ourselves on?in short our cosmic voyages will be fraught with dangers both known and unknown.',\n",
              " \"so far we've been looking to this new piece of mechanical technology or that great next generation robot as part of a lineup to ensure our species safe passage in space.\",\n",
              " 'wonderful as they are i believe the time has come for us to complement these bulky electronic giants with what nature has already invented: the microbe a single-celled organism that is itself a self-generating self-replenishing living machine.',\n",
              " 'it requires fairly little to maintain offers much flexibility in design and only asks to be carried in a single plastic tube.the field of study that has enabled us to utilize the capabilities of the microbe is known as synthetic biology.',\n",
              " 'it comes from molecular biology which has given us antibiotics vaccines and better ways to observe the physiological nuances of the human body.',\n",
              " 'using the tools of synthetic biology we can now edit the genes of nearly any organism microscopic or not with incredible speed and fidelity.',\n",
              " 'given the limitations of our man-made machines synthetic biology will be a means for us to engineer not only our food our fuel and our environment but also ourselves to compensate for our physical inadequacies and to ensure our survival in space.to give you an example of how we can use synthetic biology for space exploration let us return to the mars environment.',\n",
              " 'the martian soil composition is similar to that of hawaiian volcanic ash with trace amounts of organic material.',\n",
              " \"let's say hypothetically what if martian soil could actually support plant growth without using earth-derived nutrients?\",\n",
              " 'the first question we should probably ask is how would we make our plants cold-tolerant?',\n",
              " 'because on average the temperature on mars is a very uninviting negative 60 degrees centigrade.',\n",
              " 'the next question we should ask is how do we make our plants drought-tolerant?',\n",
              " 'considering that most of the water that forms as frost evaporates more quickly than i can say the word \"evaporate.\"',\n",
              " \"well it turns out we've already done things like this.\",\n",
              " 'by borrowing genes for anti-freeze protein from fish and genes for drought tolerance from other plants like rice and then stitching them into the plants that need them we now have plants that can tolerate most droughts and freezes.',\n",
              " \"they're known on earth as gmos or genetically modified organisms and we rely on them to feed all the mouths of human civilization.\",\n",
              " 'nature does stuff like this already without our help.',\n",
              " 'we have simply found more precise ways to do it.so why would we want to change the genetic makeup of plants for space?',\n",
              " 'well to not do so would mean needing to engineer endless acres of land on an entirely new planet by releasing trillions of gallons of atmospheric gasses and then constructing a giant glass dome to contain it all.',\n",
              " \"it's an unrealistic engineering enterprise that quickly becomes a high-cost cargo transport mission.\",\n",
              " 'one of the best ways to ensure that we will have the food supplies and the air that we need is to bring with us organisms that have been engineered to adapt to new and harsh environments.',\n",
              " 'in essence using engineered organisms to help us terraform a planet both in the short and long term.',\n",
              " 'these organisms can then also be engineered to make medicine or fuel.so we can use synthetic biology to bring highly engineered plants with us but what else can we do?',\n",
              " 'well i mentioned earlier that we as a species were evolved uniquely for planet earth.',\n",
              " 'that fact has not changed much in the last five minutes that you were sitting here and i was standing there.',\n",
              " 'and so if we were to dump any of us on mars right this minute even given ample food water air and a suit we are likely to experience very unpleasant health problems from the amount of ionizing radiation that bombards the surface of planets like mars that have little or nonexistent atmosphere.',\n",
              " 'unless we plan to stay holed up underground for the duration of our stay on every new planet we must find better ways of protecting ourselves without needing to resort to wearing a suit of armor that weighs something equal to your own body weight or needing to hide behind a wall of lead.so let us appeal to nature for inspiration.',\n",
              " \"among the plethora of life here on earth there's a subset of organisms known as extremophiles or lovers of extreme living conditions if you'll remember from high school biology.\",\n",
              " 'and among these organisms is a bacterium by the name of deinococcus radiodurans.',\n",
              " 'it is known to be able to withstand cold dehydration vacuum acid and most notably radiation.',\n",
              " 'while its radiation tolerance mechanisms are known we have yet to adapt the relevant genes to mammals.',\n",
              " 'to do so is not particularly easy.',\n",
              " \"there are many facets that go into its radiation tolerance and it's not as simple as transferring one gene.\",\n",
              " 'but given a little bit of human ingenuity and a little bit of time i think to do so is not very hard either.',\n",
              " 'even if we borrow just a fraction of its ability to tolerate radiation it would be infinitely better than what we already have which is just the melanin in our skin.',\n",
              " \"using the tools of synthetic biology we can harness deinococcus radiodurans' ability to thrive under otherwise very lethal doses of radiation.\",\n",
              " 'as difficult as it is to see homo sapiens that is humans evolves every day and still continues to evolve.',\n",
              " 'thousands of years of human evolution has not only given us humans like tibetans who can thrive in low-oxygen conditions but also argentinians who can ingest and metabolize arsenic the chemical element that can kill the average human being.',\n",
              " 'every day the human body evolves by accidental mutations that equally accidentally allow certain humans to persevere in dismal situations.but and this is a big but such evolution requires two things that we may not always have or be able to afford and they are death and time.',\n",
              " \"in our species' struggle to find our place in the universe we may not always have the time necessary for the natural evolution of extra functions for survival on non-earth planets.\",\n",
              " \"we're living in what e.o.\",\n",
              " 'wilson has termed the age of gene circumvention during which we remedy our genetic defects like cystic fibrosis or muscular dystrophy with temporary external supplements.',\n",
              " 'but with every passing day we approach the age of volitional evolution a time during which we as a species will have the capacity to decide for ourselves our own genetic destiny.',\n",
              " 'augmenting the human body with new abilities is no longer a question of how but of when.using synthetic biology to change the genetic makeup of any living organisms especially our own is not without its moral and ethical quandaries.',\n",
              " 'will engineering ourselves make us less human?',\n",
              " 'but then again what is humanity but star stuff that happens to be conscious?',\n",
              " 'where should human genius direct itself?',\n",
              " 'surely it is a bit of a waste to sit back and marvel at it.',\n",
              " 'how do we use our knowledge to protect ourselves from the external dangers and then protect ourselves from ourselves?i pose these questions not to engender the fear of science but to bring to light the many possibilities that science has afforded and continues to afford us.',\n",
              " 'we must coalesce as humans to discuss and embrace the solutions not only with caution but also with courage.mars is a destination but it will not be our last.',\n",
              " \"our true final frontier is the line we must cross in deciding what we can and should make of our species' improbable intelligence.space is cold brutal and unforgiving.\",\n",
              " 'our path to the stars will be rife with trials that will bring us to question not only who we are but where we will be going.',\n",
              " \"the answers will lie in our choice to use or abandon the technology that we have gleaned from life itself and it will define us for the remainder of our term in this universe.thank you.i've always been weirdly obsessed with advertising.\",\n",
              " 'i remember watching saturday morning cartoons paying more attention to the commercials than to the shows trying to figure out how they were trying to get inside my head.',\n",
              " 'ultimately that led me to my dream job.',\n",
              " 'i became a partner at a big new york ad agency.but then all of that suddenly changed on february 23 1997 when my little brother matt was shot in the head in a shooting that happened on the observation deck of the empire state building.',\n",
              " \"suddenly my family was thrown into the middle of a nightmare being told that my brother was going to die actually being given the opportunity to say goodbye to him then several emergency brain surgeries and now what's amounted for matt to a lifetime spent courageously recovering from a traumatic brain injury.\",\n",
              " \"he is definitely my hero.but as much as -- yeah deserves it --but as much as this tragedy was a nightmare for my family i often think about how much worse it could have been; in fact how much worse it is for the 90 families every day who aren't as fortunate who lose loved ones -- brothers sisters sons daughters parents.\",\n",
              " \"they don't all make national headlines.\",\n",
              " \"in fact most of them don't.\",\n",
              " \"they go largely unnoticed in a nation that's kind of come to accept a disgraceful national epidemic as some kind of new normal.so i quit my job in advertising to try and do something about this disgraceful national epidemic because i came to realize that the challenges to preventing gun violence are actually the same ones that made me love advertising which is to try to figure out how to engage people.\",\n",
              " 'only instead of doing it to sell products doing it to save lives.',\n",
              " 'and that comes down to finding common ground where what i want overlaps with what you want.',\n",
              " \"and you might be surprised to learn when it comes to gun violence just how much common ground there is.let's look for example at people who love to hunt a sport enjoyed by millions across the us.\",\n",
              " \"it's a proud tradition.\",\n",
              " 'families.',\n",
              " 'in some places the first day of hunting season is actually a school holiday.',\n",
              " 'what do hunters want?',\n",
              " 'well they want to hunt.',\n",
              " 'they love their guns.',\n",
              " 'they believe deeply in the second amendment right to own those guns.',\n",
              " \"but that doesn't mean there isn't common ground.in fact there's a lot of it starting with the basic idea of keeping guns out of dangerous hands.\",\n",
              " \"this isn't about taking certain guns away from all people.\",\n",
              " \"it's about keeping all guns away from certain people and it's the people that it turns out we all agree shouldn't have guns: convicted violent criminals domestic abusers the dangerously mentally ill. we can all appreciate how brady background checks have been incredibly effective in keeping guns out of those dangerous hands.\",\n",
              " \"in 20 years brady background checks at federally licensed firearm dealers have blocked 2.4 million gun sales to those people that we all agree shouldn't have guns.and whether you love guns or hate guns you probably also appreciate that there shouldn't be thousands of gun sales every day at guns shows or online without those brady background checks just like there shouldn't be two lines to get on an airplane -- one with security and one with no security.\",\n",
              " 'and --and the numbers show the overwhelming agreement among the american public: 90 percent of americans support expanding brady background checks to all gun sales -- including 90 percent of republicans more than 80 percent of gun owners more than 70 percent of nra members.',\n",
              " 'this is not a controversial idea.',\n",
              " 'in fact only six percent of the american public disagrees.',\n",
              " \"that's about the percentage of the american public that believes the moon landing was a fake.and it's also about the percentage that believes the government is putting mind-controlling technology in our tv broadcast signals.\",\n",
              " \"that's the extent to which we agree about background checks.but what about the 300 million guns already out there in homes across america?\",\n",
              " \"well first it's important to realize that those guns are mostly in the hands and homes of decent law-abiding people like you and me who want what we all want -- including keeping our families safe.\",\n",
              " \"in fact that's why more and more people are choosing to own guns.\",\n",
              " 'ten years ago 42 percent of the american public believed -- incorrectly -- that a gun makes your home safer.',\n",
              " 'today that number is 63 percent.why?',\n",
              " 'i kind of hate to say it because it gets to the dark underbelly of advertising which is if you tell a big enough lie enough times eventually that lie becomes the truth.',\n",
              " \"and that's exactly what's happened here.\",\n",
              " \"the corporate gun lobby has spent billions of dollars blocking the cdc from doing research into the public health epidemic of gun violence; blocking pediatricians from talking to parents about the dangers of guns in the home; blocking smart-gun technology and other technology that would prevent kids from firing parents' guns and would save lives.\",\n",
              " \"they're desperate to hide the truth because they view the truth as a threat to their bottom line.and every day people are dying as a result.\",\n",
              " 'and a lot of those people are children.',\n",
              " 'every day in the us nine kids are just shot unintentionally.',\n",
              " '900 children and teens take their own lives every year.',\n",
              " \"and here's the thing: they're almost all with a parent's gun.\",\n",
              " 'even two-thirds of school shootings happen with a gun taken from the home including the terrible tragedy at sandy hook.',\n",
              " \"i meet so many of these parents; it's the most heartbreaking part of my job.\",\n",
              " 'these are not bad people.',\n",
              " \"they're just living with the unimaginable consequences of a very bad decision made based on very bad information that was put into their minds by very bad people who know good and well the misery that they're causing but just don't care.\",\n",
              " \"and the result is a nightmare -- not only for families like mine but for really at the end of the day all of us.but i'm not here to talk about the nightmare of gun violence.\",\n",
              " \"i'm here to talk about our dream and it's a dream we all share which is the dream of a better safer future.\",\n",
              " 'for my organization for the brady campaign that dream is reflected in the bold goal to cut the number of gun deaths in the us in half by 2025. and i hope to leave all of you here tonight with a strong sense of exactly why that dream is so absolutely within reach.',\n",
              " 'because folks for every great movement around the world there\\'s a moment where you can look back and say \"that\\'s when things really started to change.\"',\n",
              " 'and i\\'m here to say that for the movement to end gun violence in america that moment is here.we are so clearly at a tipping point because the american public has come together by the millions like never before based on that common ground to say \"enough.\"',\n",
              " 'enough of the mass shootings in malls and movie theaters and churches and schools.',\n",
              " \"enough of the daily terror of gun violence in homes and streets that's claimed the lives of women and young black men in staggering proportions.\",\n",
              " \"enough of easy access to guns by the people that we all agree shouldn't have them.\",\n",
              " 'and enough of a small group of craven politicians putting the interests of the corporate gun lobby ahead of the people they have been elected to represent.',\n",
              " \"enough.and the really exciting thing is it's not just the usual suspects like me that are saying it anymore.\",\n",
              " \"it's so much bigger than that.\",\n",
              " \"and if you want proof let's start where most conversations in the us seem to start -- with kim kardashian.it's not really a joke.\",\n",
              " 'i mean think about when issues change.',\n",
              " \"it's when they go from being political and advocacy issues to being part of pop culture voices coming from everywhere celebrities using their platforms musicians athletes.\",\n",
              " 'the nba has come forward.',\n",
              " 'conservative pundits that you never would have imagined have come forward.',\n",
              " \"there's real cultural change -- i even hear there's a ted talk about it this year.\",\n",
              " \"that's the extent to which this cultural change is happening.\",\n",
              " \"and yes kim kardashian has made an unsolicited passionate appeal to her 35 million twitter followers for expanded background checks.let's look at the political elections that are heating up.\",\n",
              " 'this used to be the classic third-rail issue for democrats.',\n",
              " \"couldn't run from it fast enough.\",\n",
              " 'now candidates are running on it.',\n",
              " 'some are being forced to reverse very bad positions they defended very comfortably until very recently.',\n",
              " \"for somebody like me watching people wave around their negative nra ratings -- it's almost surreal to watch.\",\n",
              " \"we're still outfunded yes by the corporate gun lobby and ultimately that needs to change.\",\n",
              " 'but you know what?',\n",
              " \"we're smarter and we're scrappier and we have the truth on our side.\",\n",
              " \"and we're on offense.you know they say that the internet democratizes information.\",\n",
              " 'social media and some of the organizing tools that plug into it have democratized activism.',\n",
              " \"it's allowed us to show what 90 percent support really looks like.\",\n",
              " \"sometimes i think of it -- you know we're converging and attacking instantly by the millions kind of like white blood cells.\",\n",
              " \"it's enabled us to start to really close -- and this is the bottom line -- close that disgraceful disconnect between what the american public wants and what our elected leaders are doing about it.until recently the narrative in congress was that calls from the other side from that six percent outnumbered calls from our side 10 to one.\",\n",
              " \"we're flipping that narrative on its head.\",\n",
              " 'after that recent terrible tragedy in san bernardino we jammed congressional switchboards.',\n",
              " 'we put 15000 calls into congress in 24 hours.',\n",
              " 'and you know what?',\n",
              " 'we got a vote on a bill that nobody thought was going to see the light of day anytime soon.',\n",
              " \"we're seeing real movement to repeal some of the most evil ugly gun lobby legislation passed over the last dark decade.\",\n",
              " 'the stranglehold of the gun lobby is clearly being broken.',\n",
              " \"we've seen president obama's historic executive actions.\",\n",
              " \"they don't go all the way but they are going to save lives because they expand brady background checks to thousands of gun sales that didn't have them previously.\",\n",
              " \"and we're marching across the country -- we're not just waiting for congress to act; that would almost be the definition of insanity.\",\n",
              " \"we're marching across the country state by state marriage-equality style.and you know what?\",\n",
              " \"we're winning.\",\n",
              " \"congress is almost always the last to wake up and realize that it's on the wrong side of history.\",\n",
              " \"and when they do it's always because the american public shakes them.\",\n",
              " 'and that\\'s exactly what we\\'re doing right now as we\\'re in this tipping point.you know recently i was flying cross-country to give a speech to a large group like this although far less intimidating and the woman sitting next to me happened to be binge-watching one of my all-time favorite tv shows \"mad men\" a period tv show about advertising in the 1960s.',\n",
              " \"and as i was trying to think about how to end my remarks i'd glance up at her screen every now and then and it seemed that every time i did i'd see somebody smoking in an office or around children or while pregnant or drinking and driving or driving without seat belts or sexually harassing a coworker.and ultimately it dawned on me: what tremendous inspiration to those of us who have this dream to end gun violence.\",\n",
              " 'i mean think about how much the world has changed in a relatively short period of time how all those behaviors that were once considered commonplace or normal -- some even glamorous or sexy -- have become stigmatized in just a generation or two once they became conversations about our common ground.',\n",
              " 'that is the magnitude of the change we have the potential to create around gun violence.and that\\'s my dream that maybe someday some period tv show will depict the terrible nightmare of gun violence and a future generation of children might only be able to imagine how terrible it must have been.thank you.thank you.thank you.it has been 128 years since the last country in the world abolished slavery and 53 years since martin luther king pronounced his \"i have a dream\" speech.',\n",
              " 'but we still live in a world where the color of our skin not only gives a first impression but a lasting one that remains.i was born in a family full of colors.',\n",
              " 'my father is the son of a maid from whom he inherited an intense dark chocolate tone.',\n",
              " 'he was adopted by those who i know as my grandparents.',\n",
              " 'the matriarch my grandma has a porcelain skin and cotton-like hair.',\n",
              " 'my grandpa was somewhere between a vanilla and strawberry yogurt tone like my uncle and my cousin.',\n",
              " 'my mother is a cinnamon-skin daughter of a native brazilian with a pinch of hazel and honey and a man [who is] a mix of coffee with milk but with a lot of coffee.',\n",
              " 'she has two sisters.',\n",
              " 'one in a toasted-peanut skin and the other also adopted more on the beige side like a pancake.growing up in this family color was never important for me.',\n",
              " 'outside home however things were different soon.',\n",
              " 'color had many other meanings.i remember my first drawing lessons in school as a bunch of contradictory feelings.',\n",
              " 'it was exciting and creative but i never understood the unique flesh-colored pencil.',\n",
              " \"i was made of flesh but i wasn't pink.\",\n",
              " 'my skin was brown and people said i was black.',\n",
              " 'i was seven years old with a mess of colors in my head.later when i took my cousin to school i was usually taken for the nanny.',\n",
              " \"by helping in the kitchen at a friend's party people thought i was the maid.\",\n",
              " 'i was even treated like a prostitute just because i was walking alone on the beach with european friends.',\n",
              " 'and many times visiting my grandma or friends in upper class buildings i was invited not to use the main elevator.',\n",
              " 'because in the end with this color and this hair i cannot belong to some places.in some way i get to used to it and accept part of it.',\n",
              " 'however something inside of me keeps revolving and struggling.years later i married a spaniard.',\n",
              " 'but not any spaniard.',\n",
              " 'i chose one with the skin color of a lobster when sunburnt.since then a new question started to chase me.',\n",
              " 'what will be the color of your children?',\n",
              " 'as you can understand this is my last concern.',\n",
              " 'but thinking about it with my previous background my story led me to make my personal exercise as a photographer.',\n",
              " 'and that is how humanae was born.humanae is a pursuit to highlight our true colors rather than the untrue white red black or yellow associated with race.',\n",
              " \"it's a kind of game to question our codes.\",\n",
              " \"it's a work in progress from a personal story to a global history.i portray the subjects in a white background.\",\n",
              " 'then i choose an 11-pixel square from the nose paint the background and look for the corresponding color in the industrial palette pantone.i started with my family and friends then more and more people joined the adventure thanks to public calls coming through the social media.i thought that the main space to show my work was the internet because i want an open concept that invites everybody to push the share button in both the computer and their brain.the snowball started to roll.',\n",
              " 'the project had a great welcome -- invitations exhibitions physical formats galleries and museums ... just happened.',\n",
              " 'and among them my favorite: when humanae occupies public spaces and appears in the street it fosters a popular debate and creates a feeling of community.i have portrayed more than 3000 people in 13 different countries 19 different cities around the world.',\n",
              " 'just to mention some of them -- from someone included in the forbes list to refugees who crossed the mediterranean by boat.',\n",
              " 'in paris from the unesco headquarters to a shelter.',\n",
              " 'and students both in switzerland and favelas in rio de janeiro.all kinds of beliefs gender identities or physical impairments a newborn or terminally ill. we all together build humanae.those portraits make us rethink how we see each other.',\n",
              " 'when modern science is questioning the race concept what does it mean for us to be black white yellow red?',\n",
              " 'is it the eye the nose the mouth the hair?',\n",
              " 'or does it have to do with our origin nationality or bank account?this personal exercise turned out to be a discovery.',\n",
              " 'suddenly i realized that humanae was useful for many people.',\n",
              " 'it represents a sort of mirror for those who cannot find themselves reflected in any label.it was amazing that people started to share their thoughts about the work with me.',\n",
              " 'i have hundreds of that i will share with you too.a mother of 11 years -- a mother of an 11-year-old girl wrote me \"very good for me as a tool to work on her confidence as this past weekend one of her girlfriends argued with her that she does not belong and should not be allowed to live in norway.',\n",
              " \"so your work has a very special place in my heart and it's very important for me.\",\n",
              " '\"a woman shared her portrait on facebook and wrote \"all my life people from across the globe had difficulties to place me in a group a stereotype a box.',\n",
              " 'perhaps we should stop.',\n",
              " \"instead of framing ask the individual 'how would you label yourself?'\",\n",
              " \"then i would say 'hi.\",\n",
              " \"i'm massiel.\",\n",
              " \"i'm a dominican-dutch i grew up in a mixed family and i'm a bisexual woman.'\",\n",
              " '\"besides these unexpected and touching reactions humanae finds a new life in a different variety of fields.',\n",
              " 'just to show you some examples illustrators and art students using it as a reference for their sketches and their studies.',\n",
              " \"it's a collection of faces.researchers in the fields of anthropology physics and neuroscience use humanae with different scientific approaches related to human ethnicity optophysiology face recognition or alzheimer's.one of the most important impacts of the project is that humanae was chosen to be the cover of foreign affairs one of the most relevant political publications.\",\n",
              " 'and talking about foreign affairs i found the perfect ambassadors for my project ... teachers.',\n",
              " 'they are the ones that use humanae as a tool for educational purposes.',\n",
              " 'their passion encourages me to go back to drawing classes but this time as a teacher myself.my students both adults and kids paint their self-portraits trying to discover their own unique color.as a photographer i realize that i can be a channel for others to communicate.',\n",
              " 'as an individual as angélica every time i take a picture i feel that i am sitting in front of a therapist.',\n",
              " 'all the frustration fear and loneliness that i once felt ... becomes love.the last country -- the last country in the world who abolished slavery is the country where i was born brazil.',\n",
              " 'we still have to work hard to abolish discrimination.',\n",
              " \"that remains a common practice worldwide and that will not disappear by itself.thank you.thank you.thousands of years from now we'll look back at the first century of computing as a fascinating but very peculiar time -- the only time in history where humans were reduced to live in 2d space interacting with technology as if we were machines; a singular 100-year period in the vastness of time where humans communicated were entertained and managed their lives from behind a screen.today we spend most of our time tapping and looking at screens.\",\n",
              " 'what happened to interacting with each other?',\n",
              " \"i don't know about you but i feel limited inside this 2d world of monitors and pixels.\",\n",
              " 'and it is this very limitation and my desire to connect with people that inspires me as a creator.',\n",
              " 'put simply: i want to create a new reality a reality where technology brings us infinitely closer to each other a reality where people not devices are the center of everything.i dream of a reality where technology senses what we see touch and feel; a reality where technology no longer gets in our way but instead embraces who we are.',\n",
              " 'i dream of technology on a human path.',\n",
              " 'we have all experienced technology that enables people to act more like people products that enable natural interactions voice controls or biometrics.this is the next step in the evolution.',\n",
              " 'this is microsoft hololens the first fully untethered holographic computer.',\n",
              " 'devices like this will bring 3d holographic content right into our world enhancing the way we experience life beyond our ordinary range of perceptions.',\n",
              " \"now i'm not thinking about a distant future.\",\n",
              " \"i'm talking about today.\",\n",
              " 'we are already seeing car companies like volvo designing cars differently with hololens; universities like case western redefining the way medical students learn; and my personal favorite nasa is using hololens to let scientists explore planets holographically.now this is important.',\n",
              " \"by bringing holograms into our world i'm not just talking about a new device or a better computer.\",\n",
              " \"i'm talking about freeing ourselves from the 2d confines of traditional computing.\",\n",
              " \"temporally adjusted we're like cave people in computer terms.\",\n",
              " \"we've barely discovered charcoal and started drawing the first stick figures in our cave.\",\n",
              " 'now this is the perspective i apply to my work every single day.',\n",
              " 'and now for the next few minutes i invite all of you to apply the same perspective to the journey ahead of us.now as i put this hololens on let me explain the setup a little bit.',\n",
              " \"it's probably the most risky demo we have ever done on any stage with hololens and i can't think of a better place to do it than here at ted.\",\n",
              " 'momentarily i am going to be seeing holograms right on this stage just as clearly as i can see all of you.',\n",
              " \"now at the same time we have also this special camera that just walked in onstage so that all of you can share in this experience with me up on all the monitors.so let's start our journey.\",\n",
              " 'and what better place to begin our journey than in the computer cave of 2d.',\n",
              " \"let's explore the world all around us with this new lens and understand the computer world from a brand new perspective.the computer universe is both marvelous and primitive.\",\n",
              " \"it's a universe based on causality.\",\n",
              " 'as developers we dream the different causes and then we program the different effects.',\n",
              " \"double click on an icon that's a cause.\",\n",
              " \"open an application that's an effect.\",\n",
              " 'now when we compare this to our physical universe it is overly constraining because our universe is not digital.',\n",
              " 'our universe is analog.',\n",
              " \"our universe doesn't think in terms of zero or one true or false or black or white.\",\n",
              " 'we exist in a world governed by quantum physics a universe of zero and one both at the same time a reality based on infinite probabilities and shades of gray.',\n",
              " 'you can see how these two worlds collide.so why are screens so pervasive in our analog life?',\n",
              " 'we see screens from the moment we wake up to the moment we fall asleep.',\n",
              " \"why?i think it's because computers give us superpowers.\",\n",
              " 'within the digital universe we have the power to displace space and the power to displace time.',\n",
              " \"it doesn't matter if you're using technology for entertainment productivity or communication.\",\n",
              " \"think of it this way: let's all go home tonight and watch our favorite show on television.\",\n",
              " 'this is theater -- time and space displaced.',\n",
              " \"as soon as i'm done with this ted talk i'm going to immediately call my lovely family in seattle.\",\n",
              " \"that's displacement of space.\",\n",
              " 'now these are such great superpowers that we put up with the two-dimensional limitations of our current digital world.',\n",
              " \"but what if we didn't have to?\",\n",
              " 'what if we could have these same digital powers in our world?',\n",
              " \"you can already see glimmers of this but i believe our children's children will grow up in a world devoid of 2d technology.\",\n",
              " \"it's remarkable to dream of this world a world where technology truly understands us -- where we live work and communicate -- with tools that enhance the human experience not machines that limit our humanity.so how do we get there?\",\n",
              " 'for me the answer required looking at the problem from a different perspective.',\n",
              " 'it required sensing the world from the perspective of a machine.',\n",
              " \"if you're a machine trying to sense our world how would you actually break the problem down?\",\n",
              " \"you'd probably try to classify things as a human an environment or an object.\",\n",
              " 'but how would that machine then interact with reality?',\n",
              " 'and i can think of three ways.first as a machine i would observe or i would input reality.',\n",
              " 'speech recognition and biometric authentication are great examples of a machine interacting with humans from an input perspective.',\n",
              " 'secondly as a machine i could place digital information or output information into reality.',\n",
              " 'holograms are examples of a machine interacting with an environment from an output perspective.',\n",
              " 'finally as a machine i could exchange energy with the world via haptics.',\n",
              " 'now imagine being able to feel the temperature of a virtual object or better yet imagine pushing a hologram and having it push you back with equal force.with this perspective we are able to collapse reality into a simple matrix.',\n",
              " \"now here's a secret: as an engineer i get really excited anytime i can reduce something to the matrix.\",\n",
              " 'from self-driving cars to smartphones to this holographic computer on my head machines are becoming capable of understanding our world.',\n",
              " 'and they are starting to interact with us in significantly more personal ways.now imagine having granular control over everything in the world.',\n",
              " 'move the dial one way and you get reality.',\n",
              " 'move the dial the other way and you get virtual reality.',\n",
              " 'now imagine dialing your entire environment between virtual and real worlds.',\n",
              " 'i love it down here.',\n",
              " 'now imagine if i could look at all of you and dial from real humans into elves.',\n",
              " 'when technology truly understands our world it will again transform the ways we interact the ways we work and the ways we play.less than half a century ago two courageous men landed on the moon using computers that were less powerful than the phones in your pockets.',\n",
              " 'six hundred million humans watched them on grainy black-and-white televisions.',\n",
              " 'and the world?',\n",
              " 'the world was mesmerized.now imagine how our children and their children will experience the continued exploration of space with technology that understands this world.',\n",
              " 'we already live in a world where real-time universal translators exist.',\n",
              " 'and i can squint and i can already see holographic telepresence in our near future.',\n",
              " \"in fact since we've been lucky with our demo so far let's try doing something else even more crazy.\",\n",
              " \"i invite you to experience for the first time anywhere in the world here on the ted stage a real-life holographic teleportation between me and my friend dr. jeffrey norris from nasa's jet propulsion laboratory.finger crossed.\",\n",
              " 'hi jeff.',\n",
              " 'hey alex.',\n",
              " 'phew!',\n",
              " 'that worked.',\n",
              " 'how are you doing today jeff?doing great.',\n",
              " 'i had an awesome week.',\n",
              " 'so can you tell us a little bit jeff about where you are?',\n",
              " \"well i'm actually in three places.\",\n",
              " \"i'm standing in a room across the street while i'm standing on this stage with you while i'm standing on mars a hundred million miles away.\",\n",
              " 'wow a hundred million miles away.',\n",
              " 'this is crazy!',\n",
              " 'can you tell us a little bit more about where all this data from mars is coming from?',\n",
              " 'absolutely.',\n",
              " 'this is a precise holographic replica of mars built from data captured by the curiosity mars rover that i can explore as easily as a place on earth.',\n",
              " 'humans are natural explorers.',\n",
              " 'we can instantly understand an environment just by being present in it.',\n",
              " \"we've built tools like our mars rover to extend our vision and lengthen our reach.\",\n",
              " \"but for decades we've explored from a seat behind screens and keyboards.\",\n",
              " \"now we're leaping over all of that over the giant antennas and the relay satellites and the vastness between worlds to take our first steps on this landscape as if we were truly there.\",\n",
              " \"today a group of scientists on our mission are seeing mars as never before -- an alien world made a little more familiar because they're finally exploring it as humans should.but our dreams don't have to end with making it just like being there.\",\n",
              " 'when we dial this real world to the virtual we can do magical things.',\n",
              " 'we can see in invisible wavelengths or teleport to the top of a mountain.',\n",
              " \"perhaps someday we'll feel the minerals in a rock just by touching it.\",\n",
              " \"we're taking the first steps.\",\n",
              " 'but we want the whole world to join us in taking the next because this is not a journey for a few but for all of us.',\n",
              " 'thank you jeff this was amazing.',\n",
              " 'thank you so much for joining us on the ted stage today.thank you alex bye bye.',\n",
              " 'bye jeff.i dream about this future every single day.',\n",
              " 'i take inspiration from our ancestors.',\n",
              " 'we used to live in tribes where we interacted communicated and worked together.',\n",
              " 'we are all beginning to build technology that will enable us to return to the humanity that brought us where we are today -- technology that will let us stop living inside this 2d world of monitors and pixels and let us start remembering what it feels like to live in our 3d world.',\n",
              " \"it's a phenomenal time to be human.thank you.thanks so much.\",\n",
              " 'i have some questions.',\n",
              " \"ok. so there's been some talk in the press.\",\n",
              " \"and i'll just ask you straight then we have a straight answer.\",\n",
              " \"there's been talk about the difference between the demos and the reality of the commercial product.\",\n",
              " 'talk about this field of view issue.',\n",
              " 'is this type of experience what someone who buys the product will get?',\n",
              " \"it's a great question or said better this is a question we've been receiving in the media for possibly the last year.\",\n",
              " \"if you do your research i haven't answered that question.\",\n",
              " \"i've purposely ignored it because ultimately it's the wrong question to ask.\",\n",
              " 'that\\'s the equivalent of me showing holograms to someone for the first time and you then saying \"what\\'s the size of your television?\"',\n",
              " 'the field of view for the product is almost irrelevant.',\n",
              " 'what we should be talking about is the density of lights or radiance that shows up.',\n",
              " 'better said what the angular resolution is of the things that you see.',\n",
              " 'so from that perspective what you saw -- you know the camera is wearing a hololens.',\n",
              " \"so even if i wanted to cheat i can't.\",\n",
              " 'but the camera has a different lens on it than our eye.',\n",
              " 'right?',\n",
              " 'the camera has a fish-eye lens on it.',\n",
              " \"it's seeing a much wider view than the human eye is.\",\n",
              " 'so if you think about the points of light that show up radially from the vision of the camera which is the thing that matters: how many points of light can i get in a given volume?',\n",
              " \"that's the same as i get on this hololens as i will on that one.\",\n",
              " 'now this camera sees a much wider view of the world right?',\n",
              " 'jesus christ!he did show up!',\n",
              " \"i told you he'd show up.\",\n",
              " 'come this way.oh shit.',\n",
              " \"and there's holographic jeff norris.\",\n",
              " \"i knew something was happening but i really wasn't sure what.\",\n",
              " 'so in short: to be super crisp the camera that you see on the screen has a wider field of view than the human eye.',\n",
              " 'but the angular resolution of the holograms that you see the points of light per unit of area are actually the same.',\n",
              " \"so you spent -- jeff i'll get to you in a minute -- so you spent a lot of time mapping the stage -- that's right.\",\n",
              " \"so help me out here: if i buy a hololens and have it at home i don't need to map my apartment right?\",\n",
              " 'the hololens maps in real time at about five frames per second with this technology that we call spatial mapping.',\n",
              " \"so in your home as soon as you put it on holograms will start showing up and you'll start placing them and they'll start learning your home.\",\n",
              " \"in a stage environment where we're trying to get something on my head to communicate with something over there with all of the wireless connectivity that usually brings all conferences down we don't take the risk of trying to do this live.\",\n",
              " \"so what we do is pre-map the stage at five frames per second with the same spatial-mapping technology that you'll use with the product at home and then we store it so that when there's shenanigans of wireless in an environment like this between the camera's hololens and the one on my head we don't have things disappear.\",\n",
              " 'because ultimately the holograms are coming from this hololens and that one is just viewing the hololens.',\n",
              " 'so if i lose connectivity you would stop seeing beautiful things on the screen.',\n",
              " 'and it was beautiful.',\n",
              " 'um ... jeff?',\n",
              " 'yes?',\n",
              " 'hi.',\n",
              " \"i'll take a step back.\",\n",
              " 'so jeff you were on mars you were here you were in a room across the street.',\n",
              " \"tell me more about the fact that with holograms you have sight but you don't have touch you don't have smell.\",\n",
              " 'is this scientifically useful now?',\n",
              " \"that's my question for a hologram.\",\n",
              " 'thanks for the question.',\n",
              " \"absolutely i believe that these technologies are scientifically useful right now and that's why we're using them in multiple parts of our work at nasa.\",\n",
              " \"so we're using it to improve the ways that we explore mars.\",\n",
              " \"we're also using it for our astronauts on the space station.\",\n",
              " \"we're even using it now to design the next generation of our spacecraft.\",\n",
              " 'amazing.',\n",
              " 'ok jeff please go away.',\n",
              " 'thank you very much.alex really that was amazing.',\n",
              " 'thank you so much.',\n",
              " 'thank you.',\n",
              " 'thank you.',\n",
              " 'thank you.it began with one question: if africa was a bar what would your country be drinking or doing?',\n",
              " \"i kicked it off with a guess about south africa which wasn't exactly according to the rules because south africa's not my country.\",\n",
              " \"but alluding to the country's continual attempts to build a postracial society after being ravaged for decades by apartheid i tweeted #ifafricawasabar south africa would be drinking all kinds of alcohol and begging them to get along in its stomach.and then i waited.\",\n",
              " 'and then i had that funny feeling where i wondered if i crossed the line.',\n",
              " \"so i sent out a few other tweets about my own country and a few other african countries i'm familiar with.\",\n",
              " \"and then i waited again but this time i read through almost every tweet i had ever tweeted to convince myself no to remind myself that i'm really funny and that if nobody gets it that's fine.but luckily i didn't have to do that for very long.\",\n",
              " 'very soon people were participating.',\n",
              " 'in fact by the end of that week in july the hashtag #ifafricawasabar would have garnered around 60000 tweets lit up the continent and made its way to publications all over the world.people were using the hashtag to do many different things.',\n",
              " \"to poke fun at their stereotypes: [#ifafricawasabar nigeria would be outside explaining that he will pay the entrance fee all he needs is the bouncer's account details.\",\n",
              " \"]to criticize government spending: [#ifafricawasabar south africa would be ordering bottles it can't pronounce running a tab it won't be able to pay]to make light of geopolitical tensions: [#ifafricawasabar south sudan would be the new guy with serious anger management issues.\",\n",
              " \"]to remind us that even in africa there are some countries we don't know exist: [#ifafricawasabar lesotho would be that person who nobody really knows but is always in the pictures.\",\n",
              " ']and also to make fun of the countries that don\\'t think that they\\'re in africa: [#ifafricawasabar egypt libya tunisia algeria and morocco be like \"what the hell are we doing here?!!',\n",
              " '\"]and to note the countries that had made a big turnaround: [#ifafricawasabar rwanda would be that girl that comes with no money and no transport but leaves drunk happy and rich]but most importantly people were using the hashtag to connect.',\n",
              " 'people were connecting over their africanness.',\n",
              " 'so for one week in july twitter became a real african bar.',\n",
              " \"and i was really thrilled mainly because i realized that pan-africanism could work that we had before us between us at our fingertips a platform that just needed a small spark to light in us a hunger for each other.my name is siyanda mohutsiwa i'm 22 years old and i am pan-africanist by birth.\",\n",
              " \"now i say i'm pan-africanist by birth because my parents are from two different african countries.\",\n",
              " \"my father's from a country called botswana in southern africa.\",\n",
              " \"it's only slightly bigger than germany.\",\n",
              " 'this year we celebrate our 50th year of stable democracy.',\n",
              " 'and it has some very progressive social policies.',\n",
              " \"my mother's country is the kingdom of swaziland.\",\n",
              " \"it's a very very small country also in southern africa.\",\n",
              " \"it is africa's last complete monarchy.\",\n",
              " \"so it's been ruled by a king and a royal family in line with their tradition for a very long time.on paper these countries seem very different.\",\n",
              " 'and when i was a kid i could see the difference.',\n",
              " \"it rained a lot in one country it didn't rain quite as much in the other.\",\n",
              " \"but outside of that i didn't really realize why it mattered that my parents were from two different places.\",\n",
              " 'but it would go on to have a very peculiar effect on me.',\n",
              " 'you see i was born in one country and raised in the other.when we moved to botswana i was a toddler who spoke fluent siswati and nothing else.',\n",
              " 'so i was being introduced to my new home my new cultural identity as a complete outsider incapable of comprehending anything that was being said to me by the family and country whose traditions i was meant to move forward.',\n",
              " 'but very soon i would shed siswati.',\n",
              " \"and when i would go back to swaziland i would be constantly confronted by how very non-swazi i was becoming.add to that my entry into africa's private school system whose entire purpose is to beat the africanness out of you and i would have a very peculiar adolescence.\",\n",
              " 'but i think that my interest in ideas of identity was born here in the strange intersection of belonging to two places at once but not really belonging to either one very well and belonging to this vast space in between and around simultaneously.',\n",
              " 'i became obsessed with the idea of a shared african identity.since then i have continued to read about politics and geography and identity and what all those things mean.',\n",
              " \"i've also held on to a deep curiosity about african philosophies.\",\n",
              " 'when i began to read i gravitated towards the works of black intellectuals like steve biko and frantz fanon who tackled complex ideas like decolonization and black consciousness.',\n",
              " \"and when i thought at 14 that i had digested these grand ideas i moved on to the speeches of iconic african statesmen like burkina faso's thomas sankara and congo's patrice lumumba.\",\n",
              " 'i read every piece of african fiction that i could get my hands on.so when twitter came i hopped on with the enthusiasm of a teenage girl whose friends are super super bored of hearing about all this random stuff.the year was 2011 and all over southern africa and the whole continent affordable data packages for smartphones and internet surfing became much easier to get.',\n",
              " 'so my generation we were sending messages to each other on this platform that just needed 140 characters and a little bit of creativity.',\n",
              " 'on long commutes to work in lectures that some of us should have been paying attention to on our lunch breaks we would communicate as much as we could about the everyday realities of being young and african.but of course this luxury was not available to everybody.',\n",
              " 'so this meant that if you were a teenage girl in botswana and you wanted to have fun on the internet one you had to tweet in english.',\n",
              " 'two you had to follow more than just the three other people you knew online.',\n",
              " 'you had to follow south africans zimbabweans ghanaians nigerians.',\n",
              " 'and suddenly your whole world opened up.',\n",
              " 'and my whole world did open up.i followed vibrant africans who were travelling around the continent taking pictures of themselves and posting them under the hashtag #myafrica.',\n",
              " 'because at that time if you were to search africa on twitter or on google or any kind of social media you would think that the entire continent was just pictures of animals and white guys drinking cocktails in hotel resorts.but africans were using this platform to take some kind of ownership of the tourism sectors.',\n",
              " 'it was africans taking selfies on the beaches of nigeria.',\n",
              " 'it was africans in cocktail bars in nairobi.and these were the same africans that i began to meet in my own travels around the continent.',\n",
              " 'we would discuss african literature politics economic policy.',\n",
              " 'but almost invariably every single time we would end up discussing twitter.',\n",
              " \"and that's when i realized what this was.\",\n",
              " 'we were standing in the middle of something amazing because for the first time ever young africans could discuss the future of our continent in real time without the restriction of borders finances and watchful governments.because the little known truth is many africans know a lot less about other african countries than some westerners might know about africa as a whole.',\n",
              " \"this is by accident but sometimes it's by design.\",\n",
              " 'for example in apartheid south africa black south africans were constantly being bombarded with this message that any country ruled by black people was destined for failure.',\n",
              " 'and this was done to convince them that they were much better off under crushing white rule than they were living in a black and free nation.',\n",
              " \"add to that africa's colonial archaic education system which has been unthinkingly carried over from the 1920s -- and at the age of 15 i could name all the various causes of the wars that had happened in europe in the past 200 years but i couldn't name the president of my neighboring country.\",\n",
              " \"and to me this doesn't make any sense because whether we like it or not the fates of african people are deeply intertwined.when disaster hits when turmoil hits we share the consequences.\",\n",
              " 'when burundians flee political turmoil they go to us to other african countries.',\n",
              " \"africa has six of the world's largest refugee centers.\",\n",
              " 'what was once a burundian problem becomes an african problem.',\n",
              " \"so to me there are no sudanese problems or south african problems or kenyan problems only african problems because eventually we share the turmoil.so if we share the problems why aren't we doing a better job of sharing the successes?\",\n",
              " 'how can we do that?',\n",
              " \"well in the long term we can shoot towards increasing inter-african trade removing borders and putting pressure on leaders to fulfill regional agreements they've already signed.\",\n",
              " \"but i think that the biggest way for africa to share its successes is to foster something i like to call social pan-africanism.now political pan-africanism already exists so i'm not inventing anything totally new here.\",\n",
              " 'but political pan-africanism is usually the african unity of the political elite.',\n",
              " 'and who does that benefit?',\n",
              " 'well african leaders almost exclusively.',\n",
              " \"no what i'm talking about is the pan-africanism of the ordinary african.\",\n",
              " 'young africans like me we are bursting with creative energy with innovative ideas.',\n",
              " 'but with bad governance and shaky institutions all of this potential could go to waste.',\n",
              " 'on a continent where more than a handful of leaders have been in power longer than the majority of the populations has been alive we are in desperate need of something new something that works.',\n",
              " 'and i think that thing is social pan-africanism.my dream is that young africans stop allowing borders and circumstance to suffocate our innovation.',\n",
              " 'my dream is that when a young african comes up with something brilliant they don\\'t say \"well this wouldn\\'t work in my country\" and then give up.',\n",
              " 'my dream is that young africans begin to realize that the entire continent is our canvas is our home.',\n",
              " 'using the internet we can begin to think collaboratively we can begin to innovate together.',\n",
              " 'in africa we say \"if you want to go fast you go alone but if you want to go far you go together.\"',\n",
              " 'and i believe that social pan-africanism is how we can go far together.and this is already happening.',\n",
              " \"access to these online networks has given young africans something we've always had to violently take: a voice.\",\n",
              " 'we now have a platform.',\n",
              " 'before now if you wanted to hear from the youth in africa you waited for the 65-year-old minister of youth --to wake up in the morning take his heartburn medication and then tell you the plans he has for your generation in 20 years time.',\n",
              " 'before now if you wanted to be heard by your possibly tyrannical government you were pushed to protest suffer the consequences and have your fingers crossed that some western paper somewhere might make someone care.',\n",
              " 'but now we have opportunities to back each other up in ways we never could before.we support south african students who are marching against ridiculously high tertiary fees.',\n",
              " 'we support zimbabwean women who are marching to parliament.',\n",
              " 'we support angolan journalists who are being illegally detained.',\n",
              " \"for the first time ever african pain and african aspiration has the ability to be witnessed by those who can empathize with it the most: other africans.i believe that with a social pan-africanist thinking and using the internet as a tool we can begin to rescue each other and ultimately to rescue ourselves.thank you.so this is a story about how we know what we know.it's a story about this woman natalia rybczynski.\",\n",
              " 'she\\'s a paleobiologist which means she specializes in digging up really old dead stuff.natalia rybczynski: yeah i had someone call me \"dr. dead things.\"',\n",
              " \"and i think she's particularly interesting because of where she digs that stuff up way above the arctic circle in the remote canadian tundra.now one summer day in 2006 she was at a dig site called the fyles leaf bed which is less than 10 degrees latitude away from the magnetic north pole.\",\n",
              " \"really it's not going to sound very exciting because it was a day of walking with your backpack and your gps and notebook and just picking up anything that might be a fossil.\",\n",
              " 'and at some point she noticed something.',\n",
              " 'rusty kind of rust-colored about the size of the palm of my hand.',\n",
              " 'it was just lying on the surface.',\n",
              " \"and at first she thought it was just a splinter of wood because that's the sort of thing people had found at the fyles leaf bed before -- prehistoric plant parts.\",\n",
              " \"but that night back at camp ... ... i get out the hand lens i'm looking a little bit more closely and realizing it doesn't quite look like this has tree rings.\",\n",
              " \"maybe it's a preservation thing but it looks really like ... bone.\",\n",
              " 'huh.',\n",
              " 'so over the next four years she went to that spot over and over and eventually collected 30 fragments of that exact same bone most of them really tiny.',\n",
              " \"it's not a whole lot.\",\n",
              " 'it fits in a small ziploc bag.',\n",
              " 'and she tried to piece them together like a jigsaw puzzle.',\n",
              " 'but it was challenging.',\n",
              " \"it's broken up into so many little tiny pieces i'm trying to use sand and putty and it's not looking good.\",\n",
              " 'so finally we used a 3d surface scanner.',\n",
              " 'ooh!',\n",
              " 'nr: yeah right?it turns out it was way easier to do it virtually.',\n",
              " \"it's kind of magical when it all fits together.\",\n",
              " 'how certain were you that you had it right that you had put it together in the right way?',\n",
              " \"was there a potential that you'd put it together a different way and have like a parakeet or something?um no.\",\n",
              " 'no we got this.',\n",
              " 'what she had she discovered was a tibia a leg bone and specifically one that belonged to a cloven-hoofed mammal so something like a cow or a sheep.',\n",
              " \"but it couldn't have been either of those.\",\n",
              " 'it was just too big.',\n",
              " 'the size of this thing it was huge.',\n",
              " \"it's a really big animal.\",\n",
              " 'so what animal could it be?',\n",
              " 'having hit a wall she showed one of the fragments to some colleagues of hers in colorado and they had an idea.',\n",
              " 'we took a saw and we nicked just the edge of it and there was this really interesting smell that comes from it.',\n",
              " 'it smelled kind of like singed flesh.',\n",
              " 'it was a smell that natalia recognized from cutting up skulls in her gross anatomy lab: collagen.',\n",
              " 'collagen is what gives structure to our bones.',\n",
              " 'and usually after so many years it breaks down.',\n",
              " 'but in this case the arctic had acted like a natural freezer and preserved it.then a year or two later natalia was at a conference in bristol and she saw that a colleague of hers named mike buckley was demoing this new process that he called \"collagen fingerprinting.\"',\n",
              " 'it turns out that different species have slightly different structures of collagen so if you get a collagen profile of an unknown bone you can compare it to those of known species and who knows maybe you get a match.so she shipped him one of the fragments fedex.',\n",
              " 'yeah you want to track it.',\n",
              " \"it's kind of important.and he processed it and compared it to 37 known and modern-day mammal species.\",\n",
              " 'and he found a match.',\n",
              " \"it turns out that the 3.5 million-year-old bone that natalia had dug out of the high arctic belonged to ... a camel.and i'm thinking what?\",\n",
              " \"that's amazing -- if it's true.\",\n",
              " 'so they tested a bunch of the fragments and they got the same result for each one.',\n",
              " 'however based on the size of the bone that they found it meant that this camel was 30 percent larger than modern-day camels.',\n",
              " 'so this camel would have been about nine feet tall weighed around a ton.yeah.',\n",
              " 'natalia had found a giant arctic camel.now when you hear the word \"camel\" what may come to mind is one of these the bactrian camel of east and central asia.',\n",
              " 'but chances are the postcard image you have in your brain is one of these the dromedary quintessential desert creature -- hangs out in sandy hot places like the middle east and the sahara has a big old hump on its back for storing water for those long desert treks has big broad feet to help it tromp over sand dunes.',\n",
              " \"so how on earth would one of these guys end up in the high arctic?well scientists have known for a long time turns out even before natalia's discovery that camels are actually originally american.\",\n",
              " 'the star-spangled banner)they started here.',\n",
              " 'for nearly 40 of the 45 million years that camels have been around you could only find them in north america around 20 different species maybe more.',\n",
              " 'if i put them all in a lineup would they look different?',\n",
              " \"yeah you're going to have different body sizes.\",\n",
              " \"you'll have some with really long necks so they're actually functionally like giraffes.\",\n",
              " 'some had snouts like crocodiles.',\n",
              " 'the really primitive early ones would have been really small almost like rabbits.',\n",
              " 'what?',\n",
              " 'rabbit-sized camels?',\n",
              " 'the earliest ones.',\n",
              " 'so those ones you probably would not recognize.',\n",
              " 'oh my god i want a pet rabbit-camel.',\n",
              " \"i know wouldn't that be great?and then about three to seven million years ago one branch of camels went down to south america where they became llamas and alpacas and another branch crossed over the bering land bridge into asia and africa.\",\n",
              " \"and then around the end of the last ice age north american camels went extinct.so scientists knew all of that already but it still doesn't fully explain how natalia found one so far north.\",\n",
              " 'like this is temperature-wise the polar opposite of the sahara.',\n",
              " 'now to be fair three and a half million years ago it was on average 22 degrees celsius warmer than it is now.',\n",
              " 'so it would have been boreal forest so more like the yukon or siberia today.',\n",
              " 'but still like they would have six-month-long winters where the ponds would freeze over.',\n",
              " \"you'd have blizzards.\",\n",
              " \"you'd have 24 hours a day of straight darkness.\",\n",
              " 'like how ... how?',\n",
              " 'how is it that one of these saharan superstars could ever have survived those arctic conditions?natalia and her colleagues think they have an answer.',\n",
              " \"and it's kind of brilliant.\",\n",
              " 'what if the very features that we imagine make the camel so well-suited to places like the sahara actually evolved to help it get through the winter?',\n",
              " 'what if those broad feet were meant to tromp not over sand but over snow like a pair of snowshoes?',\n",
              " 'what if that hump -- which huge news to me does not contain water it contains fat --was there to help the camel get through that six-month-long winter when food was scarce?',\n",
              " 'and then only later long after it crossed over the land bridge did it retrofit those winter features for a hot desert environment?',\n",
              " \"like for instance the hump may be helpful to camels in hotter climes because having all your fat in one place like a you know fat backpack means that you don't have to have that insulation all over the rest of your body.\",\n",
              " 'so it helps heat dissipate easier.',\n",
              " \"it's this crazy idea that what seems like proof of the camel's quintessential desert nature could actually be proof of its high arctic past.now i'm not the first person to tell this story.\",\n",
              " 'others have told it as a way to marvel at evolutionary biology or as a keyhole into the future of climate change.',\n",
              " 'but i love it for a totally different reason.',\n",
              " \"for me it's a story about us about how we see the world and about how that changes.so i was trained as a historian.\",\n",
              " \"and i've learned that actually a lot of scientists are historians too.\",\n",
              " 'they make sense of the past.',\n",
              " 'they tell the history of our universe of our planet of life on this planet.',\n",
              " 'and as a historian you start with an idea in your mind of how the story goes.',\n",
              " 'we make up stories and we stick with it like the camel in the desert right?',\n",
              " \"that's a great story!\",\n",
              " \"it's totally adapted for that.\",\n",
              " 'clearly it always lived there.',\n",
              " 'but at any moment you could uncover some tiny bit of evidence.',\n",
              " 'you could learn some tiny thing that forces you to reframe everything you thought you knew.',\n",
              " 'like in this case this one scientist finds this one shard of what she thought was wood and because of that science has a totally new and totally counterintuitive theory about why this absurd dr. seuss-looking creature looks the way it does.',\n",
              " 'and for me it completely upended the way i think of the camel.',\n",
              " 'it went from being this ridiculously niche creature suited only to this one specific environment to being this world traveler that just happens to be in the sahara and could end up virtually anywhere.this is azuri.',\n",
              " 'azuri hi how are you doing?',\n",
              " \"ok here i've got one of these for you here.so azuri is on a break from her regular gig at the radio city music hall.that's not even a joke.\",\n",
              " 'anyway --but really azuri is here as a living reminder that the story of our world is a dynamic one.',\n",
              " \"it requires our willingness to readjust to reimagine.right azuri?and really that we're all just one shard of bone away from seeing the world anew.thank you very much.people returning to work after a career break: i call them relaunchers.\",\n",
              " 'these are people who have taken career breaks for elder care for childcare reasons pursuing a personal interest or a personal health issue.',\n",
              " 'closely related are career transitioners of all kinds: veterans military spouses retirees coming out of retirement or repatriating expats.',\n",
              " 'returning to work after a career break is hard because of a disconnect between the employers and the relaunchers.',\n",
              " \"employers can view hiring people with a gap on their resume as a high-risk proposition and individuals on career break can have doubts about their abilities to relaunch their careers especially if they've been out for a long time.\",\n",
              " \"this disconnect is a problem that i'm trying to help solve.now successful relaunchers are everywhere and in every field.\",\n",
              " 'this is sami kafala.',\n",
              " \"he's a nuclear physicist in the uk who took a five-year career break to be home with his five children.\",\n",
              " 'the singapore press recently wrote about nurses returning to work after long career breaks.',\n",
              " 'and speaking of long career breaks this is mimi kahn.',\n",
              " \"she's a social worker in orange county california who returned to work in a social services organization after a 25-year career break.\",\n",
              " \"that's the longest career break that i'm aware of.\",\n",
              " \"supreme court justice sandra day o'connor took a five-year career break early in her career.and this is tracy shapiro who took a 13-year career break.\",\n",
              " 'tracy answered a call for essays by the today show from people who were trying to return to work but having a difficult time of it.',\n",
              " 'tracy wrote in that she was a mom of five who loved her time at home but she had gone through a divorce and needed to return to work plus she really wanted to bring work back into her life because she loved working.',\n",
              " \"tracy was doing what so many of us do when we feel like we've put in a good day in the job search.\",\n",
              " 'she was looking for a finance or accounting role and she had just spent the last nine months very diligently researching companies online and applying for jobs with no results.i met tracy in june of 2011 when the today show asked me if i could work with her to see if i could help her turn things around.',\n",
              " 'the first thing i told tracy was she had to get out of the house.',\n",
              " 'i told her she had to go public with her job search and tell everyone she knew about her interest in returning to work.',\n",
              " 'i also told her \"you are going to have a lot of conversations that don\\'t go anywhere.',\n",
              " \"expect that and don't be discouraged by it.\",\n",
              " 'there will be a handful that ultimately lead to a job opportunity.',\n",
              " '\"i\\'ll tell you what happened with tracy in a little bit but i want to share with you a discovery that i made when i was returning to work after my own career break of 11 years out of the full-time workforce.',\n",
              " \"and that is that people's view of you is frozen in time.\",\n",
              " 'what i mean by this is when you start to get in touch with people and you get back in touch with those people from the past the people with whom you worked or went to school they are going to remember you as you were before your career break.',\n",
              " \"and that's even if your sense of self has diminished over time as happens with so many of us the farther removed we are from our professional identities.\",\n",
              " 'so for example you might think of yourself as someone who looks like this.',\n",
              " 'this is me crazy after a day of driving around in my minivan.',\n",
              " 'or here i am in the kitchen.',\n",
              " \"but those people from the past they don't know about any of this.\",\n",
              " \"they only remember you as you were and it's a great confidence boost to be back in touch with these people and hear their enthusiasm about your interest in returning to work.there's one more thing i remember vividly from my own career break.\",\n",
              " 'and that was that i hardly kept up with the business news.',\n",
              " 'my background is in finance and i hardly kept up with any news when i was home caring for my four young children.',\n",
              " \"so i was afraid i'd go into an interview and start talking about a company that didn't exist anymore.\",\n",
              " \"so i had to resubscribe to the wall street journal and read it for a good six months cover to cover before i felt like i had a handle on what was going on in the business world again.i believe relaunchers are a gem of the workforce and here's why.\",\n",
              " 'think about our life stage: for those of us who took career breaks for childcare reasons we have fewer or no maternity leaves.',\n",
              " 'we did that already.',\n",
              " 'we have fewer spousal or partner job relocations.',\n",
              " \"we're in a more settled time of life.\",\n",
              " 'we have great work experience.',\n",
              " 'we have a more mature perspective.',\n",
              " \"we're not trying to find ourselves at an employer's expense.\",\n",
              " \"plus we have an energy an enthusiasm about returning to work precisely because we've been away from it for a while.on the flip side i speak with employers and here are two concerns that employers have about hiring relaunchers.the first one is employers are worried that relaunchers are technologically obsolete.\",\n",
              " \"now i can tell you having been technologically obsolete myself at one point that it's a temporary condition.\",\n",
              " \"i had done my financial analysis so long ago that i used lotus 1-2-3. i don't know if anyone can even remember back that far but i had to relearn it on excel.\",\n",
              " \"it actually wasn't that hard.\",\n",
              " 'a lot of the commands are the same.',\n",
              " 'i found powerpoint much more challenging but now i use powerpoint all the time.',\n",
              " 'i tell relaunchers that employers expect them to come to the table with a working knowledge of basic office management software.',\n",
              " \"and if they're not up to speed then it's their responsibility to get there.\",\n",
              " \"and they do.the second area of concern that employers have about relaunchers is they're worried that relaunchers don't know what they want to do.\",\n",
              " 'i tell relaunchers that they need to do the hard work to figure out whether their interests and skills have changed or have not changed while they have been on career break.',\n",
              " \"that's not the employer's job.\",\n",
              " \"it's the relauncher's responsibility to demonstrate to the employer where they can add the most value.back in 2010 i started noticing something.\",\n",
              " 'i had been tracking return to work programs since 2008 and in 2010 i started noticing the use of a short-term paid work opportunity whether it was called an internship or not but an internship-like experience as a way for professionals to return to work.',\n",
              " 'i saw goldman sachs and sara lee start corporate reentry internship programs.',\n",
              " 'i saw a returning engineer a nontraditional reentry candidate apply for an entry-level internship program in the military and then get a permanent job afterward.',\n",
              " 'i saw two universities integrate internships into mid-career executive education programs.so i wrote a report about what i was seeing and it became this article for harvard business review called \"the 40-year-old intern.\"',\n",
              " 'i have to thank the editors there for that title and also for this artwork where you can see the 40-year-old intern in the midst of all the college interns.',\n",
              " 'and then courtesy of fox business news they called the concept \"the 50-year-old intern.',\n",
              " '\"so five of the biggest financial services companies have reentry internship programs for returning finance professionals.',\n",
              " 'and at this point hundreds of people have participated.',\n",
              " 'these internships are paid and the people who move on to permanent roles are commanding competitive salaries.',\n",
              " 'and now seven of the biggest engineering companies are piloting reentry internship programs for returning engineers as part of an initiative with the society of women engineers.',\n",
              " 'now why are companies embracing the reentry internship?',\n",
              " 'because the internship allows the employer to base their hiring decision on an actual work sample instead of a series of interviews and the employer does not have to make that permanent hiring decision until the internship period is over.',\n",
              " 'this testing out period removes the perceived risk that some managers attach to hiring relaunchers and they are attracting excellent candidates who are turning into great hires.think about how far we have come.',\n",
              " 'before this most employers were not interested in engaging with relaunchers at all.',\n",
              " \"but now not only are programs being developed specifically with relaunchers in mind but you can't even apply for these programs unless you have a gap on your résumé.this is the mark of real change of true institutional shift because if we can solve this problem for relaunchers we can solve it for other career transitioners too.\",\n",
              " 'in fact an employer just told me that their veterans return to work program is based on their reentry internship program.',\n",
              " \"and there's no reason why there can't be a retiree internship program.\",\n",
              " 'different pool same concept.so let me tell you what happened with tracy shapiro.',\n",
              " 'remember that she had to tell everyone she knew about her interest in returning to work.',\n",
              " 'well one critical conversation with another parent in her community led to a job offer for tracy and it was an accounting job in a finance department.',\n",
              " 'but it was a temp job.',\n",
              " 'the company told her there was a possibility it could turn into something more but no guarantees.',\n",
              " 'this was in the fall of 2011. tracy loved this company and she loved the people and the office was less than 10 minutes from her house.',\n",
              " 'so even though she had a second job offer at another company for a permanent full-time role she decided to take her chances with this internship and hope for the best.',\n",
              " \"well she ended up blowing away all of their expectations and the company not only made her a permanent offer at the beginning of 2012 but they made it even more interesting and challenging because they knew what tracy could handle.fast forward to 2015 tracy's been promoted.\",\n",
              " \"they've paid for her to get her mba at night.\",\n",
              " \"she's even hired another relauncher to work for her.\",\n",
              " \"tracy's temp job was a tryout just like an internship and it ended up being a win for both tracy and her employer.now my goal is to bring the reentry internship concept to more and more employers.\",\n",
              " \"but in the meantime if you are returning to work after a career break don't hesitate to suggest an internship or an internship-like arrangement to an employer that does not have a formal reentry internship program.\",\n",
              " \"be their first success story and you can be the example for more relaunchers to come.thank you.the following are my opinions and do not reflect the opinions or policies of any particular prosecutor's office.i am a prosecutor.\",\n",
              " 'i believe in law and order.',\n",
              " 'i am the adopted son of a police officer a marine and a hairdresser.',\n",
              " 'i believe in accountability and that we should all be safe in our communities.',\n",
              " 'i love my job and the people that do it.',\n",
              " \"i just think that it's our responsibility to do it better.by a show of hands how many of you by the age of 25 had either acted up in school went somewhere you were specifically told to stay out of or drank alcohol before your legal age?all right.how many of you shoplifted tried an illegal drug or got into a physical fight -- yes even with a sibling?\",\n",
              " 'now how many of you ever spent one day in jail for any of those decisions?',\n",
              " \"how many of you sitting here today think that you're a danger to society or should be defined by those actions of youthful indiscretion?point taken.when we talk about criminal justice reform we often focus on a few things and that's what i want to talk to you about today.\",\n",
              " \"but first i'm going to -- since you shared with me i'm going to give you a confession on my part.\",\n",
              " 'i went to law school to make money.',\n",
              " \"i had no interest in being a public servant i had no interest in criminal law and i definitely didn't think that i would ever be a prosecutor.near the end of my first year of law school i got an internship in the roxbury division of boston municipal court.\",\n",
              " 'i knew of roxbury as an impoverished neighborhood in boston plagued by gun violence and drug crime.',\n",
              " 'my life and my legal career changed the first day of that internship.',\n",
              " 'i walked into a courtroom and i saw an auditorium of people who one by one would approach the front of that courtroom to say two words and two words only: \"not guilty.\"',\n",
              " 'they were predominately black and brown.',\n",
              " 'and then a judge a defense attorney and a prosecutor would make life-altering decisions about that person without their input.',\n",
              " 'they were predominately white.',\n",
              " \"as each person one by one approached the front of that courtroom i couldn't stop but think: how did they get here?\",\n",
              " 'i wanted to know their stories.',\n",
              " 'and as the prosecutor read the facts of each case i was thinking to myself we could have predicted that.',\n",
              " 'that seems so preventable... not because i was an expert in criminal law but because it was common sense.over the course of the internship i began to recognize people in the auditorium not because they were criminal masterminds but because they were coming to us for help and we were sending them out without any.my second year of law school i worked as a paralegal for a defense attorney and in that experience i met many young men accused of murder.',\n",
              " 'even in our \"worst\" i saw human stories.',\n",
              " 'and they all contained childhood trauma victimization poverty loss disengagement from school early interaction with the police and the criminal justice system all leading to a seat in a courtroom.',\n",
              " \"those convicted of murder were condemned to die in prison and it was during those meetings with those men that i couldn't fathom why we would spend so much money to keep this one person in jail for the next 80 years when we could have reinvested it up front and perhaps prevented the whole thing from happening in the first place.my third year of law school i defended people accused of small street crimes mostly mentally ill mostly homeless mostly drug-addicted all in need of help.\",\n",
              " 'they would come to us and we would send them away without that help.',\n",
              " 'they were in need of our assistance.',\n",
              " \"but we weren't giving them any.\",\n",
              " 'prosecuted adjudged and defended by people who knew nothing about them.the staggering inefficiency is what drove me to criminal justice work.',\n",
              " 'the unfairness of it all made me want to be a defender.',\n",
              " \"the power dynamic that i came to understand made me become a prosecutor.i don't want to spend a lot of time talking about the problem.\",\n",
              " 'we know the criminal justice system needs reform we know there are 2.3 million people in american jails and prisons making us the most incarcerated nation on the planet.',\n",
              " \"we know there's another seven million people on probation or parole we know that the criminal justice system disproportionately affects people of color particularly poor people of color.\",\n",
              " 'and we know there are system failures happening everywhere that bring people to our courtrooms.',\n",
              " 'but what we do not discuss is how ill-equipped our prosecutors are to receive them.',\n",
              " 'when we talk about criminal justice reform we as a society focus on three things.',\n",
              " 'we complain we tweet we protest about the police about sentencing laws and about prison.',\n",
              " 'we rarely if ever talk about the prosecutor.in the fall of 2009 a young man was arrested by the boston police department.',\n",
              " 'he was 18 years old he was african american and he was a senior at a local public school.',\n",
              " \"he had his sights set on college but his part-time minimum-wage job wasn't providing the financial opportunity he needed to enroll in school.\",\n",
              " 'in a series of bad decisions he stole 30 laptops from a store and sold them on the internet.',\n",
              " 'this led to his arrest and a criminal complaint of 30 felony charges.',\n",
              " 'the potential jail time he faced is what stressed christopher out the most.',\n",
              " \"but what he had little understanding of was the impact a criminal record would have on his future.i was standing in arraignments that day when christopher's case came across my desk.\",\n",
              " \"and at the risk of sounding dramatic in that moment i had christopher's life in my hands.\",\n",
              " \"i was 29 years old a brand-new prosecutor and i had little appreciation for how the decisions i would make would impact christopher's life.\",\n",
              " \"christopher's case was a serious one and it needed to be dealt with as such but i didn't think branding him a felon for the rest of his life was the right answer.for the most part prosecutors step onto the job with little appreciation of the impact of our decisions regardless of our intent.\",\n",
              " 'despite our broad discretion we learn to avoid risk at all cost rendering our discretion basically useless.',\n",
              " 'history has conditioned us to believe that somehow the criminal justice system brings about accountability and improves public safety despite evidence to the contrary.',\n",
              " \"we're judged internally and externally by our convictions and our trial wins so prosecutors aren't really incentivized to be creative at our case positions dispositions or to take risks on people we might not otherwise.\",\n",
              " \"we stick to an outdated method counterproductive to achieving the very goal that we all want and that's safer communities.yet most prosecutors standing in my space would have arraigned christopher.\",\n",
              " 'they have little appreciation for what we can do.',\n",
              " 'arraigning christopher would give him a criminal record making it harder for him to get a job setting in motion a cycle that defines the failing criminal justice system today.',\n",
              " 'with a criminal record and without a job christopher would be unable to find employment education or stable housing.',\n",
              " 'without those protective factors in his life christopher would be more likely to commit further more serious crime.',\n",
              " 'the more contact christopher had with the criminal justice system the more likely it would be that he would return again and again and again -- all a tremendous social cost to his children to his family and to his peers.',\n",
              " 'and ladies and gentlemen it is a terrible public safety outcome for the rest of us.when i came out of law school i did the same thing as everybody else.',\n",
              " 'i came out as a prosecutor expected to do justice but i never learned what justice was in my classes -- none of us do.',\n",
              " 'none of us do.and yet prosecutors are the most powerful actors in the criminal justice system.',\n",
              " 'our power is virtually boundless.',\n",
              " 'in most cases not the judge not the police not the legislature not the mayor not the governor not the president can tell us how to prosecute our cases.',\n",
              " 'the decision to arraign christopher and give him a criminal record was exclusively mine.',\n",
              " 'i would choose whether to prosecute him for 30 felonies for one felony for a misdemeanor or at all.',\n",
              " 'i would choose whether to leverage christopher into a plea deal or take the case to trial and ultimately i would be in a position to ask for christopher to go to jail.',\n",
              " 'these are decisions that prosecutors make every day unfettered and we are unaware and untrained of the grave consequences of those decisions.one night this past summer i was at a small gathering of professional men of color from around the city.',\n",
              " 'as i stood there stuffing free finger sandwiches into my mouth as you do as public servant --i noticed across the room a young man waving and smiling at me and approaching me.',\n",
              " \"and i recognized him but i couldn't place from where and before i knew it this young man was hugging me.\",\n",
              " 'and thanking me.',\n",
              " '\"you cared about me and you changed my life.\"',\n",
              " 'it was christopher.see i never arraigned christopher.',\n",
              " 'he never faced a judge or a jail he never had a criminal record.',\n",
              " \"instead i worked with christopher; first on being accountable for his actions and then putting him in a position where he wouldn't re-offend.\",\n",
              " \"we recovered 75 percent of the computers that he sold and gave them back to best buy and came up with a financial plan to repay for the computers we couldn't recover.\",\n",
              " 'christopher did community service.',\n",
              " 'he wrote an essay reflecting on how this case could impact his future and that of the community.',\n",
              " 'he applied to college he obtained financial aid and he went on to graduate from a four-year school.after we finished hugging i looked at his name tag to learn that christopher was the manager of a large bank in boston.',\n",
              " 'christopher had accomplished -- and making a lot more money than me --he had accomplished all of this in the six years since i had first seen him in roxbury court.',\n",
              " \"i can't take credit for christopher's journey to success but i certainly did my part to keep him on the path.there are thousands of christophers out there some locked in our jails and prisons.\",\n",
              " 'we need thousands of prosecutors to recognize that and to protect them.',\n",
              " 'an employed christopher is better for public safety than a condemned one.',\n",
              " \"it's a bigger win for all of us.\",\n",
              " 'in retrospect the decision not to throw the book at christopher makes perfect sense.',\n",
              " \"when i saw him that first day in roxbury court i didn't see a criminal standing there.\",\n",
              " 'i saw myself -- a young person in need of intervention.',\n",
              " 'as an individual caught selling a large quantity of drugs in my late teens i knew firsthand the power of opportunity as opposed to the wrath of the criminal justice system.',\n",
              " \"along the way with the help and guidance of my district attorney my supervisor and judges i learned the power of the prosecutor to change lives instead of ruining them.and that's how we do it in boston.\",\n",
              " 'we helped a woman who was arrested for stealing groceries to feed her kids get a job.',\n",
              " 'instead of putting an abused teenager in adult jail for punching another teenager we secured mental health treatment and community supervision.',\n",
              " 'a runaway girl who was arrested for prostituting to survive on the streets needed a safe place to live and grow -- something we could help her with.',\n",
              " 'i even helped a young man who was so afraid of the older gang kids showing up after school that one morning instead of a lunchbox into his backpack he put a loaded 9-millimeter.',\n",
              " \"we would spend our time that we'd normally take prepping our cases for months and months for trial down the road by coming up with real solutions to the problems as they presented.which is the better way to spend our time?\",\n",
              " 'how would you prefer your prosecutors to spend theirs?',\n",
              " 'why are we spending 80 billion dollars on a prison industry that we know is failing when we could take that money and reallocate it into education into mental health treatment into substance abuse treatment and to community investment so we can develop our neighborhoods?so why should this matter to you?',\n",
              " \"well one we're spending a lot of money.\",\n",
              " 'our money.',\n",
              " 'it costs 109000 dollars in some states to lock up a teenager for a year with a 60 percent chance that that person will return to the very same system.',\n",
              " 'that is a terrible return on investment.',\n",
              " \"it's the right thing to do.\",\n",
              " \"if prosecutors were a part of creating the problem it's incumbent on us to create a solution and we can do that using other disciplines that have already done the data and research for us.\",\n",
              " 'your voice and your vote can make that happen.',\n",
              " \"the next time there's a local district attorney's election in your jurisdiction ask candidates these questions.\",\n",
              " 'one: what are you doing to make me and my neighbors safer?',\n",
              " \"two: what data are you collecting and how are you training your prosecutors to make sure that it's working?\",\n",
              " \"and number three: if it's not working for everybody what are you doing to fix it?\",\n",
              " \"if they can't answer the questions they shouldn't be doing the job.each one of you that raised your hand at the beginning of this talk is a living breathing example of the power of opportunity of intervention of support and of love.\",\n",
              " 'while each of you may have faced your own brand of discipline for whatever malfeasances you committed barely any of you needed a day in jail to make you the people that you are today -- some of the greatest minds on the planet.every day thousands of times a day prosecutors around the united states wield power so great that it can bring about catastrophe as quickly as it can bring about opportunity intervention support and yes even love.',\n",
              " 'those qualities are the hallmarks of a strong community and a strong community is a safe one.',\n",
              " \"if our communities are broken don't let the lawyers that you elect fix them with outdated inefficient expensive methods.demand more; vote for the prosecutor who's helping people stay out of jail not putting them in.demand better.\",\n",
              " \"you deserve it your children deserve it the people who are tied up in the system deserve it but most of all the people that we are sworn to protect and do justice for demand it.we must we must do better.thank you.thank you.thank you very much.today's computers are so amazing that we fail to notice how terrible they really are.\",\n",
              " \"i'd like to talk to you today about this problem and how we can fix it with neuroscience.first i'd like to take you back to a frosty night in harlem in 2011 that had a profound impact on me.\",\n",
              " 'i was sitting in a dive bar outside of columbia university where i studied computer science and neuroscience and i was having this great conversation with a fellow student about the power of holograms to one day replace computers.',\n",
              " 'and just as we were getting to the best part of the conversation of course his phone lights up.',\n",
              " 'and he pulls it towards himself and he looks down and he starts typing.',\n",
              " 'and then he forces his eyeballs back up to mine and he goes \"keep going.',\n",
              " 'i\\'m with you.\"',\n",
              " 'but of course his eyes were glazed over and the moment was dead.meanwhile across the bar i noticed another student holding his phone this time towards a group.',\n",
              " 'he was swiping through pictures on instagram and these kids were laughing hysterically.',\n",
              " 'and that dichotomy between how crappy i was feeling and how happy they were feeling about the same technology really got me thinking.',\n",
              " 'and the more i thought of it the more i realized it was clearly not the digital information that was the bad guy here it was simply the display position that was separating me from my friend and that was binding those kids together.see they were connected around something just like our ancestors who evolved their social cognitions telling stories around the campfire.',\n",
              " \"and that's exactly what tools should do i think.\",\n",
              " 'they should extend our bodies.',\n",
              " 'and i think computers today are doing quite the opposite.',\n",
              " \"whether you're sending an email to your wife or you're composing a symphony or just consoling a friend you're doing it in pretty much the same way.\",\n",
              " \"you're hunched over these rectangles fumbling with buttons and menus and more rectangles.\",\n",
              " 'and i think this is the wrong way i think we can start using a much more natural machine.',\n",
              " 'we should use machines that bring our work back into the world.',\n",
              " 'we should use machines that use the principles of neuroscience to extend our senses versus going against them.now it just so happens that i have such a machine here.',\n",
              " \"it's called the meta 2. let's try it out.\",\n",
              " 'now in front of me right now i can see the audience and i can see my very hands.',\n",
              " \"and in three two one we're going to see an immersive hologram appear a very realistic hologram appear in front of me of our very glasses i'm wearing on my head right now.\",\n",
              " \"and of course this could be anything that we're shopping for or learning from and i can use my hands to very nicely kind of move it around with fine control.\",\n",
              " 'and i think iron man would be proud.',\n",
              " \"we're going to come back to this in just a bit.now if you're anything like me your mind is already reeling with the possibilities of what we can do with this kind of technology so let's look at a few.my mom is an architect so naturally the first thing i imagined was laying out a building in 3d space instead of having to use these 2d floor plans.\",\n",
              " \"she's actually touching graphics right now and selecting an interior decor.\",\n",
              " \"this was all shot through a gopro through our very glasses.and this next use case is very personal to me it's professor adam gazzaley's glass brain project courtesy of ucsf.\",\n",
              " \"as a neuroscience student i would always fantasize about the ability to learn and memorize these complex brain structures with an actual machine where i could touch and play with the various brain structures.now what you're seeing is called augmented reality but to me it's part of a much more important story -- a story of how we can begin to extend our bodies with digital devices instead of the other way around.now ... in the next few years humanity's going to go through a shift i think.\",\n",
              " \"we're going to start putting an entire layer of digital information on the real world.\",\n",
              " 'just imagine for a moment what this could mean for storytellers for painters for brain surgeons for interior decorators and maybe for all of us here today.',\n",
              " 'and what i think we need to do as a community is really try and make an effort to imagine how we can create this new reality in a way that extends the human experience instead of gamifying our reality or cluttering it with digital information.',\n",
              " \"and that's what i'm very passionate about.now i want to tell you a little secret.\",\n",
              " 'in about five years -- this is not the smallest device -- in about five years these are all going to look like strips of glass on our eyes that project holograms.',\n",
              " \"and just like we don't care so much about which phone we buy in terms of the hardware -- we buy it for the operating system -- as a neuroscientist i always dreamt of building the ios of the mind if you will.\",\n",
              " \"and it's very very important that we get this right because we might be living inside of these things for at least as long as we've lived with the windows graphical user interface.\",\n",
              " \"and i don't know about you but living inside of windows scares me.to isolate the single most intuitive interface out of infinity we use neuroscience to drive our design guidelines instead of letting a bunch of designers fight it out in the boardroom.\",\n",
              " 'and the principle we all revolve around is what\\'s called the \"neural path of least resistance.',\n",
              " '\"at every turn we\\'re connecting the ios of the brain with our brain on for the first time our brain\\'s terms.',\n",
              " \"in other words we're trying to create a zero learning-curve computer.\",\n",
              " \"we're building a system that you've always known how to use.here are the first three design guidelines that we employ in this brand-new form of user experience.\",\n",
              " 'first and foremost you are the operating system.',\n",
              " 'traditional file systems are complex and abstract and they take your brain extra steps to decode them.',\n",
              " \"we're going against the neural path of least resistance.\",\n",
              " 'meanwhile in augmented reality you can of course place your holographic ted panel over here and your holographic email on the other side of the desk and your spatial memory evolved just fine to go ahead and retrieve them.',\n",
              " \"you could put your holographic tesla that you're shopping for -- or whatever model my legal team told me to put in right before the show.perfect.\",\n",
              " 'and your brain knows exactly how to get it back.the second interface guideline we call \"touch to see.\"',\n",
              " 'what do babies do when they see something that grabs their interest?',\n",
              " 'they try and reach out and touch it.',\n",
              " \"and that's exactly how the natural machine should work as well.\",\n",
              " \"turns out the visual system gets a fundamental boost from a sense we call proprioception -- that's the sense of our body parts in space.\",\n",
              " \"so by touching our work directly we're not only going to control it better we're also going to understand it much more deeply.\",\n",
              " \"hence touch to see.but it's not enough to experience things ourselves.\",\n",
              " \"we're inherently these social primates.\",\n",
              " \"and this leads me to our third guideline the holographic campfire from our first story.our mirror-neuron subsystem suggests that we can connect with each other and with our work much better if we can see each other's faces and hands in 3d.\",\n",
              " \"so if you look at the video behind me you can see two meta users playing around with the same hologram making eye contact connected around this thing instead of being distracted by external devices.let's go ahead and try this again with neuroscience in mind.\",\n",
              " 'so again our favorite interface the ios of the mind.',\n",
              " \"i'm going to now take a step further and go ahead and grab this pair of glasses and leave it right here by the desk.\",\n",
              " \"i'm now with you i'm in the moment we're connecting.\",\n",
              " 'my spatial memory kicks in and i can go ahead and grab it and bring it right back here reminding me that i am the operating system.',\n",
              " \"and now my proprioception is working and i can go ahead and explode these glasses into a thousand parts and touch the very sensor that is currently scanning my hand.but it's not enough to see things alone so in a second my co-founder ray is going to make a 3d call -- ray?hey ray how's it going?\",\n",
              " 'guys i can see this guy in front me in full 3d.',\n",
              " 'and he is photo-realistic.thank you.my mirror-neuron subsystem suggests that this is going to replace phones in not too long.',\n",
              " \"ray how's it going?\",\n",
              " 'great.',\n",
              " \"we're live today.ray give the crowd a gift of the holographic brain we saw from the video earlier.\",\n",
              " \"guys this is not only going to change phones it's also going to change the way we collaborate.thank you so much.thanks ray.\",\n",
              " \"you're welcome.so folks this is the message that i discovered in that bar in 2011: the future of computers is not locked inside one of these screens.\",\n",
              " \"it's right here inside of us.so if there's one idea that i could leave you with here today it's that the natural machine is not some figment of the future it's right here in 2016. which is why all hundred of us at meta including the administrative staff the executives the designers the engineers -- before ted2017 we're all going to be throwing away our external monitors and replacing them with a truly and profoundly more natural machine.thank you very much.thank you appreciate it.\",\n",
              " 'thanks guys.',\n",
              " \"so help me out on one thing because there've been a few augmented reality demos shown over the last year or so out there.\",\n",
              " \"and there's sometimes a debate among technologists about are we really seeing the real thing on-screen?\",\n",
              " \"there's this issue of field of view that somehow the technology is showing a broader view than you would actually see wearing the glasses.\",\n",
              " 'were we seeing the real deal there?',\n",
              " 'absolutely the real deal.',\n",
              " \"not only that we took extra measures to shoot it with a gopro through the actual lens in the various videos that you've seen here.\",\n",
              " \"we want to try to simulate the experience for the world that we're actually seeing through the glasses and not cut any corners.\",\n",
              " 'thank you so much for showing us that.',\n",
              " 'thanks so much i appreciate that.i come from one of the most liberal tolerant progressive places in the united states seattle washington.',\n",
              " 'and i grew up with a family of great seattlites.',\n",
              " 'my mother was an artist my father was a college professor and i am truly grateful for my upbringing because i always felt completely comfortable designing my life exactly as i saw fit.and in point of fact i took a route that was not exactly what my parents had in mind.',\n",
              " 'when i was 19 i dropped out of college -- dropped out kicked out splitting hairs.and i went on the road as a professional french horn player which was my lifelong dream.',\n",
              " 'i played chamber music all over the united states and europe and i toured for a couple of years with a great jazz guitar player named charlie bird.',\n",
              " 'and by the end of my 20s i wound up as a member of the barcelona symphony orchestra in spain.',\n",
              " 'what a great life.and you know my parents never complained.',\n",
              " 'they supported me all the way through it.',\n",
              " \"it wasn't their dream.\",\n",
              " 'they used to tell their neighbors and friends \"our son he\\'s taking a gap decade.',\n",
              " '\"and -- there was however one awkward conversation about my lifestyle that i want to tell you about.',\n",
              " 'i was 27 and i was home from barcelona and i was visiting my parents for christmas and i was cooking dinner with my mother and we were alone in the kitchen.',\n",
              " 'and she was quiet too quiet.',\n",
              " 'something was wrong.',\n",
              " 'and so i said \"mom what\\'s on your mind?\"',\n",
              " 'and she said \"your dad and i are really worried about you.\"',\n",
              " 'and i said \"what?\"',\n",
              " 'i mean what could it be at this point?',\n",
              " 'and she said \"i want you to be completely honest with me: have you been voting for republicans?',\n",
              " '\"now the truth is i wasn\\'t really political i was just a french horn player.',\n",
              " 'but i had a bit of an epiphany and they had detected it and it was causing some confusion.',\n",
              " 'you see i had become an enthusiast for capitalism and i want to tell you why that is.',\n",
              " 'it stems from a lifelong interest of mine in believe it or not poverty.see when i was a kid growing up in seattle i remember the first time i saw real poverty.',\n",
              " \"we were a lower middle class family but that's of course not real poverty.\",\n",
              " \"that's not even close.\",\n",
              " \"the first time i saw poverty and poverty's face was when i was six or seven years old early 1970s.\",\n",
              " 'and it was like a lot of you kind of a prosaic example kind of trite.',\n",
              " 'it was a picture in the national geographic magazine of a kid who was my age in east africa and there were flies on his face and a distended belly.',\n",
              " \"and he wasn't going to make it and i knew that and i was helpless.\",\n",
              " 'some of you remember that picture not exactly that picture one just like it.',\n",
              " 'it introduced the west to grinding poverty around the world.',\n",
              " 'well that vision kind of haunted me as i grew up and i went to school and i dropped out and dropped in and started my family.',\n",
              " 'and i wondered what happened to that kid?',\n",
              " 'or to people just like him all over the world?',\n",
              " \"and so i started to study even though i wasn't in college i was looking for the answer: what happened to the world's poorest people?\",\n",
              " 'has it gotten worse?',\n",
              " 'has it gotten better?',\n",
              " 'what?and i found the answer and it changed my life and i want to share it with you.see -- most americans believe that poverty has gotten worse since we were children since they saw that vision.',\n",
              " 'if you ask americans \"has poverty gotten worse or better around the world?\"',\n",
              " '70 percent will say that hunger has gotten worse since the early 1970s.',\n",
              " \"but here's the truth.\",\n",
              " \"here's the epiphany that i had that changed my thinking.\",\n",
              " \"from 1970 until today the percentage of the world's population living in starvation levels living on a dollar a day or less obviously adjusted for inflation that percentage has declined by 80 percent.\",\n",
              " \"there's been an 80 percent decline in the world's worst poverty since i was a kid.\",\n",
              " \"and i didn't even know about it.\",\n",
              " \"this my friends that's a miracle.\",\n",
              " \"that's something we ought to celebrate.\",\n",
              " \"it's the greatest antipoverty achievement in the history of mankind and it happened in our lifetimes.so when i learned this i asked what did that?\",\n",
              " 'what made it possible?',\n",
              " \"because if you don't know why you can't do it again.\",\n",
              " \"if you want to replicate it and get the next two billion people out of poverty because that's what we're talking about: since i was a kid two billion of the least of these our brothers and sisters have been pulled out of poverty.\",\n",
              " \"i want the next two billion so i've got to know why.\",\n",
              " 'and i went in search of an answer.',\n",
              " \"and it wasn't a political answer because i didn't care.\",\n",
              " \"you know what i still don't care.\",\n",
              " 'i wanted the best answer from mainstream economists left right and center.and here it is.',\n",
              " 'here are the reasons.',\n",
              " 'there are five reasons that two billion of our brothers and sisters have been pulled out of poverty since i was a kid.',\n",
              " 'number one: globalization.',\n",
              " 'number two: free trade.',\n",
              " 'number three: property rights.',\n",
              " 'number four: rule of law.',\n",
              " 'number five: entrepreneurship.',\n",
              " \"it was the free enterprise system spreading around the world after 1970 that did that.now i'm not naive.\",\n",
              " \"i know that free enterprise isn't perfect and i know that free enterprise isn't everything we need to build a better world.\",\n",
              " 'but that is great.',\n",
              " \"and that's beyond politics.\",\n",
              " \"here's what i learned.\",\n",
              " ...]"
            ]
          },
          "execution_count": 43,
          "metadata": {},
          "output_type": "execute_result"
        }
      ],
      "source": [
        "sentences_strings_ted"
      ]
    },
    {
      "cell_type": "markdown",
      "metadata": {
        "id": "sUiFC0I5j31i"
      },
      "source": [
        "<h4>Exercise 1.4 (1 Point)</h4>"
      ]
    },
    {
      "cell_type": "markdown",
      "metadata": {
        "id": "7OICTv5Ybj9Q"
      },
      "source": [
        "The good side of converting all capital letters is, that we reduce the volume of the vocabulary. Thereby we dont differentiate between the the words \"today\" and \"Today\". But there is a caveat. Can you think of any downside to this process?"
      ]
    },
    {
      "cell_type": "markdown",
      "metadata": {
        "id": "Gk6zmQjNcvmo"
      },
      "source": [
        "**Your answer goes here:**"
      ]
    },
    {
      "cell_type": "markdown",
      "metadata": {
        "id": "e_8Pg_RQYglD"
      },
      "source": [
        "Let's quickly see how large our vocabulary turned out to be!"
      ]
    },
    {
      "cell_type": "code",
      "execution_count": null,
      "metadata": {
        "id": "ooe1gfSZaBuG"
      },
      "outputs": [],
      "source": [
        "len(sentences_ted)"
      ]
    },
    {
      "cell_type": "markdown",
      "metadata": {
        "id": "SCjkAGHjaBuN"
      },
      "source": [
        "### Part 2: Word Frequencies"
      ]
    },
    {
      "cell_type": "markdown",
      "metadata": {
        "id": "hvLMH0iXaBuO"
      },
      "source": [
        "<h4>Exercise 2.1 (2 Points)</h4>"
      ]
    },
    {
      "cell_type": "markdown",
      "metadata": {
        "id": "Pm9092DdYskT"
      },
      "source": [
        "Your next task will be to store the counts of the top 1,000 most frequent words in a list called `counts_ted_top1000` ! There are multiple ways to do this. You can have a look at the Counter-Function (https://docs.python.org/2/library/collections.html) or the FreqDist-Function (https://www.kite.com/python/docs/nltk.FreqDist). If you don't trust any of these, you can of course build your own function. In the end we want an array with tuples of the structure:\n",
        "\n",
        "counts_ted_top1000 =  [(WordA,FrequencyA),(WordB,FrequencyB)]"
      ]
    },
    {
      "cell_type": "code",
      "execution_count": null,
      "metadata": {
        "id": "LcQzY8iWaBuP"
      },
      "outputs": [],
      "source": [
        "# Your code goes here"
      ]
    },
    {
      "cell_type": "markdown",
      "metadata": {
        "id": "hti5NFdGaBuX"
      },
      "source": [
        "The following code is going to plot a histogram with the counts of the  top-30 words as bars."
      ]
    },
    {
      "cell_type": "code",
      "execution_count": null,
      "metadata": {
        "id": "M5BMmYmhcvmt"
      },
      "outputs": [],
      "source": [
        "mostfreqn=30 # Here we define how many of them we want to see in the diagramm\n",
        "frequency=[y for (x,y) in counts_ted_top1000][:mostfreqn]\n",
        "word=[x for (x,y) in counts_ted_top1000][:mostfreqn]\n",
        "indices = np.arange(len(counts_ted_top1000[:mostfreqn]))\n",
        "plt.bar(indices, frequency, color='r')\n",
        "plt.xticks(indices, word, rotation='vertical')\n",
        "plt.tight_layout()\n",
        "plt.show()"
      ]
    },
    {
      "cell_type": "markdown",
      "metadata": {
        "id": "WssgORGecvmu"
      },
      "source": [
        "Exercise: You can clearly see, that many of the most common words are redundant and not very meaningful. These types of words are called **stopwords**. What problems can stop words create in the NLP and why it is important to remove them?"
      ]
    },
    {
      "cell_type": "markdown",
      "metadata": {
        "id": "mQ3Fvsteb-Hi"
      },
      "source": [
        "**Your answer goes here:**"
      ]
    },
    {
      "cell_type": "markdown",
      "metadata": {
        "id": "8r19KPrAH4iM"
      },
      "source": [
        "<h4>Exercise 2.2 (2 Points)</h4>"
      ]
    },
    {
      "cell_type": "markdown",
      "metadata": {
        "id": "imgTrP0jcCXz"
      },
      "source": [
        "Now, write a function that removes the stopwords from the variable `counts_ted_top1000` and save it as `counts_ted_top1000_no_stopword`. Use the code for visualization and spot the differences.\n",
        "\n",
        "The structure in the end should look like this: counts_ted_top1000_no_stopword = [(WordA,FrequencyA),(WordB,FrequencyB)]"
      ]
    },
    {
      "cell_type": "code",
      "execution_count": null,
      "metadata": {
        "id": "x7dpvwqyPuzS"
      },
      "outputs": [],
      "source": [
        "# Your code goes here"
      ]
    },
    {
      "cell_type": "code",
      "execution_count": null,
      "metadata": {
        "id": "tSo2313hK8n2"
      },
      "outputs": [],
      "source": [
        "mostfreqn=30 # Here we define how many of them we want to see in the diagramm\n",
        "frequency=[y for (x,y) in counts_ted_top1000_no_stopword][:mostfreqn]\n",
        "word=[x for (x,y) in counts_ted_top1000_no_stopword][:mostfreqn]\n",
        "indices = np.arange(len(counts_ted_top1000_no_stopword[:mostfreqn]))\n",
        "plt.bar(indices, frequency, color='r')\n",
        "plt.xticks(indices, word, rotation='vertical')\n",
        "plt.tight_layout()\n",
        "plt.show()"
      ]
    },
    {
      "cell_type": "markdown",
      "metadata": {
        "id": "ntM-fNW1cVPj"
      },
      "source": [
        "#### Wordcloud Visualization"
      ]
    },
    {
      "cell_type": "markdown",
      "metadata": {
        "id": "zp5LcPxWvIRG"
      },
      "source": [
        "The below so-called **wordcloud** shows the most frequent words in a larger font and the less frequent ones in a smaller font size. It's a quick and cool way of visualizing the most frequent words!"
      ]
    },
    {
      "cell_type": "code",
      "execution_count": null,
      "metadata": {
        "id": "W1AucK5tMc0l"
      },
      "outputs": [],
      "source": [
        "# Create a dictionary that maps words to their frequencies\n",
        "counts_ted_top1000_no_stopword = {word: count for word, count in counts_ted_top1000_no_stopword}\n",
        "\n",
        "# Create a WordCloud object\n",
        "wordcloud = WordCloud(width=800, height=400, background_color='white')\n",
        "\n",
        "# Generate the word cloud\n",
        "wordcloud.generate_from_frequencies(counts_ted_top1000_no_stopword)\n",
        "\n",
        "# Display the word cloud using matplotlib\n",
        "plt.figure(figsize=(10, 5))\n",
        "plt.imshow(wordcloud, interpolation='bilinear')\n",
        "plt.axis(\"off\")\n",
        "plt.show()"
      ]
    },
    {
      "cell_type": "markdown",
      "metadata": {
        "id": "2oRdD3e4aBud"
      },
      "source": [
        "### Part 3: Generating the Word Embeddings with Word2Vec"
      ]
    },
    {
      "cell_type": "markdown",
      "metadata": {
        "id": "kp0JGmKWhrNd"
      },
      "source": [
        "Now it is time to run the embedding model. Gensim has an already implemented model that you can use. Using the provided model is enough for the purposes of our notebook. If you want to dive deeper into the topic - this youtube video https://www.youtube.com/watch?v=kKDYtZfriI8 could be a great guidance for you to get started."
      ]
    },
    {
      "cell_type": "code",
      "execution_count": null,
      "metadata": {
        "id": "A_t4-aiTaBue"
      },
      "outputs": [],
      "source": [
        "# This takes a moment.. dont worry :D\n",
        "from gensim.models import Word2Vec\n",
        "\n",
        "model_ted = Word2Vec(sentences_ted)"
      ]
    },
    {
      "cell_type": "markdown",
      "metadata": {
        "id": "KKYd7ZemaBuj"
      },
      "source": [
        "### Part 4: Inspection of our learned representations/embeddings (3 Points)\n"
      ]
    },
    {
      "cell_type": "markdown",
      "metadata": {
        "id": "P7VvU82AaBuj"
      },
      "source": [
        "Now that we have a model that captures the word embeddings, we can use it to explore properties of the words in the text."
      ]
    },
    {
      "cell_type": "markdown",
      "metadata": {
        "id": "QFV06B1xcvm2"
      },
      "source": [
        "First, code a line that looks at the embedding of one individual word/token.  What does the representation of \"house\" look like in the embedding model? You may refer to the following gensim docs for functions, that might help you https://radimrehurek.com/gensim/models/keyedvectors.html). This will give you 1 point."
      ]
    },
    {
      "cell_type": "code",
      "execution_count": null,
      "metadata": {
        "id": "Tec0Q5WBcvm3"
      },
      "outputs": [],
      "source": [
        "# Your solution goes here."
      ]
    },
    {
      "cell_type": "markdown",
      "metadata": {
        "id": "-8yGLeYpcvm6"
      },
      "source": [
        "The next task for you is to output the most similar word to \"town\"? This will also give you 1 point."
      ]
    },
    {
      "cell_type": "code",
      "execution_count": null,
      "metadata": {
        "id": "Bs4MIsdpcvm7"
      },
      "outputs": [],
      "source": [
        "# Your solution goes here."
      ]
    },
    {
      "cell_type": "markdown",
      "metadata": {
        "id": "fCdHf0Sdcvm8"
      },
      "source": [
        "Finally, we want to find out how similar the words \"town\" and \"house\" are. Again: 1 point for this!"
      ]
    },
    {
      "cell_type": "code",
      "execution_count": null,
      "metadata": {
        "id": "3E9opXOTcvm8"
      },
      "outputs": [],
      "source": [
        "# Your solution goes here."
      ]
    },
    {
      "cell_type": "markdown",
      "metadata": {
        "id": "p7I5G-KpqbfH"
      },
      "source": [
        "<h4>Exercise 4.1 (3 Points)</h4>\n"
      ]
    },
    {
      "cell_type": "markdown",
      "metadata": {
        "id": "dgCMx111ej8l"
      },
      "source": [
        "Now that we have generated our embeddings, let's test some classical ideas:\n",
        "implement the following formula. Print out the 10 words, that are most similar to this formula: <br>\n",
        "$King-Man+Woman=???$\n",
        "There are two ways of computing similarity in word embeddings:\n",
        " - https://tedboy.github.io/nlps/generated/generated/gensim.models.Word2Vec.most_similar.html\n",
        " - https://tedboy.github.io/nlps/generated/generated/gensim.models.Word2Vec.most_similar_cosmul.html\n",
        "You should try out both! In this case one of them is better, but both of them are valid methods for computing similarity in the word-space."
      ]
    },
    {
      "cell_type": "code",
      "execution_count": null,
      "metadata": {
        "id": "S0y_5MLlqiMx"
      },
      "outputs": [],
      "source": [
        "# Your implementation goes here."
      ]
    },
    {
      "cell_type": "markdown",
      "metadata": {
        "id": "7XcdY5s-cvnA"
      },
      "source": [
        "Exercise 4.2 (2 Points)"
      ]
    },
    {
      "cell_type": "markdown",
      "metadata": {
        "id": "kejO0Tmze1tq"
      },
      "source": [
        "The expected outcome (Queen) should be one of the top ten most similar words. But there are also a lot of words, that you would not expect. Think about where how these words might be connected to the formula. Take your time and understand why some of the words (luther, mary, dr, president) might be in this list."
      ]
    },
    {
      "cell_type": "markdown",
      "metadata": {
        "id": "RapTRcHce7Ua"
      },
      "source": [
        "**Your answer goes here:**"
      ]
    },
    {
      "cell_type": "markdown",
      "metadata": {
        "id": "TMtpPOVtaBup"
      },
      "source": [
        "#### t-SNE visualization\n",
        "\n",
        "We will use the t-SNE algorithm, given below, for visualization. The so-called t-Distributed Stochastic Neighbor Embedding (t-SNE) is an unsupervised and non-linear machine learning technique. It is commonly used for visualizing high dimensional data (just like our high dimensional vectors). You do not have to understand the code, its purpose is simply to give you an idea of how the data is arranged in high dimensional space."
      ]
    },
    {
      "cell_type": "markdown",
      "metadata": {
        "id": "DLyQ3qoAcvnB"
      },
      "source": [
        "<h4>Exercise 4.3 (2 Points)</h4>"
      ]
    },
    {
      "cell_type": "markdown",
      "metadata": {
        "id": "JpHG2ON9fH2j"
      },
      "source": [
        "To use the t-SNE code below, first put a list of the top 50 words (as **strings**, without **stopwords**) into a variable `words_top_ted`."
      ]
    },
    {
      "cell_type": "code",
      "execution_count": null,
      "metadata": {
        "id": "xXstzIntcvnC"
      },
      "outputs": [],
      "source": [
        "# Your implementation goes here."
      ]
    },
    {
      "cell_type": "markdown",
      "metadata": {
        "id": "RSJ1AAzEcvnC"
      },
      "source": [
        "The following code gets the corresponding vectors from the model, assuming it's called `model_ted`:"
      ]
    },
    {
      "cell_type": "code",
      "execution_count": null,
      "metadata": {
        "id": "0-lLF1lZaBus"
      },
      "outputs": [],
      "source": [
        "# This assumes words_top_ted is a list of strings, the top 250 words\n",
        "words_top_vec_ted = model_ted.wv[words_top_ted]"
      ]
    },
    {
      "cell_type": "markdown",
      "metadata": {
        "id": "7-NxjQVMcvnE"
      },
      "source": [
        "The next few lines are for the t-SNE visualization."
      ]
    },
    {
      "cell_type": "code",
      "execution_count": null,
      "metadata": {
        "id": "HeJF5ut9aBux"
      },
      "outputs": [],
      "source": [
        "from sklearn.manifold import TSNE\n",
        "tsne = TSNE(n_components=2, random_state=0)\n",
        "words_top_ted_tsne = tsne.fit_transform(words_top_vec_ted)"
      ]
    },
    {
      "cell_type": "code",
      "execution_count": null,
      "metadata": {
        "id": "J2VgYLIZaBu2"
      },
      "outputs": [],
      "source": [
        "p = figure(tools=\"pan,wheel_zoom,reset,save\",\n",
        "           toolbar_location=\"above\",\n",
        "           title=\"word2vec T-SNE for most common words\")\n",
        "\n",
        "source = ColumnDataSource(data=dict(x1=words_top_ted_tsne[:,0],\n",
        "                                    x2=words_top_ted_tsne[:,1],\n",
        "                                    names=words_top_ted))\n",
        "\n",
        "p.scatter(x=\"x1\", y=\"x2\", size=8, source=source)\n",
        "\n",
        "labels = LabelSet(x=\"x1\", y=\"x2\", text=\"names\", y_offset=6,\n",
        "                  text_font_size=\"8pt\", text_color=\"#555555\",\n",
        "                  source=source, text_align='center')\n",
        "p.add_layout(labels)\n",
        "\n",
        "show(p)"
      ]
    },
    {
      "cell_type": "markdown",
      "metadata": {
        "id": "qn3osAABfZjQ"
      },
      "source": [
        "That's it. We hope you had fun and learned something in the process :-)"
      ]
    }
  ],
  "metadata": {
    "accelerator": "GPU",
    "anaconda-cloud": {},
    "colab": {
      "gpuType": "T4",
      "provenance": []
    },
    "kernelspec": {
      "display_name": "Python 3",
      "name": "python3"
    },
    "language_info": {
      "codemirror_mode": {
        "name": "ipython",
        "version": 3
      },
      "file_extension": ".py",
      "mimetype": "text/x-python",
      "name": "python",
      "nbconvert_exporter": "python",
      "pygments_lexer": "ipython3",
      "version": "3.11.5"
    }
  },
  "nbformat": 4,
  "nbformat_minor": 0
}
