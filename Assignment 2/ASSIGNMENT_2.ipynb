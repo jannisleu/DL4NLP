{
  "nbformat": 4,
  "nbformat_minor": 0,
  "metadata": {
    "accelerator": "GPU",
    "colab": {
      "provenance": [],
      "gpuType": "T4"
    },
    "kernelspec": {
      "display_name": "Python 3",
      "name": "python3"
    },
    "language_info": {
      "codemirror_mode": {
        "name": "ipython",
        "version": 3
      },
      "file_extension": ".py",
      "mimetype": "text/x-python",
      "name": "python",
      "nbconvert_exporter": "python",
      "pygments_lexer": "ipython3",
      "version": "3.7.6"
    }
  },
  "cells": [
    {
      "cell_type": "markdown",
      "metadata": {
        "id": "KthJSHkGQR7Z"
      },
      "source": [
        "# Bag of Words Text Classification\n",
        "\n",
        "In this assignment we will build a simple Bag of Words (BoW) text classifier using PyTorch. The classifier is trained on a Twitter dataset (with given labels) and is supposed to identify if the sentiment in individual tweets is *positive* or *negative*.\n",
        "\n",
        "\n",
        "## Concepts covered in this assignment\n",
        "1. NLP text pre-processing\n",
        "2. Split of training, validation and testing datasets\n",
        "3. Build a simple feed-forward neural net classifier using PyTorch\n",
        "4. Training the model"
      ]
    },
    {
      "cell_type": "markdown",
      "metadata": {
        "id": "3v_ulv3NvQbA"
      },
      "source": [
        "As always, we start with some imports...\n",
        "\n",
        "\n"
      ]
    },
    {
      "cell_type": "code",
      "metadata": {
        "id": "_8cUAJPMQR7g"
      },
      "source": [
        "import random\n",
        "import re # regular expression\n",
        "from collections import Counter\n",
        "from functools import partial\n",
        "from pathlib import Path\n",
        "\n",
        "import matplotlib.pyplot as plt\n",
        "import numpy as np\n",
        "import pandas as pd\n",
        "import google_drive_downloader\n",
        "from google_drive_downloader import GoogleDriveDownloader as gdd\n",
        "from IPython.core.display import display, HTML\n",
        "from sklearn.metrics import classification_report\n",
        "from tqdm import tqdm, tqdm_notebook # show progress bar\n",
        "\n",
        "# PyTorch modules\n",
        "import torch\n",
        "import torch.nn as nn\n",
        "import torch.nn.functional as F\n",
        "from torch import optim\n",
        "from torch.optim.lr_scheduler import CosineAnnealingLR\n",
        "from torch.utils.data import Dataset, DataLoader\n",
        "from torch.utils.data.dataset import random_split\n",
        "\n",
        "# nltk text processors\n",
        "import nltk\n",
        "from nltk.corpus import stopwords\n",
        "from nltk.tokenize import wordpunct_tokenize\n",
        "from nltk.stem import WordNetLemmatizer\n",
        "\n",
        "nltk.download('stopwords')\n",
        "nltk.download('wordnet')\n",
        "\n",
        "%matplotlib inline\n",
        "%config InlineBackend.figure_formats = ['svg']\n",
        "plt.style.use('ggplot')\n",
        "tqdm.pandas()\n",
        "\n",
        "device = torch.device('cuda' if torch.cuda.is_available() else 'cpu')\n",
        "device"
      ],
      "execution_count": null,
      "outputs": []
    },
    {
      "cell_type": "markdown",
      "source": [
        "Next, we load our dataset."
      ],
      "metadata": {
        "id": "dv50uF2AGHCq"
      }
    },
    {
      "cell_type": "code",
      "metadata": {
        "id": "j8-WlORVQR7n"
      },
      "source": [
        "DATA_PATH = 'data/twitter_reviews.csv'\n",
        "if not Path(DATA_PATH).is_file():\n",
        "    gdd.download_file_from_google_drive(\n",
        "        file_id='13OLqDXOBAO9fjD9Shz8iTeev3ZaNHaTC',\n",
        "        dest_path=DATA_PATH,\n",
        "    )\n",
        "\n",
        "df = pd.read_csv(DATA_PATH)"
      ],
      "execution_count": null,
      "outputs": []
    },
    {
      "cell_type": "markdown",
      "metadata": {
        "id": "YJmd3NNtQR7s"
      },
      "source": [
        "**Let's see what we are working with...**"
      ]
    },
    {
      "cell_type": "code",
      "metadata": {
        "id": "FnsKvqrXQR7t"
      },
      "source": [
        "print('Shape of the dataset' )\n",
        "print(df.shape)"
      ],
      "execution_count": null,
      "outputs": []
    },
    {
      "cell_type": "markdown",
      "metadata": {
        "id": "0Frm2s8TwMFV"
      },
      "source": [
        "Below is a sample set of five random tweets and their classifications. The classifications are labeled \"1\" for positive and \"0\" for negative tweets."
      ]
    },
    {
      "cell_type": "code",
      "source": [
        "df.sample(5)"
      ],
      "metadata": {
        "id": "eLGr_1fKOCqN"
      },
      "execution_count": null,
      "outputs": []
    },
    {
      "cell_type": "markdown",
      "source": [
        "Let's see the distribution of positive and negative tweets. This is the data our classifier will be trained on later."
      ],
      "metadata": {
        "id": "8sm1IAVGOUFQ"
      }
    },
    {
      "source": [
        "df['label'].plot(kind='hist', bins=20, title='label, positive = 1 and negative = 0')\n",
        "plt.gca().spines[['top', 'right',]].set_visible(False)"
      ],
      "cell_type": "code",
      "metadata": {
        "id": "12HSdQoG78Qr"
      },
      "execution_count": null,
      "outputs": []
    },
    {
      "cell_type": "markdown",
      "source": [
        "How about looking at specific examples for each class?"
      ],
      "metadata": {
        "id": "KduLVeteOjay"
      }
    },
    {
      "cell_type": "code",
      "metadata": {
        "id": "oTM2IdHRQR7y"
      },
      "source": [
        "print('Example negative tweet:')\n",
        "print(df.loc[55,].tweet, '\\n')\n",
        "print('Example positive tweet:')\n",
        "print(df.loc[12456,].tweet, '\\n')"
      ],
      "execution_count": null,
      "outputs": []
    },
    {
      "cell_type": "markdown",
      "source": [
        "Looking at your data before starting to code will help you in the process for example when encountering errors, when the training does not improve, or when you simply want to understand your results in the end. Remember: a good DL model is only as good as the data we feed it with!"
      ],
      "metadata": {
        "id": "WW9vhjy-O0ge"
      }
    },
    {
      "cell_type": "markdown",
      "metadata": {
        "id": "kajOXwKjQR71"
      },
      "source": [
        "# 1. Preprocessing\n",
        "(2.5 Points - 0.5 for each subtask)<br>\n",
        "\n",
        "As in the last assignment, we need to transform our data before training our classifier on it. We are interested to do the following preprocessing steps:\n",
        "* Replace weird characters\n",
        "* Lowercase\n",
        "* Tokenize\n",
        "* Stemming & Lemmatize\n",
        "* Remove stopwords"
      ]
    },
    {
      "cell_type": "markdown",
      "metadata": {
        "id": "NEAMiSRUQR71"
      },
      "source": [
        "**Let's see how to pre-process these steps one by one. Below we constructed a simple test tweet.**"
      ]
    },
    {
      "cell_type": "code",
      "metadata": {
        "id": "bd4I86AdQR72"
      },
      "source": [
        "test_corpus = '''Curtain drops at the #Crown Uptown after 32 years http://www.kansas.com/news/featured/story/860875.html'''"
      ],
      "execution_count": null,
      "outputs": []
    },
    {
      "cell_type": "markdown",
      "metadata": {
        "id": "PLcnJGQQo8kj"
      },
      "source": [
        "<h1>Exercise 1.1</h1>\n",
        "Write a function `special_and_lower` that removes special characters and puts the text lowercase. If you wonder what a special character is, check [here](https://www.computerhope.com/jargon/s/specchar.htm)\n"
      ]
    },
    {
      "cell_type": "code",
      "metadata": {
        "id": "__qLl57RQR74"
      },
      "source": [
        "# Your answer goes here\n",
        "\n",
        "test_corpus = special_and_lower(test_corpus)\n",
        "print(test_corpus)"
      ],
      "execution_count": null,
      "outputs": []
    },
    {
      "cell_type": "markdown",
      "metadata": {
        "id": "A7qx11yEpxg6"
      },
      "source": [
        "<h1>Exercise 1.2</h1>Write a function `tokenize_text` that creates a list of tokens from the input text. Use your own implementation here."
      ]
    },
    {
      "cell_type": "code",
      "metadata": {
        "id": "wEXzzABQQR78"
      },
      "source": [
        "# Your answer goes here\n",
        "\n",
        "test_corpus = tokenize_text(test_corpus)\n",
        "print(test_corpus)"
      ],
      "execution_count": null,
      "outputs": []
    },
    {
      "cell_type": "markdown",
      "metadata": {
        "id": "0HX3sCwXp_D_"
      },
      "source": [
        "<h1>Exercise 1.3</h1>\n",
        "\n",
        "Using  **WordNetLemmatizer** , write a function `lemmatize_text` that lemmatizes the text. Lemmatization, which is the process of grouping inflected forms together as a single base form, is a text normalization that is used in pre-processing. Please lemmatize first nouns and then verbs. For more information regarding *WordNetLemmatizer*, please check [here](https://www.nltk.org/_modules/nltk/stem/wordnet.html):\n"
      ]
    },
    {
      "cell_type": "code",
      "metadata": {
        "id": "yiNcDaSdQR7_"
      },
      "source": [
        "# Your answer goes here\n",
        "\n",
        "test_corpus = lemmatize_text(test_corpus)\n",
        "print(test_corpus)"
      ],
      "execution_count": null,
      "outputs": []
    },
    {
      "cell_type": "markdown",
      "metadata": {
        "id": "goU2DbZoqSm-"
      },
      "source": [
        "<h1>Exercise 1.4 </h1>Write a function `replace_numbers` that replaces any standalone number with the special token \" < NUM > \" (without the spaces). For instance, \"42\" must be replaced by the token but \"42h\" not.\n",
        "\n",
        "\n"
      ]
    },
    {
      "cell_type": "code",
      "metadata": {
        "id": "--w6TAk1QR8E"
      },
      "source": [
        "# Your answer goes here\n",
        "\n",
        "test_corpus = replace_numbers(test_corpus)\n",
        "print(test_corpus)\n"
      ],
      "execution_count": null,
      "outputs": []
    },
    {
      "cell_type": "markdown",
      "metadata": {
        "id": "ucsZrwA0rdIO"
      },
      "source": [
        "<h1>Exercise 1.5</h1>We want to remove redundant words that are very common in all the texts (like \"a\" or \"to\"). As you learned previously, these words are called stopwords and do not contain any meaning, that is relevant for our task.\n",
        "Write a function \"remove_stopwords\" that removes stopwords using the stopwords imported from NLTK (check on top)."
      ]
    },
    {
      "cell_type": "code",
      "metadata": {
        "id": "h7PBL2lIQR8I"
      },
      "source": [
        "# Your answer goes here\n",
        "\n",
        "test_corpus = remove_stopwords(test_corpus)\n",
        "print(test_corpus)"
      ],
      "execution_count": null,
      "outputs": []
    },
    {
      "cell_type": "markdown",
      "metadata": {
        "id": "uXzZMB5BPoAw"
      },
      "source": [
        "# 2. Building a Vocabulary\n",
        "\n",
        "Next we want to create some sort of represention for our tokens. As you encountered in the lecture, one way of doing this is by representing words by unique values and store them in a vocabulary. You will learn later why such a representation (or embedding) is not very efficient for larger text corpora. For the task at hand it is sufficient however."
      ]
    },
    {
      "cell_type": "markdown",
      "metadata": {
        "id": "091YxPUFruN0"
      },
      "source": [
        "<h1>Exercise 2.1</h1> (2 Points)<br> Define the function `build_vocab` which receives as input `clean_tokens` and returns `vocab`, which is a python dictionary with words as keys and unique integer indices as values.\n",
        "\n"
      ]
    },
    {
      "cell_type": "code",
      "metadata": {
        "id": "9t4Mc4pxQR8P"
      },
      "source": [
        "# Your answer goes here\n",
        "\n",
        "print(build_vocab([test_corpus]))"
      ],
      "execution_count": null,
      "outputs": []
    },
    {
      "cell_type": "markdown",
      "metadata": {
        "id": "Vy2zLY1CsqeT"
      },
      "source": [
        "<h1>Exercise 2.2 </h1>(2 Points)<br> Define the function `build_index2token` which receives as input `vocab` (the output of the previously defined function `build_vocab`) and returns `index2token`, which is a python dictionary with unique integer indices as keys and  words as values. Make sure that the indices assigned to the words are exactly the same as in `vocab`.\n"
      ]
    },
    {
      "cell_type": "code",
      "metadata": {
        "id": "rQw7-4YFQR8S"
      },
      "source": [
        "# Your answer goes here\n",
        "\n",
        "print(build_index2token(build_vocab([test_corpus])))"
      ],
      "execution_count": null,
      "outputs": []
    },
    {
      "cell_type": "markdown",
      "metadata": {
        "id": "jCw9LKDKQR8W"
      },
      "source": [
        "**Let's package the pre-processing steps together into one function to later apply it to our dataset.**<br>\n",
        "(1 Point)\n",
        "\n"
      ]
    },
    {
      "cell_type": "code",
      "metadata": {
        "id": "GHCoa8R_QR8W"
      },
      "source": [
        "def tokenize(text, stop_words, lemmatizer):\n",
        "\n",
        "    # Complete this function by sending the data (text) through each of the functions you built above (special_and_lower, tokenize_text, replace_numbers, remove_stopwords, lemmatize text).\n",
        "    # Think carefully about a sensible order!\n",
        "\n",
        "    return tokens\n",
        "\n",
        "def build_bow_vector(sequence, idx2token):\n",
        "    vector = [0] * len(idx2token)\n",
        "    for token_idx in sequence:\n",
        "        if token_idx not in idx2token:\n",
        "            raise ValueError('Wrong sequence index found!')\n",
        "        else:\n",
        "            vector[token_idx] += 1\n",
        "    return vector"
      ],
      "execution_count": null,
      "outputs": []
    },
    {
      "cell_type": "markdown",
      "metadata": {
        "id": "lRH1n4NLP1zt"
      },
      "source": [
        "# 3. Splitting and transforming the Dataset"
      ]
    },
    {
      "cell_type": "markdown",
      "metadata": {
        "id": "Vrtj7ZIEyI2Q"
      },
      "source": [
        "<h1>Exercise 3.1</h1>\n",
        "(3 points)"
      ]
    },
    {
      "cell_type": "markdown",
      "metadata": {
        "id": "2h8bZrGZ5AAq"
      },
      "source": [
        "In this part, we will build a class to assign our data to. It helps us to easier access different parts of our dataset. But before doing so, we want you to do something else. Go to the `TwitterDataset` class and implement a function that assigns to the variable `common_tokens` the `n` most frequent/used words accross all tokens. `n` in this case is denoted as `max_vocab`.<br>\n",
        "\n",
        "Make sure to use a function that compresses the output to a set of unique words, ie. disregard dublicates. If you're done with that, come back up here!"
      ]
    },
    {
      "cell_type": "markdown",
      "source": [
        "Next, we want you to implement a function `remove_rare_words` that will be called in the `TwitterDataset` class to remove rare words from each sequence of tokens in our dataset. As you can see, the function takes two arguments: a list of tokens, and a set of common_tokens (which is the variable you just filled in the previous task)."
      ],
      "metadata": {
        "id": "ImymqbaNSlaw"
      }
    },
    {
      "cell_type": "markdown",
      "source": [
        "(1 point)"
      ],
      "metadata": {
        "id": "Ar3preW3YHkV"
      }
    },
    {
      "cell_type": "code",
      "source": [
        "def remove_rare_words(tokens, common_tokens):\n",
        "\n",
        "    ''' input: list = tokens, set = common_tokens\n",
        "    output: a list with only those tokens that can also be found among the most common tokens. all rare words are to be replaced with '<UNK>' '''\n",
        "    # Your answer goes here\n",
        "\n",
        "    return tokens"
      ],
      "metadata": {
        "id": "EAplm-XXSk3L"
      },
      "execution_count": null,
      "outputs": []
    },
    {
      "cell_type": "markdown",
      "source": [
        "Now we would like you to implement a function called `common_tokens`, that is called inside the class `TwitterDataset` and takes `all_tokens` to then return a set of most common words. The length of the set should be limited by the parameter `max_vocab`."
      ],
      "metadata": {
        "id": "KnXv8sfrgLzS"
      }
    },
    {
      "cell_type": "code",
      "source": [
        "def common_tokens (all_tokens, max_vocab):\n",
        "\n",
        "  return common_tokens"
      ],
      "metadata": {
        "id": "YkzHMUzngMIv"
      },
      "execution_count": null,
      "outputs": []
    },
    {
      "cell_type": "markdown",
      "source": [
        "(1 point)"
      ],
      "metadata": {
        "id": "K0BCq67QYLs0"
      }
    },
    {
      "cell_type": "code",
      "metadata": {
        "id": "cRpfCXB5QR8Y"
      },
      "source": [
        "class TwitterDataset(Dataset):\n",
        "    def __init__(self, data_path, max_vocab=5000):\n",
        "        df = pd.read_csv(data_path)\n",
        "\n",
        "        # Clean and tokenize\n",
        "        stop_words = set(stopwords.words('english'))\n",
        "        lemmatizer = WordNetLemmatizer()\n",
        "        df['tokens'] = df.tweet.apply(\n",
        "            partial(\n",
        "                tokenize,\n",
        "                stop_words=stop_words,\n",
        "                lemmatizer=lemmatizer,\n",
        "            ),\n",
        "        )\n",
        "\n",
        "        all_tokens = [token for doc in list(df.tokens) for token in doc]\n",
        "\n",
        "        # This is where your function will be called\n",
        "        common_tokens = common_tokens(all_tokens, max_vocab)\n",
        "\n",
        "        # Replace rare words with <UNK>\n",
        "        df.loc[:, 'tokens'] = df.tokens.progress_apply(\n",
        "            partial(\n",
        "                remove_rare_words,\n",
        "                common_tokens=common_tokens\n",
        "            ),\n",
        "        )\n",
        "\n",
        "        # Replace numbers with <NUM>\n",
        "        df.loc[:, 'tokens'] = df.tokens.progress_apply(replace_numbers)\n",
        "\n",
        "        # Remove sequences with only <UNK>\n",
        "        df = df[df.tokens.progress_apply(\n",
        "            lambda tokens: any(token != '<UNK>' for token in tokens),\n",
        "        )]\n",
        "\n",
        "        # Build vocab\n",
        "        self.token2idx = build_vocab(list(df.tokens))\n",
        "        self.idx2token = build_index2token(self.token2idx)\n",
        "\n",
        "\n",
        "        # Convert tokens to indexes\n",
        "        df['indexed_tokens'] = df.tokens.progress_apply(\n",
        "            lambda doc: [self.token2idx[token] for token in doc],\n",
        "        )\n",
        "\n",
        "        # Build BoW vector\n",
        "        df['bow_vector'] = df.indexed_tokens.progress_apply(\n",
        "            build_bow_vector, args=(self.idx2token,)\n",
        "        )\n",
        "\n",
        "        self.text = df.tweet.tolist()\n",
        "        self.sequences = df.indexed_tokens.tolist()\n",
        "        self.bow_vector = df.bow_vector.tolist()\n",
        "        self.targets = df.label.tolist()\n",
        "\n",
        "    def __getitem__(self, i):\n",
        "        return (\n",
        "            self.sequences[i],\n",
        "            self.bow_vector[i],\n",
        "            self.targets[i],\n",
        "            self.text[i],\n",
        "        )\n",
        "\n",
        "    def __len__(self):\n",
        "        return len(self.targets)"
      ],
      "execution_count": null,
      "outputs": []
    },
    {
      "cell_type": "markdown",
      "source": [
        "**Question**: Why might removing rare words not be a good idea? Why or when could rare words be valuable?\n",
        "\n",
        "(1 point)"
      ],
      "metadata": {
        "id": "g97gYaZaYB_w"
      }
    },
    {
      "cell_type": "markdown",
      "source": [
        "**Your answer goes here:**"
      ],
      "metadata": {
        "id": "zLywxHsLYhAf"
      }
    },
    {
      "cell_type": "markdown",
      "source": [
        "Finally, we can instantiate our dataset."
      ],
      "metadata": {
        "id": "8ufiOM7iY1W2"
      }
    },
    {
      "cell_type": "code",
      "metadata": {
        "id": "bYb2RZSI_F8A"
      },
      "source": [
        "MAX_VOCAB = \"500\" #@param [1000, 5000, 10000, 100000] {allow-input: true}\n",
        "\n",
        "MAX_VOCAB = int(MAX_VOCAB)"
      ],
      "execution_count": null,
      "outputs": []
    },
    {
      "cell_type": "code",
      "metadata": {
        "id": "K31nmR1KQR8a"
      },
      "source": [
        "# This will load for a while: Grab a coffee\n",
        "dataset = TwitterDataset(DATA_PATH, max_vocab=MAX_VOCAB)"
      ],
      "execution_count": null,
      "outputs": []
    },
    {
      "cell_type": "markdown",
      "metadata": {
        "id": "ZgCt9GdyQR8d"
      },
      "source": [
        "Again, we can check a random sample out of the dataset."
      ]
    },
    {
      "cell_type": "code",
      "metadata": {
        "id": "V57qJlwuQR8e"
      },
      "source": [
        "print('Number of records:', len(dataset), '\\n')\n",
        "\n",
        "import random\n",
        "random_idx = random.randint(0,len(dataset)-1)\n",
        "print('index:', random_idx, '\\n')\n",
        "sample_seq, bow_vector, sample_target, sample_text = dataset[random_idx]\n",
        "print(sample_text, '\\n')\n",
        "print(sample_seq, '\\n')\n",
        "print('BoW vector size:', len(bow_vector), '\\n')\n",
        "print('label:', sample_target, '\\n')"
      ],
      "execution_count": null,
      "outputs": []
    },
    {
      "cell_type": "markdown",
      "metadata": {
        "id": "3ScUh32jQR8g"
      },
      "source": [
        "<h1>Exercise 3.2</h1> (2 Points)<br> Split into training, validation, and test sets.\n",
        "\n",
        "Since we only have a certain ammount of Data to train, validate and test our model on, we need to split our Dataset into 3 Parts:\n",
        "\n",
        "- **Training**: data the model learns from (80%)\n",
        "- **Validation**: data to evaluate with for hyperparameter tuning (make sure the model doesn't overfit!) (10%)\n",
        "- **Testing**: data to evaluate the final performance of the model (10%)\n",
        "\n",
        "Given the ratios for validation and testing, it is your task to complete the `function split_train_valid_test` and calculate the three split lenghts, which are then used as argument in the `random_split` function we have imported at the top of this notebook."
      ]
    },
    {
      "cell_type": "code",
      "metadata": {
        "id": "n06g-zwTQR8g"
      },
      "source": [
        "# Please complete this\n",
        "def split_train_valid_test():\n",
        "    \"\"\"Split dataset into train, validation, and test.\"\"\"\n",
        "\n",
        "    return random_split()"
      ],
      "execution_count": null,
      "outputs": []
    },
    {
      "cell_type": "code",
      "metadata": {
        "id": "qRIrAPkmQR8i"
      },
      "source": [
        "# Now we apply the function above:\n",
        "train_dataset, valid_dataset, test_dataset = split_train_valid_test(\n",
        "    dataset, valid_ratio=0.05, test_ratio=0.05)\n",
        "len(train_dataset), len(valid_dataset), len(test_dataset)"
      ],
      "execution_count": null,
      "outputs": []
    },
    {
      "cell_type": "markdown",
      "metadata": {
        "id": "VdbeQ4l05SXQ"
      },
      "source": [
        "Next up: **Batching**. Since our classifier can only work on a certain amount of data at a time and we dont have endless amounts of RAM available, we will use batching to split our dataset into mouth-sized bites."
      ]
    },
    {
      "cell_type": "code",
      "metadata": {
        "id": "Z1iPjOIOQR8l"
      },
      "source": [
        "BATCH_SIZE = 528\n",
        "\n",
        "def collate(batch):\n",
        "    seq = [item[0] for item in batch]\n",
        "    bow = [item[1] for item in batch]\n",
        "    target = torch.LongTensor([item[2] for item in batch])\n",
        "    text = [item[3] for item in batch]\n",
        "    return seq, bow, target, text\n",
        "\n",
        "train_loader = DataLoader(train_dataset, batch_size=BATCH_SIZE, collate_fn=collate)\n",
        "valid_loader = DataLoader(valid_dataset, batch_size=BATCH_SIZE, collate_fn=collate)\n",
        "test_loader = DataLoader(test_dataset, batch_size=BATCH_SIZE, collate_fn=collate)"
      ],
      "execution_count": null,
      "outputs": []
    },
    {
      "cell_type": "markdown",
      "metadata": {
        "id": "gg5oSR-U5XfW"
      },
      "source": [
        "After splitting our data it now looks like this:"
      ]
    },
    {
      "cell_type": "code",
      "metadata": {
        "id": "3LNYX9TOQR8n"
      },
      "source": [
        "print('number of training batches:', len(train_loader), '\\n')\n",
        "batch_idx = random.randint(0, len(train_loader)-1)\n",
        "example_idx = random.randint(0, BATCH_SIZE-1)\n",
        "\n",
        "for i, fields in enumerate(train_loader):\n",
        "    seq, bow, target, text = fields\n",
        "    if i == batch_idx:\n",
        "        print('Training input sequence:', seq[example_idx], '\\n')\n",
        "        print('BoW vector size:', len(bow[example_idx]), '\\n')\n",
        "        print('Label: ', target[example_idx], '\\n')\n",
        "        print('Review text:', text[example_idx], '\\n')\n"
      ],
      "execution_count": null,
      "outputs": []
    },
    {
      "cell_type": "markdown",
      "metadata": {
        "id": "dRziGFdtQR8p"
      },
      "source": [
        "# 4. BoW Model\n",
        "\n",
        "So, now to the fun part. In the following, we are going to construct our classifier to the actual job of predicting positive or negative tweets. Ever step will take you through a different phase of building our model."
      ]
    },
    {
      "cell_type": "markdown",
      "metadata": {
        "id": "1aZ_jCUBGll4"
      },
      "source": [
        "### Building the BoW Model\n",
        "\n",
        "![BOW](https://github.com/scoutbeedev/pytorch-nlp-notebooks/blob/master/images/bow_representation.png?raw=1)\n",
        "\n",
        "In the cell below 4.1 we implemented a BoW-Model with the following specifics:\n",
        "- Input: BoW Vector\n",
        "- Model:\n",
        "    - feed-forward fully connected network\n",
        "    - 2 hidden layers\n",
        "- Output:\n",
        "    - vector size of 2 (2 possible outcome: positive v.s. negative)\n",
        "    - probability of input document classified as the label"
      ]
    },
    {
      "cell_type": "markdown",
      "metadata": {
        "id": "GreaW-FG80cU"
      },
      "source": [
        "<h1>Exercise 4.1 </h1> (2 Points)<br> Substitute the three non-linear functions which are currently of type `relu` with any other type you like. You may want to experiment with several types and then leave you favourite in the final solution. Check [here](https://pytorch.org/docs/stable/nn.html#non-linear-activations-weighted-sum-nonlinearity) for the available non-linear functions in Pytorch."
      ]
    },
    {
      "cell_type": "code",
      "metadata": {
        "id": "-eKgEFZOQR8s"
      },
      "source": [
        "class FeedfowardTextClassifier(nn.Module):\n",
        "    def __init__(self, device, vocab_size, hidden1, hidden2, hidden3, num_labels, batch_size):\n",
        "        super(FeedfowardTextClassifier, self).__init__()\n",
        "        self.device = device\n",
        "        self.batch_size = batch_size\n",
        "        # Here we instantiate the different layers of our network\n",
        "        self.fc1 = nn.Linear(vocab_size, hidden1)\n",
        "        self.fc2 = # Complete this code line\n",
        "        self.fc3 = # Complete this code line\n",
        "        self.fc4 = nn.Linear(hidden3, num_labels)\n",
        "\n",
        "    def forward(self, x):\n",
        "        batch_size = len(x)\n",
        "        if batch_size != self.batch_size:\n",
        "            self.batch_size = batch_size\n",
        "\n",
        "        # Here we feed our data through our neural network\n",
        "        # Please send them through each layer one my one.\n",
        "        x = torch.FloatTensor(x)\n",
        "        x =  # Your Changes go here\n",
        "        x =  # Your Changes go here\n",
        "        x =  # Your Changes go here\n",
        "        x =  # Your Changes go here\n",
        "        return x"
      ],
      "execution_count": null,
      "outputs": []
    },
    {
      "cell_type": "markdown",
      "metadata": {
        "id": "ZU0R7y2j9rOF"
      },
      "source": [
        "<h1>Exercise 4.2</h1>\n",
        "(not scored)<br> Play with HIDDEN1 and HIDDEN2 parameters. Try to find which parameter configuration leads to better classification performance. The number below influences the amount of Neurons per Layer."
      ]
    },
    {
      "cell_type": "code",
      "metadata": {
        "id": "EgoFy6Z3K5vC"
      },
      "source": [
        "# Define hidden layer size\n",
        "HIDDEN1 = \"175\" #@param [10, 30, 50, 100, 200, 500] {allow-input: true}\n",
        "HIDDEN2 = \"500\" #@param [10, 30, 50, 100, 200, 500] {allow-input: true}\n",
        "HIDDEN3 = \"500\" #@param [10, 30, 50, 100, 200, 500] {allow-input: true}\n",
        "\n",
        "LEARNING_RATE = \"0.1\" #@param [0.1, 0.001, 0.0001, 0.00001, 0.000001, 0.00000001] {allow-input: true}\n",
        "criterion = nn.CrossEntropyLoss() # try out different loss functions here. read the documenation for more.\n",
        "\n",
        "HIDDEN1 = int(HIDDEN1)\n",
        "HIDDEN2 = int(HIDDEN2)\n",
        "HIDDEN3 = int(HIDDEN3)\n",
        "LEARNING_RATE = float(LEARNING_RATE)"
      ],
      "execution_count": null,
      "outputs": []
    },
    {
      "cell_type": "markdown",
      "metadata": {
        "id": "oJHJnPnJLUfo"
      },
      "source": [
        "<h1>Exercise 4.3</h1> (2 Points) <br> Add an extra hidden layer to the network, with a size of your choice. You can do it by modifying the cell below and of course adjusting the Class definition of `FeedfowardTextClassifier` such that it accepts one more layer when initialized."
      ]
    },
    {
      "cell_type": "code",
      "metadata": {
        "id": "M0Q9ze4EQR8t"
      },
      "source": [
        "# Initializing the model.\n",
        "bow_model = FeedfowardTextClassifier(\n",
        "    vocab_size=len(dataset.token2idx),\n",
        "    hidden1=HIDDEN1,\n",
        "    hidden2=HIDDEN2,\n",
        "    hidden3 = HIDDEN3,\n",
        "    num_labels=2,\n",
        "    device=device,\n",
        "    batch_size=BATCH_SIZE,\n",
        ")\n",
        "\n",
        "bow_model"
      ],
      "execution_count": null,
      "outputs": []
    },
    {
      "cell_type": "code",
      "metadata": {
        "id": "a3PifawkQR8w"
      },
      "source": [
        "for param in bow_model.parameters():\n",
        "    print(param.size())"
      ],
      "execution_count": null,
      "outputs": []
    },
    {
      "cell_type": "markdown",
      "metadata": {
        "id": "F9AG4SosQR80"
      },
      "source": [
        "### Training the BoW Model\n",
        "\n",
        "Theoretically, our model now looks like this. You have seen these mathematical formulas in the lecture and the tutorial.\n",
        "\n",
        "\n",
        "Layer 1 affine: $$x_1 = W_1 X + b_1$$\n",
        "Layer 1 activation: $$h_1 = Relu(x_1)$$\n",
        "Layer 2 affine: $$x_2 = W_2 h_1 + b_2$$\n",
        "output: $$p = softmax(x_2)$$\n",
        "Loss: $$L = −(ylog(p)+(1−y)log(1−p))$$\n",
        "Gradient:\n",
        "$$\\frac{\\partial }{\\partial W_1}L(W_1, b_1, W_2, b_2) = \\frac{\\partial L}{\\partial p}\\frac{\\partial p}{\\partial x_2}\\frac{\\partial x_2}{\\partial h_1}\\frac{\\partial h_1}{\\partial x_1}\\frac{\\partial x_1}{\\partial W_1}$$\n",
        "\n",
        "Parameter update:\n",
        "$$W_1 = W_1 - \\alpha \\frac{\\partial L}{\\partial W_1}$$"
      ]
    },
    {
      "cell_type": "markdown",
      "metadata": {
        "id": "3utDgyY2G2vK"
      },
      "source": [
        "**Define a loss function, a gradient descent optimizer, and a scheduler.**\n",
        "\n",
        "- Criterion: compute *Loss* to see how much the prediction does differ from truth\n",
        "- Optimizer: different ways of updating the weight parameters. It can affect the speed of training and how easily the global minimum is reached.\n",
        "- Scheduler: dynamic alteration of the learning rate\n",
        "\n",
        "**Question**: When selecting optimizers, you can think about what problems we may run into when performing gradient desent? (hint: global minimum vs. local minimum) <br>\n",
        "(0.5 points)"
      ]
    },
    {
      "cell_type": "markdown",
      "source": [
        "**Your answer goes here:**"
      ],
      "metadata": {
        "id": "ZC6WD1lReyRY"
      }
    },
    {
      "cell_type": "code",
      "metadata": {
        "id": "H2emTYNqE4yC"
      },
      "source": [
        "criterion = nn.CrossEntropyLoss()\n",
        "\n",
        "optimizer = optim.Adam(\n",
        "    filter(lambda p: p.requires_grad, bow_model.parameters()),\n",
        "    lr=LEARNING_RATE,\n",
        ")\n",
        "scheduler = CosineAnnealingLR(optimizer, 1)"
      ],
      "execution_count": null,
      "outputs": []
    },
    {
      "cell_type": "markdown",
      "metadata": {
        "id": "IpHbURwPH74N"
      },
      "source": [
        "**Define training round & validation round** <br>\n",
        "Nothing to do here, just run the cell."
      ]
    },
    {
      "cell_type": "code",
      "metadata": {
        "id": "ROAha1KQQR81"
      },
      "source": [
        "def train_epoch(model, optimizer, train_loader, input_type='bow'):\n",
        "    model.train()\n",
        "    total_loss, total = 0, 0\n",
        "    for seq, bow, target, text in train_loader:\n",
        "        if input_type == 'bow':\n",
        "            inputs = bow\n",
        "\n",
        "        # Reset gradient\n",
        "        optimizer.zero_grad()\n",
        "\n",
        "        # Forward pass\n",
        "        output = model(inputs)\n",
        "\n",
        "        # Compute loss\n",
        "        loss = criterion(output, target)\n",
        "        # Perform gradient descent, backwards pass\n",
        "        loss.backward()\n",
        "\n",
        "        # Take a step in the right direction\n",
        "        optimizer.step()\n",
        "        scheduler.step()\n",
        "\n",
        "        # Record metrics\n",
        "        total_loss += loss.item()\n",
        "        total += len(target)\n",
        "\n",
        "    return total_loss / total\n",
        "\n",
        "\n",
        "def validate_epoch(model, valid_loader, input_type='bow'):\n",
        "    model.eval()\n",
        "    total_loss, total = 0, 0\n",
        "    with torch.no_grad():\n",
        "        for seq, bow, target, text in valid_loader:\n",
        "            if input_type == 'bow':\n",
        "                inputs = bow\n",
        "\n",
        "            # Forward pass\n",
        "            output = model(inputs)\n",
        "\n",
        "            # Calculate how wrong the model is\n",
        "            loss = criterion(output, target)\n",
        "\n",
        "            # Record metrics\n",
        "            total_loss += loss.item()\n",
        "            total += len(target)\n",
        "\n",
        "    return total_loss / total"
      ],
      "execution_count": null,
      "outputs": []
    },
    {
      "cell_type": "markdown",
      "metadata": {
        "id": "4JwqTT6bQR83"
      },
      "source": [
        "And after all the construction work, we can now finally **train our classifier!**"
      ]
    },
    {
      "cell_type": "code",
      "metadata": {
        "id": "k_DOlOHkQR83"
      },
      "source": [
        "n_epochs = 0\n",
        "max_epochs =200\n",
        "train_losses, valid_losses = [], []\n",
        "while n_epochs <= max_epochs:\n",
        "    train_loss = train_epoch(bow_model, optimizer, train_loader, input_type='bow')\n",
        "    valid_loss = validate_epoch(bow_model, valid_loader, input_type='bow')\n",
        "\n",
        "    tqdm.write(\n",
        "        f'epoch #{n_epochs + 1:3d}\\ttrain_loss: {train_loss:.2e}\\tvalid_loss: {valid_loss:.2e}\\n',\n",
        "    )\n",
        "\n",
        "    # Early stopping if the current valid_loss is greater than the last three valid losses\n",
        "    if len(valid_losses) > 2 and all(valid_loss >= loss for loss in valid_losses[-3:]):\n",
        "        print('Stopping early')\n",
        "        break\n",
        "\n",
        "    train_losses.append(train_loss)\n",
        "    valid_losses.append(valid_loss)\n",
        "\n",
        "    n_epochs += 1"
      ],
      "execution_count": null,
      "outputs": []
    },
    {
      "cell_type": "code",
      "metadata": {
        "id": "kmGeqkhPZ9cp"
      },
      "source": [
        "# This plot will visualize the model's loss over the epochs it was trained for.\n",
        "epoch_ticks = range(1, n_epochs + 1)\n",
        "plt.plot(epoch_ticks, train_losses)\n",
        "plt.plot(epoch_ticks, valid_losses)\n",
        "plt.legend(['Train Loss', 'Valid Loss'])\n",
        "plt.title('Losses')\n",
        "plt.xlabel('Epoch #')\n",
        "plt.ylabel('Loss')\n",
        "plt.xticks(epoch_ticks)\n",
        "plt.show()"
      ],
      "execution_count": null,
      "outputs": []
    },
    {
      "cell_type": "markdown",
      "source": [
        "# 4.4. Understanding of the impact of layers and different parameters.\n",
        "\n",
        "  - In this section you will explore the impact of hidden layers, the number of neurons in each hidden layer, the learning rate and loss functions. We will produce the training and validation losses to compare the graphs of different combinations to build up a deeper understanding of how all these parameters can have an impact on the overall classification performance.\n",
        "\n",
        "  -  You are welcome to create your own number of hidden layers, experiment with it and observe the changes in the training and validation losses. In that case, don't forget to change the bow_model and FeedfowardTextClassifier class as well."
      ],
      "metadata": {
        "id": "f2V02KK6ZLQE"
      }
    },
    {
      "cell_type": "code",
      "source": [
        "# This exercise will take some time. Have patience.\n",
        "\n",
        "HIDDEN_1 = [64, 128, 128] # change your parameters here\n",
        "HIDDEN_2 = [128, 128, 128] # change your parameters here\n",
        "HIDDEN_3 = [128, 512, 64] # change your parameters here\n",
        "\n",
        "LEARNING__RATE = [0.1, 0.01, 0.001] # change your parameters here\n",
        "max_epochs =[100,100,100] # change your parameters here, you can keep the epocs same to comare the results for different set of experiments.\n",
        "\n",
        "criterion = nn.CrossEntropyLoss() # try out different loss functions here. read documentaion for more\n",
        "\n",
        "combination = 3\n",
        "results = []\n",
        "\n",
        "for i in range(combination) :\n",
        "  print(f'training model for {i} combination of parameters.')\n",
        "\n",
        "  HIDDEN1 = HIDDEN_1[i]\n",
        "  HIDDEN2 = HIDDEN_2[i]\n",
        "  HIDDEN3 = HIDDEN_3[i]\n",
        "  LEARNING_RATE = LEARNING__RATE[i]\n",
        "\n",
        "# Store results for each run\n",
        "\n",
        "  # Initialize the model with current parameters\n",
        "  bow_model = FeedfowardTextClassifier(\n",
        "      vocab_size=len(dataset.token2idx),\n",
        "      hidden1=HIDDEN1,\n",
        "      hidden2=HIDDEN2,\n",
        "      hidden3 = HIDDEN3,\n",
        "      num_labels=2,\n",
        "      device=device,\n",
        "      batch_size=BATCH_SIZE,\n",
        "  )\n",
        "\n",
        "  # Convert learning_rate to float\n",
        "  learning_rate = float(LEARNING_RATE)\n",
        "\n",
        "  optimizer = optim.Adam(\n",
        "      filter(lambda p: p.requires_grad, bow_model.parameters()),\n",
        "      lr=learning_rate,\n",
        "  )\n",
        "  scheduler = CosineAnnealingLR(optimizer, 1)\n",
        "  def train_epoch(model, optimizer, train_loader, input_type='bow'):\n",
        "    model.train()\n",
        "    total_loss, total = 0, 0\n",
        "    for seq, bow, target, text in train_loader:\n",
        "        if input_type == 'bow':\n",
        "            inputs = bow\n",
        "\n",
        "        # Reset gradient\n",
        "        optimizer.zero_grad()\n",
        "\n",
        "        # Forward pass\n",
        "        output = model(inputs)\n",
        "\n",
        "        # Compute loss\n",
        "        loss = criterion(output, target)\n",
        "\n",
        "        # Perform gradient descent, backwards pass\n",
        "        loss.backward()\n",
        "\n",
        "        # Take a step in the right direction\n",
        "        optimizer.step()\n",
        "        scheduler.step()\n",
        "\n",
        "        # Record metrics\n",
        "        total_loss += loss.item()\n",
        "        total += len(target)\n",
        "\n",
        "    return total_loss / total\n",
        "\n",
        "\n",
        "  def validate_epoch(model, valid_loader, input_type='bow'):\n",
        "    model.eval()\n",
        "    total_loss, total = 0, 0\n",
        "    with torch.no_grad():\n",
        "        for seq, bow, target, text in valid_loader:\n",
        "            if input_type == 'bow':\n",
        "                inputs = bow\n",
        "\n",
        "            # Forward pass\n",
        "            output = model(inputs)\n",
        "\n",
        "            # Calculate how wrong the model is\n",
        "            loss = criterion(output, target)\n",
        "\n",
        "            # Record metrics\n",
        "            total_loss += loss.item()\n",
        "            total += len(target)\n",
        "\n",
        "    return total_loss\n",
        "\n",
        "  n_epochs = 0\n",
        "  train_losses, valid_losses = [], []\n",
        "  while n_epochs <= max_epochs[i]:\n",
        "      train_loss = train_epoch(bow_model, optimizer, train_loader, input_type='bow')\n",
        "      valid_loss = validate_epoch(bow_model, valid_loader, input_type='bow')\n",
        "\n",
        "      tqdm.write(\n",
        "          f'epoch #{n_epochs + 1:3d}\\ttrain_loss: {train_loss:.2e}\\tvalid_loss: {valid_loss:.2e}\\n',\n",
        "      )\n",
        "\n",
        "      train_losses.append(train_loss)\n",
        "      valid_losses.append(valid_loss)\n",
        "\n",
        "      n_epochs += 1\n",
        "\n",
        "  # Store the results for this run\n",
        "  result_entry = {\n",
        "      'combination': f' hidden1 = {HIDDEN1}, hidden2 = {HIDDEN2}, hidden3 = {HIDDEN3},\\n  learning_rate = {LEARNING_RATE}, and epoch = {max_epochs[i]}'  ,\n",
        "      'learning_rate': learning_rate,\n",
        "      'max_epochs': max_epochs,\n",
        "      'train_losses': train_losses,\n",
        "      'valid_losses': valid_losses,\n",
        "  }\n",
        "\n",
        "  results.append(result_entry)"
      ],
      "metadata": {
        "id": "1Ted2SscZ_B0"
      },
      "execution_count": null,
      "outputs": []
    },
    {
      "cell_type": "markdown",
      "source": [
        "You can also play with `MAX_VOCAB` parameter that set the number of unique and most frequent words to include in our vocabulary. If you do so, you need to re-run some code blocks from above. Try to find which parameter configuration leads to better classification performance."
      ],
      "metadata": {
        "id": "dE3ylZ4UmP71"
      }
    },
    {
      "cell_type": "markdown",
      "source": [
        "### Here we will produce the graphs to compare the and understand the results."
      ],
      "metadata": {
        "id": "pV6o4b2ZaC-X"
      }
    },
    {
      "cell_type": "code",
      "source": [
        "for i, result in enumerate(results):\n",
        "    # Extract relevant information\n",
        "    combination = result['combination']\n",
        "    learning_rate = result['learning_rate']\n",
        "    max_epochs = result['max_epochs']\n",
        "    train_losses = result['train_losses']\n",
        "    valid_losses = result['valid_losses']\n",
        "\n",
        "    plt.figure(figsize=(10, 5))\n",
        "\n",
        "    # Plot training losses\n",
        "    plt.plot(range(1, len(train_losses) + 1), train_losses, label='Train Loss')\n",
        "    plt.title(f'Training Losses for {combination}')\n",
        "    plt.plot(range(1, len(train_losses) + 1), valid_losses, label='Valid Loss')\n",
        "    plt.title(f'Validation Losses for {combination}')\n",
        "    plt.xticks(range(1, len(train_losses) + 1))\n",
        "    plt.xlabel('Epoch')\n",
        "    plt.ylabel('Loss')\n",
        "    plt.legend()\n",
        "\n",
        "    plt.tight_layout()\n",
        "    plt.show()"
      ],
      "metadata": {
        "id": "nX4LFaXTaDWN"
      },
      "execution_count": null,
      "outputs": []
    },
    {
      "cell_type": "markdown",
      "source": [
        "### Explain the differences you see in the produced plots from your experiment. (3 Point)\n",
        "  - What does training loss mean? (0.5 point)\n",
        "  - What does validation loss mean? (0.5 point)\n",
        "  - How does adding hidden layers impact the results? (0 point)\n",
        "  - How do different parameters in each hidden layer impact the result? (0 point)\n",
        "  - How can you evaluate a model from this training and validation graphs? Describe it in your own words. (0.5 point)\n",
        "  - Can you give some intuitive explanations of overfitting and underfitting based on the graphs you produced? (0.5)\n",
        "  - How does a very small and very large learning rate impact the training and\n",
        "   validation loss? (1 point)"
      ],
      "metadata": {
        "id": "gxopnY_V1e5B"
      }
    },
    {
      "cell_type": "markdown",
      "source": [
        "\n",
        " **Your answers go here:**"
      ],
      "metadata": {
        "id": "3LRz5FPR2AlS"
      }
    },
    {
      "cell_type": "markdown",
      "metadata": {
        "id": "0hmGZdPhGUyO"
      },
      "source": [
        "# 5. Check Performance of BoW Model"
      ]
    },
    {
      "cell_type": "markdown",
      "metadata": {
        "id": "eC9W6wf__uQe"
      },
      "source": [
        "<h1>Exercise 5.1</h1> (2 Points)<br> Calculate `precision`, `recall` and `f1-score` for each of the classes. As you learned in the lecture, those are common measures to define the quality of our classifier.\n",
        "\n",
        "![](https://upload.wikimedia.org/wikipedia/commons/2/26/Precisionrecall.svg)"
      ]
    },
    {
      "cell_type": "code",
      "metadata": {
        "id": "oyUgARIFGRtQ"
      },
      "source": [
        "bow_model.eval()\n",
        "test_accuracy, n_examples = 0, 0\n",
        "y_true, y_pred = [], []\n",
        "input_type = 'bow'\n",
        "\n",
        "with torch.no_grad():\n",
        "    for seq, bow, target, text in test_loader:\n",
        "        inputs = bow\n",
        "        probs = bow_model(inputs)\n",
        "\n",
        "        probs = probs.detach().cpu().numpy()\n",
        "        predictions = np.argmax(probs, axis=1)\n",
        "        target = target.cpu().numpy()\n",
        "\n",
        "        y_true.extend(predictions)\n",
        "        y_pred.extend(target)\n",
        "\n",
        "print(classification_report(y_true, y_pred))"
      ],
      "execution_count": null,
      "outputs": []
    },
    {
      "cell_type": "markdown",
      "metadata": {
        "id": "SdUah0AkIOdq"
      },
      "source": [
        "**Let's check a few examples!**\n",
        "\n",
        "Checking them might help understand, what might still go wrong."
      ]
    },
    {
      "cell_type": "code",
      "metadata": {
        "id": "sr0faB2WIe-M"
      },
      "source": [
        "flatten = lambda x: [sublst for lst in x for sublst in lst]\n",
        "seq_lst, bow_lst, target_lst, text_lst = zip(*test_loader)\n",
        "seq_lst, bow_lst, target_lst, text_lst = map(flatten, [seq_lst, bow_lst, target_lst, text_lst])\n",
        "test_examples = list(zip(seq_lst, bow_lst, target_lst, text_lst))\n",
        "\n",
        "def print_random_prediction(model, n=4, input_type='bow'):\n",
        "    # prints prediction made by the model and the true value for n items.\n",
        "    to_emoji = lambda x: '😄' if x else '😡'\n",
        "    model.eval()\n",
        "    rows = []\n",
        "    for i in range(n):\n",
        "        with torch.no_grad():\n",
        "            seq, bow, target, text = random.choice(test_examples)\n",
        "            target = target.item()\n",
        "\n",
        "            inputs = bow\n",
        "            probs = model([inputs])\n",
        "\n",
        "            probs = probs.detach().cpu().numpy()\n",
        "            prediction = np.argmax(probs, axis=1)[0]\n",
        "\n",
        "            predicted = to_emoji(prediction)\n",
        "            actual = to_emoji(target)\n",
        "\n",
        "            row = f\"\"\"\n",
        "            <tr>\n",
        "            <td>{i+1}&nbsp;</td>\n",
        "            <td>{text}&nbsp;</td>\n",
        "            <td>{predicted}&nbsp;</td>\n",
        "            <td>{actual}&nbsp;</td>\n",
        "            </tr>\n",
        "            \"\"\"\n",
        "            rows.append(row)\n",
        "\n",
        "    rows_joined = '\\n'.join(rows)\n",
        "    table = f\"\"\"\n",
        "    <table>\n",
        "    <tbody>\n",
        "    <tr>\n",
        "    <td><b>Number</b>&nbsp;</td>\n",
        "    <td><b>Review</b>&nbsp;</td>\n",
        "    <td><b>Predicted</b>&nbsp;</td>\n",
        "    <td><b>Actual</b>&nbsp;</td>\n",
        "    </tr>{rows_joined}\n",
        "    </tbody>\n",
        "    </table>\n",
        "    \"\"\"\n",
        "    display(HTML(table))"
      ],
      "execution_count": null,
      "outputs": []
    },
    {
      "cell_type": "code",
      "metadata": {
        "id": "HPZKONRaIu_U"
      },
      "source": [
        "print_random_prediction(bow_model, n=20, input_type='bow')"
      ],
      "execution_count": null,
      "outputs": []
    },
    {
      "cell_type": "markdown",
      "source": [
        "### Final task: Using the formula, calculate **precision**, **recall** and **f1-score** for the above 20 random predictions. <br> (1.5 points)"
      ],
      "metadata": {
        "id": "ngBtgXms0oJJ"
      }
    },
    {
      "cell_type": "markdown",
      "source": [
        "**Your answer goes here.**\n",
        "\n"
      ],
      "metadata": {
        "id": "8RFpE4nb0yZz"
      }
    },
    {
      "cell_type": "markdown",
      "metadata": {
        "id": "jnuPGzZWAXHY"
      },
      "source": [
        "You are done, we hope that you learned something practical in this homework! 🎄\n"
      ]
    }
  ]
}